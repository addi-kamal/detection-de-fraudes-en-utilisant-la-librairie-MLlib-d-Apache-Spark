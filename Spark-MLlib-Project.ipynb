{
 "cells": [
  {
   "cell_type": "markdown",
   "metadata": {},
   "source": [
    "# Importing libraries"
   ]
  },
  {
   "cell_type": "code",
   "execution_count": 1,
   "metadata": {},
   "outputs": [],
   "source": [
    "from pyspark.sql import SparkSession\n",
    "spark = SparkSession.builder.appName('data_processing').getOrCreate()"
   ]
  },
  {
   "cell_type": "markdown",
   "metadata": {},
   "source": [
    "# Importing Data"
   ]
  },
  {
   "cell_type": "code",
   "execution_count": 2,
   "metadata": {},
   "outputs": [
    {
     "name": "stdout",
     "output_type": "stream",
     "text": [
      "+----+--------+--------+-----------+-------------+--------------+-----------+--------------+--------------+-------+--------------+\n",
      "|step|    type|  amount|   nameOrig|oldbalanceOrg|newbalanceOrig|   nameDest|oldbalanceDest|newbalanceDest|isFraud|isFlaggedFraud|\n",
      "+----+--------+--------+-----------+-------------+--------------+-----------+--------------+--------------+-------+--------------+\n",
      "|   1| PAYMENT| 9839.64|C1231006815|     170136.0|     160296.36|M1979787155|           0.0|           0.0|      0|             0|\n",
      "|   1| PAYMENT| 1864.28|C1666544295|      21249.0|      19384.72|M2044282225|           0.0|           0.0|      0|             0|\n",
      "|   1|TRANSFER|   181.0|C1305486145|        181.0|           0.0| C553264065|           0.0|           0.0|      1|             0|\n",
      "|   1|CASH_OUT|   181.0| C840083671|        181.0|           0.0|  C38997010|       21182.0|           0.0|      1|             0|\n",
      "|   1| PAYMENT|11668.14|C2048537720|      41554.0|      29885.86|M1230701703|           0.0|           0.0|      0|             0|\n",
      "+----+--------+--------+-----------+-------------+--------------+-----------+--------------+--------------+-------+--------------+\n",
      "only showing top 5 rows\n",
      "\n"
     ]
    }
   ],
   "source": [
    "# Load training data\n",
    "df = spark.read.option(\"header\",True).csv(\"./data/creditcard.csv\")\n",
    "\n",
    "df.show(5)"
   ]
  },
  {
   "cell_type": "code",
   "execution_count": 3,
   "metadata": {},
   "outputs": [
    {
     "data": {
      "text/plain": [
       "6362620"
      ]
     },
     "execution_count": 3,
     "metadata": {},
     "output_type": "execute_result"
    }
   ],
   "source": [
    "df.count()"
   ]
  },
  {
   "cell_type": "code",
   "execution_count": 4,
   "metadata": {},
   "outputs": [
    {
     "data": {
      "text/plain": [
       "11"
      ]
     },
     "execution_count": 4,
     "metadata": {},
     "output_type": "execute_result"
    }
   ],
   "source": [
    "len(df.columns)"
   ]
  },
  {
   "cell_type": "code",
   "execution_count": 5,
   "metadata": {},
   "outputs": [],
   "source": [
    "from pyspark.sql.functions import col\n",
    "df = df.limit(1000000)"
   ]
  },
  {
   "cell_type": "markdown",
   "metadata": {},
   "source": [
    "# Data Pre-processing "
   ]
  },
  {
   "cell_type": "code",
   "execution_count": 6,
   "metadata": {},
   "outputs": [
    {
     "data": {
      "text/plain": [
       "[('step', 'string'),\n",
       " ('type', 'string'),\n",
       " ('amount', 'string'),\n",
       " ('nameOrig', 'string'),\n",
       " ('oldbalanceOrg', 'string'),\n",
       " ('newbalanceOrig', 'string'),\n",
       " ('nameDest', 'string'),\n",
       " ('oldbalanceDest', 'string'),\n",
       " ('newbalanceDest', 'string'),\n",
       " ('isFraud', 'string'),\n",
       " ('isFlaggedFraud', 'string')]"
      ]
     },
     "execution_count": 6,
     "metadata": {},
     "output_type": "execute_result"
    }
   ],
   "source": [
    "df.dtypes"
   ]
  },
  {
   "cell_type": "code",
   "execution_count": 7,
   "metadata": {},
   "outputs": [],
   "source": [
    "from pyspark.sql.types import DoubleType\n",
    "\n",
    "df = df.withColumn(\"amount\", df.amount.cast(DoubleType()))\n",
    "df = df.withColumn(\"oldbalanceOrg\", df.oldbalanceOrg.cast(DoubleType()))\n",
    "df = df.withColumn(\"newbalanceOrig\", df.newbalanceOrig.cast(DoubleType()))\n",
    "df = df.withColumn(\"oldbalanceDest\", df.oldbalanceDest.cast(DoubleType()))\n",
    "df = df.withColumn(\"newbalanceDest\", df.newbalanceDest.cast(DoubleType()))\n",
    "df = df.withColumn(\"isFraud\", df.isFraud.cast('int'))"
   ]
  },
  {
   "cell_type": "code",
   "execution_count": 8,
   "metadata": {},
   "outputs": [
    {
     "name": "stdout",
     "output_type": "stream",
     "text": [
      "root\n",
      " |-- step: string (nullable = true)\n",
      " |-- type: string (nullable = true)\n",
      " |-- amount: double (nullable = true)\n",
      " |-- nameOrig: string (nullable = true)\n",
      " |-- oldbalanceOrg: double (nullable = true)\n",
      " |-- newbalanceOrig: double (nullable = true)\n",
      " |-- nameDest: string (nullable = true)\n",
      " |-- oldbalanceDest: double (nullable = true)\n",
      " |-- newbalanceDest: double (nullable = true)\n",
      " |-- isFraud: integer (nullable = true)\n",
      " |-- isFlaggedFraud: string (nullable = true)\n",
      "\n"
     ]
    }
   ],
   "source": [
    "df.printSchema()"
   ]
  },
  {
   "cell_type": "code",
   "execution_count": 9,
   "metadata": {},
   "outputs": [],
   "source": [
    "data = df.drop('step', 'isFlaggedFraud')"
   ]
  },
  {
   "cell_type": "code",
   "execution_count": 10,
   "metadata": {},
   "outputs": [],
   "source": [
    "# Input variables : step, type, amount, nameOrig, oldbalanceOrg, newbalanceOrig, nameDest, oldbalanceDest, newbalanceDest\n",
    "# Output Variable : isFraud"
   ]
  },
  {
   "cell_type": "markdown",
   "metadata": {},
   "source": [
    "# EDA : Feature Engineering "
   ]
  },
  {
   "cell_type": "code",
   "execution_count": 11,
   "metadata": {},
   "outputs": [
    {
     "name": "stdout",
     "output_type": "stream",
     "text": [
      "+-------+------------------+--------+------------------+-----------+------------------+------------------+-----------+------------------+------------------+-------------------+--------------+\n",
      "|summary|              step|    type|            amount|   nameOrig|     oldbalanceOrg|    newbalanceOrig|   nameDest|    oldbalanceDest|    newbalanceDest|            isFraud|isFlaggedFraud|\n",
      "+-------+------------------+--------+------------------+-----------+------------------+------------------+-----------+------------------+------------------+-------------------+--------------+\n",
      "|  count|           1000000| 1000000|           1000000|    1000000|           1000000|           1000000|    1000000|           1000000|           1000000|            1000000|       1000000|\n",
      "|   mean|         25.156387|    null|160249.92230851384|       null| 877670.2866646429| 898346.4869360499|       null| 986066.8063540653|1125661.8185545737|            5.35E-4|           0.0|\n",
      "| stddev|12.652099832907444|    null|259258.44779519632|       null|2982419.5231673685|3019325.9395476882|       null|2305423.0755312582| 2426587.034775223|0.02312389045369133|           0.0|\n",
      "|    min|                 1| CASH_IN|               0.1|C1000004530|               0.0|               0.0|C1000015936|               0.0|               0.0|                  0|             0|\n",
      "|    max|                 9|TRANSFER|             1.0E7| C999999254|     3.893942403E7|     3.894623302E7| M999996397|     4.205465973E7|     4.216915609E7|                  1|             0|\n",
      "+-------+------------------+--------+------------------+-----------+------------------+------------------+-----------+------------------+------------------+-------------------+--------------+\n",
      "\n"
     ]
    }
   ],
   "source": [
    "df.describe().show()"
   ]
  },
  {
   "cell_type": "code",
   "execution_count": 12,
   "metadata": {},
   "outputs": [
    {
     "data": {
      "text/html": [
       "<div>\n",
       "<style scoped>\n",
       "    .dataframe tbody tr th:only-of-type {\n",
       "        vertical-align: middle;\n",
       "    }\n",
       "\n",
       "    .dataframe tbody tr th {\n",
       "        vertical-align: top;\n",
       "    }\n",
       "\n",
       "    .dataframe thead th {\n",
       "        text-align: right;\n",
       "    }\n",
       "</style>\n",
       "<table border=\"1\" class=\"dataframe\">\n",
       "  <thead>\n",
       "    <tr style=\"text-align: right;\">\n",
       "      <th></th>\n",
       "      <th>summary</th>\n",
       "      <th>amount</th>\n",
       "      <th>oldbalanceOrg</th>\n",
       "      <th>newbalanceOrig</th>\n",
       "      <th>oldbalanceDest</th>\n",
       "      <th>newbalanceDest</th>\n",
       "      <th>isFraud</th>\n",
       "    </tr>\n",
       "  </thead>\n",
       "  <tbody>\n",
       "    <tr>\n",
       "      <th>0</th>\n",
       "      <td>count</td>\n",
       "      <td>1000000</td>\n",
       "      <td>1000000</td>\n",
       "      <td>1000000</td>\n",
       "      <td>1000000</td>\n",
       "      <td>1000000</td>\n",
       "      <td>1000000</td>\n",
       "    </tr>\n",
       "    <tr>\n",
       "      <th>1</th>\n",
       "      <td>mean</td>\n",
       "      <td>160249.92230851384</td>\n",
       "      <td>877670.2866646429</td>\n",
       "      <td>898346.4869360499</td>\n",
       "      <td>986066.8063540653</td>\n",
       "      <td>1125661.8185545737</td>\n",
       "      <td>5.35E-4</td>\n",
       "    </tr>\n",
       "    <tr>\n",
       "      <th>2</th>\n",
       "      <td>stddev</td>\n",
       "      <td>259258.44779519632</td>\n",
       "      <td>2982419.5231673685</td>\n",
       "      <td>3019325.9395476882</td>\n",
       "      <td>2305423.0755312582</td>\n",
       "      <td>2426587.034775223</td>\n",
       "      <td>0.02312389045369133</td>\n",
       "    </tr>\n",
       "    <tr>\n",
       "      <th>3</th>\n",
       "      <td>min</td>\n",
       "      <td>0.1</td>\n",
       "      <td>0.0</td>\n",
       "      <td>0.0</td>\n",
       "      <td>0.0</td>\n",
       "      <td>0.0</td>\n",
       "      <td>0</td>\n",
       "    </tr>\n",
       "    <tr>\n",
       "      <th>4</th>\n",
       "      <td>max</td>\n",
       "      <td>1.0E7</td>\n",
       "      <td>3.893942403E7</td>\n",
       "      <td>3.894623302E7</td>\n",
       "      <td>4.205465973E7</td>\n",
       "      <td>4.216915609E7</td>\n",
       "      <td>1</td>\n",
       "    </tr>\n",
       "  </tbody>\n",
       "</table>\n",
       "</div>"
      ],
      "text/plain": [
       "  summary              amount       oldbalanceOrg      newbalanceOrig  \\\n",
       "0   count             1000000             1000000             1000000   \n",
       "1    mean  160249.92230851384   877670.2866646429   898346.4869360499   \n",
       "2  stddev  259258.44779519632  2982419.5231673685  3019325.9395476882   \n",
       "3     min                 0.1                 0.0                 0.0   \n",
       "4     max               1.0E7       3.893942403E7       3.894623302E7   \n",
       "\n",
       "       oldbalanceDest      newbalanceDest              isFraud  \n",
       "0             1000000             1000000              1000000  \n",
       "1   986066.8063540653  1125661.8185545737              5.35E-4  \n",
       "2  2305423.0755312582   2426587.034775223  0.02312389045369133  \n",
       "3                 0.0                 0.0                    0  \n",
       "4       4.205465973E7       4.216915609E7                    1  "
      ]
     },
     "execution_count": 12,
     "metadata": {},
     "output_type": "execute_result"
    }
   ],
   "source": [
    "numeric_features = [t[0] for t in data.dtypes if t[1] == 'double' or t[1]=='int']\n",
    "df.select(numeric_features).describe().toPandas()"
   ]
  },
  {
   "cell_type": "code",
   "execution_count": 13,
   "metadata": {
    "scrolled": false
   },
   "outputs": [
    {
     "data": {
      "image/png": "[encoded data removed]",
      "text/plain": [
       "<Figure size 576x576 with 25 Axes>"
      ]
     },
     "metadata": {
      "needs_background": "light"
     },
     "output_type": "display_data"
    }
   ],
   "source": [
    "import pandas as pd\n",
    "from pandas.plotting import scatter_matrix\n",
    "\n",
    "numeric_features = ['amount', 'oldbalanceOrg',\n",
    "                    'newbalanceOrig','oldbalanceDest', \n",
    "                    'newbalanceDest']\n",
    "\n",
    "numeric_data = data.select(numeric_features).toPandas()\n",
    "axs = pd.plotting.scatter_matrix(numeric_data, figsize=(8, 8));\n",
    "n = len(numeric_data.columns)\n",
    "for i in range(n):\n",
    "    v = axs[i, 0]\n",
    "    v.yaxis.label.set_rotation(0)\n",
    "    v.yaxis.label.set_ha('right')\n",
    "    v.set_yticks(())\n",
    "    h = axs[n-1, i]\n",
    "    h.xaxis.label.set_rotation(90)\n",
    "    h.set_xticks(())"
   ]
  },
  {
   "cell_type": "code",
   "execution_count": 14,
   "metadata": {},
   "outputs": [],
   "source": [
    "data = df"
   ]
  },
  {
   "cell_type": "markdown",
   "metadata": {},
   "source": [
    "# Apply OneHotEncoder to type, nameOrig and nameDesr column"
   ]
  },
  {
   "cell_type": "code",
   "execution_count": 15,
   "metadata": {},
   "outputs": [
    {
     "name": "stdout",
     "output_type": "stream",
     "text": [
      "+----+--------+--------+-----------+-------------+--------------+-----------+--------------+--------------+-------+--------------+\n",
      "|step|    type|  amount|   nameOrig|oldbalanceOrg|newbalanceOrig|   nameDest|oldbalanceDest|newbalanceDest|isFraud|isFlaggedFraud|\n",
      "+----+--------+--------+-----------+-------------+--------------+-----------+--------------+--------------+-------+--------------+\n",
      "|   1| PAYMENT| 9839.64|C1231006815|     170136.0|     160296.36|M1979787155|           0.0|           0.0|      0|             0|\n",
      "|   1| PAYMENT| 1864.28|C1666544295|      21249.0|      19384.72|M2044282225|           0.0|           0.0|      0|             0|\n",
      "|   1|TRANSFER|   181.0|C1305486145|        181.0|           0.0| C553264065|           0.0|           0.0|      1|             0|\n",
      "|   1|CASH_OUT|   181.0| C840083671|        181.0|           0.0|  C38997010|       21182.0|           0.0|      1|             0|\n",
      "|   1| PAYMENT|11668.14|C2048537720|      41554.0|      29885.86|M1230701703|           0.0|           0.0|      0|             0|\n",
      "+----+--------+--------+-----------+-------------+--------------+-----------+--------------+--------------+-------+--------------+\n",
      "only showing top 5 rows\n",
      "\n"
     ]
    }
   ],
   "source": [
    "data.show(5)"
   ]
  },
  {
   "cell_type": "markdown",
   "metadata": {},
   "source": [
    "## type column"
   ]
  },
  {
   "cell_type": "code",
   "execution_count": 16,
   "metadata": {},
   "outputs": [
    {
     "name": "stdout",
     "output_type": "stream",
     "text": [
      "+----+--------+--------+-----------+-------------+--------------+-----------+--------------+--------------+-------+--------------+---------+\n",
      "|step|    type|  amount|   nameOrig|oldbalanceOrg|newbalanceOrig|   nameDest|oldbalanceDest|newbalanceDest|isFraud|isFlaggedFraud|typeIndex|\n",
      "+----+--------+--------+-----------+-------------+--------------+-----------+--------------+--------------+-------+--------------+---------+\n",
      "|   1| PAYMENT| 9839.64|C1231006815|     170136.0|     160296.36|M1979787155|           0.0|           0.0|      0|             0|      1.0|\n",
      "|   1| PAYMENT| 1864.28|C1666544295|      21249.0|      19384.72|M2044282225|           0.0|           0.0|      0|             0|      1.0|\n",
      "|   1|TRANSFER|   181.0|C1305486145|        181.0|           0.0| C553264065|           0.0|           0.0|      1|             0|      3.0|\n",
      "|   1|CASH_OUT|   181.0| C840083671|        181.0|           0.0|  C38997010|       21182.0|           0.0|      1|             0|      0.0|\n",
      "|   1| PAYMENT|11668.14|C2048537720|      41554.0|      29885.86|M1230701703|           0.0|           0.0|      0|             0|      1.0|\n",
      "+----+--------+--------+-----------+-------------+--------------+-----------+--------------+--------------+-------+--------------+---------+\n",
      "only showing top 5 rows\n",
      "\n"
     ]
    }
   ],
   "source": [
    "from pyspark.ml.feature import StringIndexer\n",
    "type_indexer = StringIndexer(inputCol=\"type\", outputCol=\"typeIndex\")\n",
    "#Fits a model to the input dataset with optional parameters.\n",
    "data = type_indexer.fit(data).transform(data)\n",
    "data.show(5)"
   ]
  },
  {
   "cell_type": "markdown",
   "metadata": {},
   "source": [
    "## nameOrig column"
   ]
  },
  {
   "cell_type": "code",
   "execution_count": 17,
   "metadata": {},
   "outputs": [
    {
     "name": "stdout",
     "output_type": "stream",
     "text": [
      "+----+--------+--------+-----------+-------------+--------------+-----------+--------------+--------------+-------+--------------+---------+-------------+\n",
      "|step|    type|  amount|   nameOrig|oldbalanceOrg|newbalanceOrig|   nameDest|oldbalanceDest|newbalanceDest|isFraud|isFlaggedFraud|typeIndex|nameOrigIndex|\n",
      "+----+--------+--------+-----------+-------------+--------------+-----------+--------------+--------------+-------+--------------+---------+-------------+\n",
      "|   1| PAYMENT| 9839.64|C1231006815|     170136.0|     160296.36|M1979787155|           0.0|           0.0|      0|             0|      1.0|     119517.0|\n",
      "|   1| PAYMENT| 1864.28|C1666544295|      21249.0|      19384.72|M2044282225|           0.0|           0.0|      0|             0|      1.0|     344711.0|\n",
      "|   1|TRANSFER|   181.0|C1305486145|        181.0|           0.0| C553264065|           0.0|           0.0|      1|             0|      3.0|     157686.0|\n",
      "|   1|CASH_OUT|   181.0| C840083671|        181.0|           0.0|  C38997010|       21182.0|           0.0|      1|             0|      0.0|     917174.0|\n",
      "|   1| PAYMENT|11668.14|C2048537720|      41554.0|      29885.86|M1230701703|           0.0|           0.0|      0|             0|      1.0|     541795.0|\n",
      "+----+--------+--------+-----------+-------------+--------------+-----------+--------------+--------------+-------+--------------+---------+-------------+\n",
      "only showing top 5 rows\n",
      "\n"
     ]
    }
   ],
   "source": [
    "nameOrig_indexer = StringIndexer(inputCol=\"nameOrig\", outputCol=\"nameOrigIndex\")\n",
    "#Fits a model to the input dataset with optional parameters.\n",
    "data = nameOrig_indexer.fit(data).transform(data)\n",
    "data.show(5)"
   ]
  },
  {
   "cell_type": "markdown",
   "metadata": {},
   "source": [
    "## nameOrig column"
   ]
  },
  {
   "cell_type": "code",
   "execution_count": 18,
   "metadata": {},
   "outputs": [
    {
     "name": "stdout",
     "output_type": "stream",
     "text": [
      "+----+--------+--------+-----------+-------------+--------------+-----------+--------------+--------------+-------+--------------+---------+-------------+-------------+\n",
      "|step|    type|  amount|   nameOrig|oldbalanceOrg|newbalanceOrig|   nameDest|oldbalanceDest|newbalanceDest|isFraud|isFlaggedFraud|typeIndex|nameOrigIndex|nameDestIndex|\n",
      "+----+--------+--------+-----------+-------------+--------------+-----------+--------------+--------------+-------+--------------+---------+-------------+-------------+\n",
      "|   1| PAYMENT| 9839.64|C1231006815|     170136.0|     160296.36|M1979787155|           0.0|           0.0|      0|             0|      1.0|     119517.0|     260240.0|\n",
      "|   1| PAYMENT| 1864.28|C1666544295|      21249.0|      19384.72|M2044282225|           0.0|           0.0|      0|             0|      1.0|     344711.0|     271266.0|\n",
      "|   1|TRANSFER|   181.0|C1305486145|        181.0|           0.0| C553264065|           0.0|           0.0|      1|             0|      3.0|     157686.0|       2876.0|\n",
      "|   1|CASH_OUT|   181.0| C840083671|        181.0|           0.0|  C38997010|       21182.0|           0.0|      1|             0|      0.0|     917174.0|       2454.0|\n",
      "|   1| PAYMENT|11668.14|C2048537720|      41554.0|      29885.86|M1230701703|           0.0|           0.0|      0|             0|      1.0|     541795.0|     132522.0|\n",
      "+----+--------+--------+-----------+-------------+--------------+-----------+--------------+--------------+-------+--------------+---------+-------------+-------------+\n",
      "only showing top 5 rows\n",
      "\n"
     ]
    }
   ],
   "source": [
    "nameDest_indexer = StringIndexer(inputCol=\"nameDest\", outputCol=\"nameDestIndex\")\n",
    "#Fits a model to the input dataset with optional parameters.\n",
    "data = nameDest_indexer.fit(data).transform(data)\n",
    "data.show(5)"
   ]
  },
  {
   "cell_type": "code",
   "execution_count": 19,
   "metadata": {},
   "outputs": [],
   "source": [
    "data = data.drop('type', 'nameOrig', 'nameDest')"
   ]
  },
  {
   "cell_type": "code",
   "execution_count": 20,
   "metadata": {},
   "outputs": [
    {
     "name": "stdout",
     "output_type": "stream",
     "text": [
      "+----+--------+-------------+--------------+--------------+--------------+-------+--------------+---------+-------------+-------------+\n",
      "|step|  amount|oldbalanceOrg|newbalanceOrig|oldbalanceDest|newbalanceDest|isFraud|isFlaggedFraud|typeIndex|nameOrigIndex|nameDestIndex|\n",
      "+----+--------+-------------+--------------+--------------+--------------+-------+--------------+---------+-------------+-------------+\n",
      "|   1| 9839.64|     170136.0|     160296.36|           0.0|           0.0|      0|             0|      1.0|     119517.0|     260240.0|\n",
      "|   1| 1864.28|      21249.0|      19384.72|           0.0|           0.0|      0|             0|      1.0|     344711.0|     271266.0|\n",
      "|   1|   181.0|        181.0|           0.0|           0.0|           0.0|      1|             0|      3.0|     157686.0|       2876.0|\n",
      "|   1|   181.0|        181.0|           0.0|       21182.0|           0.0|      1|             0|      0.0|     917174.0|       2454.0|\n",
      "|   1|11668.14|      41554.0|      29885.86|           0.0|           0.0|      0|             0|      1.0|     541795.0|     132522.0|\n",
      "+----+--------+-------------+--------------+--------------+--------------+-------+--------------+---------+-------------+-------------+\n",
      "only showing top 5 rows\n",
      "\n"
     ]
    }
   ],
   "source": [
    "data.show(5)"
   ]
  },
  {
   "cell_type": "markdown",
   "metadata": {},
   "source": [
    "## label column"
   ]
  },
  {
   "cell_type": "code",
   "execution_count": 21,
   "metadata": {},
   "outputs": [],
   "source": [
    "from pyspark.ml.feature import StringIndexer\n",
    "data = StringIndexer(  inputCol=\"isFraud\", outputCol=\"label\").fit(data).transform(data)"
   ]
  },
  {
   "cell_type": "code",
   "execution_count": 22,
   "metadata": {},
   "outputs": [],
   "source": [
    "from pyspark.ml.feature import VectorAssembler\n",
    "assembler = VectorAssembler(inputCols=['amount', 'oldbalanceOrg', 'oldbalanceDest', \n",
    "                                       'newbalanceDest', 'typeIndex','nameOrigIndex',\n",
    "                                       'nameDestIndex'], outputCol='features')\n",
    "data = assembler.transform(data)"
   ]
  },
  {
   "cell_type": "code",
   "execution_count": 23,
   "metadata": {},
   "outputs": [
    {
     "name": "stdout",
     "output_type": "stream",
     "text": [
      "+----+--------+-------------+--------------+--------------+--------------+-------+--------------+---------+-------------+-------------+-----+--------------------+\n",
      "|step|  amount|oldbalanceOrg|newbalanceOrig|oldbalanceDest|newbalanceDest|isFraud|isFlaggedFraud|typeIndex|nameOrigIndex|nameDestIndex|label|            features|\n",
      "+----+--------+-------------+--------------+--------------+--------------+-------+--------------+---------+-------------+-------------+-----+--------------------+\n",
      "|   1| 9839.64|     170136.0|     160296.36|           0.0|           0.0|      0|             0|      1.0|     119517.0|     260240.0|  0.0|[9839.64,170136.0...|\n",
      "|   1| 1864.28|      21249.0|      19384.72|           0.0|           0.0|      0|             0|      1.0|     344711.0|     271266.0|  0.0|[1864.28,21249.0,...|\n",
      "|   1|   181.0|        181.0|           0.0|           0.0|           0.0|      1|             0|      3.0|     157686.0|       2876.0|  1.0|[181.0,181.0,0.0,...|\n",
      "|   1|   181.0|        181.0|           0.0|       21182.0|           0.0|      1|             0|      0.0|     917174.0|       2454.0|  1.0|[181.0,181.0,2118...|\n",
      "|   1|11668.14|      41554.0|      29885.86|           0.0|           0.0|      0|             0|      1.0|     541795.0|     132522.0|  0.0|[11668.14,41554.0...|\n",
      "+----+--------+-------------+--------------+--------------+--------------+-------+--------------+---------+-------------+-------------+-----+--------------------+\n",
      "only showing top 5 rows\n",
      "\n"
     ]
    }
   ],
   "source": [
    "data.show(5)"
   ]
  },
  {
   "cell_type": "code",
   "execution_count": 24,
   "metadata": {},
   "outputs": [],
   "source": [
    "data_train, data_test = data.randomSplit([0.8, 0.2], seed=23)"
   ]
  },
  {
   "cell_type": "code",
   "execution_count": 25,
   "metadata": {},
   "outputs": [
    {
     "data": {
      "text/plain": [
       "[799338, 200662]"
      ]
     },
     "execution_count": 25,
     "metadata": {},
     "output_type": "execute_result"
    }
   ],
   "source": [
    "[data_train.count(), data_test.count()]"
   ]
  },
  {
   "cell_type": "code",
   "execution_count": 55,
   "metadata": {},
   "outputs": [],
   "source": [
    "results = {}"
   ]
  },
  {
   "cell_type": "markdown",
   "metadata": {},
   "source": [
    "# Logestic Regression :"
   ]
  },
  {
   "cell_type": "code",
   "execution_count": 26,
   "metadata": {},
   "outputs": [],
   "source": [
    "from pyspark.ml.classification import LogisticRegression\n",
    "#Create a Logistic Regression classifier.\n",
    "logistic = LogisticRegression()\n",
    "# Learn from the training data.\n",
    "logistic = logistic.fit(data_train)"
   ]
  },
  {
   "cell_type": "code",
   "execution_count": 27,
   "metadata": {},
   "outputs": [],
   "source": [
    "prediction_LR = logistic.transform(data_test)"
   ]
  },
  {
   "cell_type": "code",
   "execution_count": 28,
   "metadata": {},
   "outputs": [
    {
     "name": "stdout",
     "output_type": "stream",
     "text": [
      "+-----+----------+------+\n",
      "|label|prediction| count|\n",
      "+-----+----------+------+\n",
      "|  0.0|       0.0|200561|\n",
      "|  1.0|       0.0|    93|\n",
      "|  0.0|       1.0|     3|\n",
      "|  1.0|       1.0|     5|\n",
      "+-----+----------+------+\n",
      "\n"
     ]
    }
   ],
   "source": [
    "prediction_LR.groupBy(\"label\", \"prediction\").count().show()"
   ]
  },
  {
   "cell_type": "code",
   "execution_count": 29,
   "metadata": {},
   "outputs": [
    {
     "data": {
      "text/plain": [
       "0.9993535981580794"
      ]
     },
     "execution_count": 29,
     "metadata": {},
     "output_type": "execute_result"
    }
   ],
   "source": [
    "from pyspark.ml.evaluation import MulticlassClassificationEvaluator\n",
    "evaluator = MulticlassClassificationEvaluator()\n",
    "evaluator.evaluate(prediction_LR, {evaluator.metricName: 'weightedPrecision'})"
   ]
  },
  {
   "cell_type": "code",
   "execution_count": 30,
   "metadata": {},
   "outputs": [
    {
     "data": {
      "text/plain": [
       "DenseVector([0.0, -0.0, 0.0, -0.0, -0.0077, -0.0, -0.0])"
      ]
     },
     "execution_count": 30,
     "metadata": {},
     "output_type": "execute_result"
    }
   ],
   "source": [
    "logistic.coefficients"
   ]
  },
  {
   "cell_type": "code",
   "execution_count": 31,
   "metadata": {},
   "outputs": [
    {
     "data": {
      "image/png": "[encoded data removed]",
      "text/plain": [
       "<Figure size 432x288 with 1 Axes>"
      ]
     },
     "metadata": {
      "needs_background": "light"
     },
     "output_type": "display_data"
    }
   ],
   "source": [
    "import matplotlib.pyplot as plt\n",
    "import numpy as np\n",
    "beta = np.sort(logistic.coefficients)\n",
    "plt.plot(beta)\n",
    "plt.ylabel('Beta Coefficients')\n",
    "plt.show()"
   ]
  },
  {
   "cell_type": "code",
   "execution_count": 56,
   "metadata": {},
   "outputs": [],
   "source": [
    "results['Logestic Regression'] = evaluator.evaluate(prediction_LR, {evaluator.metricName: 'weightedPrecision'})"
   ]
  },
  {
   "cell_type": "markdown",
   "metadata": {},
   "source": [
    "# Decision Tree Classifier :"
   ]
  },
  {
   "cell_type": "code",
   "execution_count": 32,
   "metadata": {},
   "outputs": [
    {
     "name": "stdout",
     "output_type": "stream",
     "text": [
      "+----+--------+--------+-----------+-------------+--------------+-----------+--------------+--------------+-------+--------------+\n",
      "|step|    type|  amount|   nameOrig|oldbalanceOrg|newbalanceOrig|   nameDest|oldbalanceDest|newbalanceDest|isFraud|isFlaggedFraud|\n",
      "+----+--------+--------+-----------+-------------+--------------+-----------+--------------+--------------+-------+--------------+\n",
      "|   1| PAYMENT| 9839.64|C1231006815|     170136.0|     160296.36|M1979787155|           0.0|           0.0|      0|             0|\n",
      "|   1| PAYMENT| 1864.28|C1666544295|      21249.0|      19384.72|M2044282225|           0.0|           0.0|      0|             0|\n",
      "|   1|TRANSFER|   181.0|C1305486145|        181.0|           0.0| C553264065|           0.0|           0.0|      1|             0|\n",
      "|   1|CASH_OUT|   181.0| C840083671|        181.0|           0.0|  C38997010|       21182.0|           0.0|      1|             0|\n",
      "|   1| PAYMENT|11668.14|C2048537720|      41554.0|      29885.86|M1230701703|           0.0|           0.0|      0|             0|\n",
      "+----+--------+--------+-----------+-------------+--------------+-----------+--------------+--------------+-------+--------------+\n",
      "only showing top 5 rows\n",
      "\n"
     ]
    }
   ],
   "source": [
    "df.show(5)"
   ]
  },
  {
   "cell_type": "code",
   "execution_count": 33,
   "metadata": {},
   "outputs": [],
   "source": [
    "# Split our dataset between training and test datasets\n",
    "(train, test) = df.randomSplit([0.8, 0.2], seed=123)"
   ]
  },
  {
   "cell_type": "code",
   "execution_count": 34,
   "metadata": {},
   "outputs": [],
   "source": [
    "from pyspark.ml import Pipeline\n",
    "from pyspark.ml.feature import StringIndexer\n",
    "from pyspark.ml.feature import VectorAssembler\n",
    "from pyspark.ml.classification import DecisionTreeClassifier\n",
    "\n",
    "# Encodes a string column of labels to a column of label indices\n",
    "indexer = StringIndexer(inputCol = \"type\", outputCol = \"typeIndexed\")\n",
    "\n",
    "# VectorAssembler is a transformer that combines a given list of columns into a single vector column\n",
    "va = VectorAssembler(inputCols = [\"typeIndexed\", \"amount\", \"oldbalanceOrg\", \"newbalanceOrig\", \n",
    "                                  \"oldbalanceDest\", \"newbalanceDest\"], outputCol = \"features\")\n",
    "\n",
    "# Using the DecisionTree classifier model\n",
    "dt = DecisionTreeClassifier(labelCol = \"isFraud\", featuresCol = \"features\", seed = 54321, maxDepth = 5)\n",
    "\n",
    "# Create our pipeline stages\n",
    "dt_pipeline = Pipeline(stages=[indexer, va, dt])\n",
    "\n",
    "# View the Decision Tree model (prior to CrossValidator)\n",
    "dt_model = dt_pipeline.fit(train)"
   ]
  },
  {
   "cell_type": "code",
   "execution_count": 35,
   "metadata": {},
   "outputs": [],
   "source": [
    "# Make predictions.\n",
    "dt_predictions = dt_model.transform(test)"
   ]
  },
  {
   "cell_type": "code",
   "execution_count": 36,
   "metadata": {},
   "outputs": [
    {
     "name": "stdout",
     "output_type": "stream",
     "text": [
      "+--------------------+--------------+-----------+----------+\n",
      "|            features| rawPrediction|probability|prediction|\n",
      "+--------------------+--------------+-----------+----------+\n",
      "|[2.0,783.31,81503...|[443445.0,0.0]|  [1.0,0.0]|       0.0|\n",
      "|[2.0,1271.77,6973...|[443445.0,0.0]|  [1.0,0.0]|       0.0|\n",
      "|[2.0,5763.99,1276...|[443445.0,0.0]|  [1.0,0.0]|       0.0|\n",
      "|[2.0,6284.18,7858...|[443445.0,0.0]|  [1.0,0.0]|       0.0|\n",
      "|[2.0,8261.33,6501...|[443445.0,0.0]|  [1.0,0.0]|       0.0|\n",
      "+--------------------+--------------+-----------+----------+\n",
      "only showing top 5 rows\n",
      "\n"
     ]
    }
   ],
   "source": [
    "# Select example rows to display.\n",
    "dt_predictions.select('features', 'rawPrediction', 'probability', 'prediction').show(5)"
   ]
  },
  {
   "cell_type": "code",
   "execution_count": 37,
   "metadata": {},
   "outputs": [
    {
     "name": "stdout",
     "output_type": "stream",
     "text": [
      "+-------+----------+------+\n",
      "|isFraud|prediction| count|\n",
      "+-------+----------+------+\n",
      "|      0|       0.0|200461|\n",
      "|      1|       0.0|    53|\n",
      "|      1|       1.0|    61|\n",
      "|      0|       1.0|    16|\n",
      "+-------+----------+------+\n",
      "\n"
     ]
    }
   ],
   "source": [
    "dt_predictions.groupBy(\"isFraud\", \"prediction\").count().show()"
   ]
  },
  {
   "cell_type": "code",
   "execution_count": 38,
   "metadata": {},
   "outputs": [
    {
     "name": "stdout",
     "output_type": "stream",
     "text": [
      "Test Error = 0.000343984 \n",
      "DecisionTreeClassificationModel: uid=DecisionTreeClassifier_ae6195d0abff, depth=5, numNodes=21, numClasses=2, numFeatures=6\n"
     ]
    }
   ],
   "source": [
    "# Select (prediction, true label) and compute test error\n",
    "evaluator = MulticlassClassificationEvaluator(\n",
    "    labelCol=\"isFraud\", predictionCol=\"prediction\", metricName=\"accuracy\")\n",
    "accuracy = evaluator.evaluate(dt_predictions)\n",
    "print(\"Test Error = %g \" % (1.0 - accuracy))\n",
    "\n",
    "dtModel = dt_model.stages[2]\n",
    "# summary only\n",
    "print(dtModel)"
   ]
  },
  {
   "cell_type": "code",
   "execution_count": 39,
   "metadata": {},
   "outputs": [
    {
     "data": {
      "text/plain": [
       "0.9996177369282643"
      ]
     },
     "execution_count": 39,
     "metadata": {},
     "output_type": "execute_result"
    }
   ],
   "source": [
    "evaluator.evaluate(dt_predictions, {evaluator.metricName: 'weightedPrecision'})"
   ]
  },
  {
   "cell_type": "code",
   "execution_count": 58,
   "metadata": {},
   "outputs": [],
   "source": [
    "results['Decision Tree Classifier'] = evaluator.evaluate(dt_predictions, {evaluator.metricName: 'weightedPrecision'})"
   ]
  },
  {
   "cell_type": "markdown",
   "metadata": {},
   "source": [
    "# Random Forest Classifier :"
   ]
  },
  {
   "cell_type": "code",
   "execution_count": 40,
   "metadata": {},
   "outputs": [],
   "source": [
    "from pyspark.ml.classification import RandomForestClassifier\n",
    "from pyspark.ml.feature import IndexToString, StringIndexer, VectorIndexer\n",
    "\n",
    "# Train a RandomForest model.\n",
    "rf = RandomForestClassifier(labelCol=\"isFraud\", featuresCol=\"features\", numTrees=10)\n",
    "\n",
    "# Create our pipeline stages\n",
    "rf_pipeline = Pipeline(stages=[indexer, va, rf])\n",
    "\n",
    "# View the Decision Tree model (prior to CrossValidator)\n",
    "rf_model = rf_pipeline.fit(train)"
   ]
  },
  {
   "cell_type": "code",
   "execution_count": 41,
   "metadata": {},
   "outputs": [],
   "source": [
    "# Make predictions.\n",
    "rf_predictions = rf_model.transform(test)"
   ]
  },
  {
   "cell_type": "code",
   "execution_count": 42,
   "metadata": {},
   "outputs": [
    {
     "name": "stdout",
     "output_type": "stream",
     "text": [
      "+-------+----------+------+\n",
      "|isFraud|prediction| count|\n",
      "+-------+----------+------+\n",
      "|      0|       0.0|200477|\n",
      "|      1|       0.0|    82|\n",
      "|      1|       1.0|    32|\n",
      "+-------+----------+------+\n",
      "\n"
     ]
    }
   ],
   "source": [
    "rf_predictions.groupBy(\"isFraud\", \"prediction\").count().show()"
   ]
  },
  {
   "cell_type": "code",
   "execution_count": 43,
   "metadata": {},
   "outputs": [
    {
     "name": "stdout",
     "output_type": "stream",
     "text": [
      "Test Error = 0.000408792 \n",
      "RandomForestClassificationModel: uid=RandomForestClassifier_42bea6ffe925, numTrees=10, numClasses=2, numFeatures=6\n"
     ]
    }
   ],
   "source": [
    "# Select (prediction, true label) and compute test error\n",
    "evaluator = MulticlassClassificationEvaluator(\n",
    "    labelCol=\"isFraud\", predictionCol=\"prediction\", metricName=\"accuracy\")\n",
    "accuracy = evaluator.evaluate(rf_predictions)\n",
    "print(\"Test Error = %g \" % (1.0 - accuracy))\n",
    "\n",
    "rfModel = rf_model.stages[2]\n",
    "print(rfModel)  # summary only"
   ]
  },
  {
   "cell_type": "code",
   "execution_count": 44,
   "metadata": {},
   "outputs": [
    {
     "data": {
      "text/plain": [
       "0.9995913751179965"
      ]
     },
     "execution_count": 44,
     "metadata": {},
     "output_type": "execute_result"
    }
   ],
   "source": [
    "evaluator.evaluate(rf_predictions, {evaluator.metricName: 'weightedPrecision'})"
   ]
  },
  {
   "cell_type": "code",
   "execution_count": 59,
   "metadata": {},
   "outputs": [],
   "source": [
    "results['Random Forest Classifier'] = evaluator.evaluate(rf_predictions, {evaluator.metricName: 'weightedPrecision'})"
   ]
  },
  {
   "cell_type": "markdown",
   "metadata": {},
   "source": [
    "# Gradient-Boosted Tree Classifier"
   ]
  },
  {
   "cell_type": "code",
   "execution_count": 45,
   "metadata": {},
   "outputs": [],
   "source": [
    "from pyspark.ml.classification import GBTClassifier\n",
    "\n",
    "# Train a GBT model.\n",
    "gbt = GBTClassifier(labelCol=\"isFraud\", featuresCol=\"features\", maxIter=10)\n",
    "\n",
    "# Chain indexers and GBT in a Pipeline\n",
    "gbt_pipeline = Pipeline(stages=[indexer, va, gbt])\n",
    "\n",
    "# Train model.  This also runs the indexers.\n",
    "gbt_model = gbt_pipeline.fit(train)"
   ]
  },
  {
   "cell_type": "code",
   "execution_count": 46,
   "metadata": {},
   "outputs": [],
   "source": [
    "# Make predictions.\n",
    "gbt_predictions = gbt_model.transform(test)"
   ]
  },
  {
   "cell_type": "code",
   "execution_count": 47,
   "metadata": {},
   "outputs": [
    {
     "name": "stdout",
     "output_type": "stream",
     "text": [
      "+-------+----------+------+\n",
      "|isFraud|prediction| count|\n",
      "+-------+----------+------+\n",
      "|      0|       0.0|200463|\n",
      "|      1|       0.0|    53|\n",
      "|      1|       1.0|    61|\n",
      "|      0|       1.0|    14|\n",
      "+-------+----------+------+\n",
      "\n"
     ]
    }
   ],
   "source": [
    "gbt_predictions.groupBy(\"isFraud\", \"prediction\").count().show()"
   ]
  },
  {
   "cell_type": "code",
   "execution_count": 48,
   "metadata": {},
   "outputs": [
    {
     "name": "stdout",
     "output_type": "stream",
     "text": [
      "Test Error = 0.000334013 \n",
      "GBTClassificationModel: uid = GBTClassifier_83bb03deb71a, numTrees=10, numClasses=2, numFeatures=6\n"
     ]
    }
   ],
   "source": [
    "# Select (prediction, true label) and compute test error\n",
    "evaluator = MulticlassClassificationEvaluator(\n",
    "    labelCol=\"isFraud\", predictionCol=\"prediction\", metricName=\"accuracy\")\n",
    "accuracy = evaluator.evaluate(gbt_predictions)\n",
    "print(\"Test Error = %g \" % (1.0 - accuracy))\n",
    "\n",
    "gbtModel = gbt_model.stages[2]\n",
    "print(gbtModel)  # summary only"
   ]
  },
  {
   "cell_type": "code",
   "execution_count": 49,
   "metadata": {},
   "outputs": [
    {
     "data": {
      "text/plain": [
       "0.9996297456436446"
      ]
     },
     "execution_count": 49,
     "metadata": {},
     "output_type": "execute_result"
    }
   ],
   "source": [
    "evaluator.evaluate(gbt_predictions, {evaluator.metricName: 'weightedPrecision'})"
   ]
  },
  {
   "cell_type": "code",
   "execution_count": 60,
   "metadata": {},
   "outputs": [],
   "source": [
    "results['Gradient-Boosted Tree Classifier'] = evaluator.evaluate(gbt_predictions, {evaluator.metricName: 'weightedPrecision'})"
   ]
  },
  {
   "cell_type": "markdown",
   "metadata": {},
   "source": [
    "# Support Vector Machine : SVM "
   ]
  },
  {
   "cell_type": "code",
   "execution_count": 50,
   "metadata": {},
   "outputs": [],
   "source": [
    "from pyspark.ml.classification import LinearSVC\n",
    "\n",
    "lsvc = LinearSVC(labelCol=\"isFraud\", featuresCol=\"features\", maxIter=10, regParam=0.1)\n",
    "\n",
    "\n",
    "# Chain indexers and GBT in a Pipeline\n",
    "lsvc_pipeline = Pipeline(stages=[indexer, va, gbt])\n",
    "\n",
    "# Train model.  This also runs the indexers.\n",
    "lsvc_model = lsvc_pipeline.fit(train)"
   ]
  },
  {
   "cell_type": "code",
   "execution_count": 51,
   "metadata": {},
   "outputs": [],
   "source": [
    "# Make predictions.\n",
    "lsvc_predictions = lsvc_model.transform(test)"
   ]
  },
  {
   "cell_type": "code",
   "execution_count": 52,
   "metadata": {},
   "outputs": [
    {
     "name": "stdout",
     "output_type": "stream",
     "text": [
      "+-------+----------+------+\n",
      "|isFraud|prediction| count|\n",
      "+-------+----------+------+\n",
      "|      0|       0.0|200463|\n",
      "|      1|       0.0|    53|\n",
      "|      1|       1.0|    61|\n",
      "|      0|       1.0|    14|\n",
      "+-------+----------+------+\n",
      "\n"
     ]
    }
   ],
   "source": [
    "lsvc_predictions.groupBy(\"isFraud\", \"prediction\").count().show()"
   ]
  },
  {
   "cell_type": "code",
   "execution_count": 53,
   "metadata": {},
   "outputs": [
    {
     "name": "stdout",
     "output_type": "stream",
     "text": [
      "Test Error = 0.000334013 \n",
      "GBTClassificationModel: uid = GBTClassifier_83bb03deb71a, numTrees=10, numClasses=2, numFeatures=6\n"
     ]
    }
   ],
   "source": [
    "# Select (prediction, true label) and compute test error\n",
    "evaluator = MulticlassClassificationEvaluator(\n",
    "    labelCol=\"isFraud\", predictionCol=\"prediction\", metricName=\"accuracy\")\n",
    "accuracy = evaluator.evaluate(lsvc_predictions)\n",
    "print(\"Test Error = %g \" % (1.0 - accuracy))\n",
    "\n",
    "lsvcModel = lsvc_model.stages[2]\n",
    "print(lsvcModel)  # summary only"
   ]
  },
  {
   "cell_type": "code",
   "execution_count": 54,
   "metadata": {},
   "outputs": [
    {
     "data": {
      "text/plain": [
       "0.9996297456436446"
      ]
     },
     "execution_count": 54,
     "metadata": {},
     "output_type": "execute_result"
    }
   ],
   "source": [
    "evaluator.evaluate(lsvc_predictions, {evaluator.metricName: 'weightedPrecision'})"
   ]
  },
  {
   "cell_type": "code",
   "execution_count": null,
   "metadata": {},
   "outputs": [],
   "source": []
  },
  {
   "cell_type": "code",
   "execution_count": 61,
   "metadata": {},
   "outputs": [],
   "source": [
    "results['SVM'] = evaluator.evaluate(lsvc_predictions, {evaluator.metricName: 'weightedPrecision'})"
   ]
  },
  {
   "cell_type": "code",
   "execution_count": 62,
   "metadata": {},
   "outputs": [
    {
     "data": {
      "text/plain": [
       "{'Logestic Regression': 0.9993535981580794,\n",
       " 'Decision Tree Classifier': 0.9996177369282643,\n",
       " 'Random Forest Classifier': 0.9995913751179965,\n",
       " 'Gradient-Boosted Tree Classifier': 0.9996297456436446,\n",
       " 'SVM': 0.9996297456436446}"
      ]
     },
     "execution_count": 62,
     "metadata": {},
     "output_type": "execute_result"
    }
   ],
   "source": [
    "results"
   ]
  },
  {
   "cell_type": "markdown",
   "metadata": {},
   "source": [
    "# Naive Bayes"
   ]
  },
  {
   "cell_type": "code",
   "execution_count": 75,
   "metadata": {},
   "outputs": [],
   "source": [
    "from pyspark.ml.classification import NaiveBayes\n",
    "from pyspark.ml.evaluation import MulticlassClassificationEvaluator\n",
    "\n",
    "\n",
    "# create the trainer and set its parameters\n",
    "nb = NaiveBayes(labelCol=\"isFraud\", featuresCol=\"features\", smoothing=1.0, modelType=\"multinomial\")\n",
    "\n",
    "# Create our pipeline stages\n",
    "nb_pipeline = Pipeline(stages=[indexer, va, nb])\n",
    "\n",
    "# train the model\n",
    "nb_model = nb_pipeline.fit(train)"
   ]
  },
  {
   "cell_type": "code",
   "execution_count": 76,
   "metadata": {},
   "outputs": [],
   "source": [
    "# Make predictions.\n",
    "nb_predictions = nb_model.transform(test)"
   ]
  },
  {
   "cell_type": "code",
   "execution_count": 77,
   "metadata": {},
   "outputs": [
    {
     "name": "stdout",
     "output_type": "stream",
     "text": [
      "+-------+----------+------+\n",
      "|isFraud|prediction| count|\n",
      "+-------+----------+------+\n",
      "|      0|       0.0|122478|\n",
      "|      0|       1.0| 77999|\n",
      "|      1|       1.0|    97|\n",
      "|      1|       0.0|    17|\n",
      "+-------+----------+------+\n",
      "\n"
     ]
    }
   ],
   "source": [
    "nb_predictions.groupBy(\"isFraud\", \"prediction\").count().show()"
   ]
  },
  {
   "cell_type": "code",
   "execution_count": 78,
   "metadata": {},
   "outputs": [
    {
     "name": "stdout",
     "output_type": "stream",
     "text": [
      "Test Error = 0.388931 \n",
      "NaiveBayesModel: uid=NaiveBayes_c573ff5e28fe, modelType=multinomial, numClasses=2, numFeatures=6\n"
     ]
    }
   ],
   "source": [
    "# Select (prediction, true label) and compute test error\n",
    "evaluator = MulticlassClassificationEvaluator(\n",
    "    labelCol=\"isFraud\", predictionCol=\"prediction\", metricName=\"accuracy\")\n",
    "accuracy = evaluator.evaluate(nb_predictions)\n",
    "print(\"Test Error = %g \" % (1.0 - accuracy))\n",
    "\n",
    "nbModel = nb_model.stages[2]\n",
    "print(nbModel)  # summary only"
   ]
  },
  {
   "cell_type": "code",
   "execution_count": 81,
   "metadata": {},
   "outputs": [
    {
     "data": {
      "text/plain": [
       "0.9992936829737692"
      ]
     },
     "execution_count": 81,
     "metadata": {},
     "output_type": "execute_result"
    }
   ],
   "source": [
    "evaluator.evaluate(nb_predictions, {evaluator.metricName: 'weightedPrecision'})"
   ]
  },
  {
   "cell_type": "code",
   "execution_count": 84,
   "metadata": {},
   "outputs": [],
   "source": [
    "results['Naive Bayes'] = evaluator.evaluate(nb_predictions, {evaluator.metricName: 'weightedPrecision'})"
   ]
  },
  {
   "cell_type": "code",
   "execution_count": null,
   "metadata": {},
   "outputs": [],
   "source": []
  },
  {
   "cell_type": "code",
   "execution_count": 85,
   "metadata": {},
   "outputs": [
    {
     "data": {
      "text/plain": [
       "[('Gradient-Boosted Tree Classifier', 0.9996297456436446),\n",
       " ('SVM', 0.9996297456436446),\n",
       " ('Decision Tree Classifier', 0.9996177369282643),\n",
       " ('Random Forest Classifier', 0.9995913751179965),\n",
       " ('Logestic Regression', 0.9993535981580794),\n",
       " ('Naive Bayes', 0.9992936829737692)]"
      ]
     },
     "execution_count": 85,
     "metadata": {},
     "output_type": "execute_result"
    }
   ],
   "source": [
    "sort_results = sorted(results.items(), key=lambda x: x[1], reverse=True)\n",
    "sort_results"
   ]
  },
  {
   "cell_type": "markdown",
   "metadata": {},
   "source": [
    "('Gradient-Boosted Tree Classifier', 0.9996297456436446),\n",
    " \n",
    "('SVM', 0.9996297456436446),\n",
    " \n",
    "('Decision Tree Classifier', 0.9996177369282643),\n",
    " \n",
    "('Random Forest Classifier', 0.9995913751179965),\n",
    "\n",
    "('Logestic Regression', 0.9993535981580794),\n",
    "\n",
    "('Naive Bayes', 0.9992936829737692)"
   ]
  }
 ],
 "metadata": {
  "kernelspec": {
   "display_name": "Python 3",
   "language": "python",
   "name": "python3"
  },
  "language_info": {
   "codemirror_mode": {
    "name": "ipython",
    "version": 3
   },
   "file_extension": ".py",
   "mimetype": "text/x-python",
   "name": "python",
   "nbconvert_exporter": "python",
   "pygments_lexer": "ipython3",
   "version": "3.8.3"
  },
  "metadata": {
   "interpreter": {
    "hash": "31f2aee4e71d21fbe5cf8b01ff0e069b9275f58929596ceb00d14d90e3e16cd6"
   }
  }
 },
 "nbformat": 4,
 "nbformat_minor": 2
}
