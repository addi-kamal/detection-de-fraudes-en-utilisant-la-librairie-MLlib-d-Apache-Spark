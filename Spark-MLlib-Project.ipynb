{
 "cells": [
  {
   "cell_type": "markdown",
   "metadata": {},
   "source": [
    "# Importing libraries"
   ]
  },
  {
   "cell_type": "code",
   "execution_count": 2,
   "metadata": {},
   "outputs": [],
   "source": [
    "# import pyspark.sql module\n",
    "from pyspark.sql import SparkSession\n",
    "\n",
    "# Create SparkSession object\n",
    "spark = SparkSession.builder \\\n",
    "                    .master('local[*]') \\\n",
    "                    .appName('Spark Application') \\\n",
    "                    .getOrCreate()"
   ]
  },
  {
   "cell_type": "markdown",
   "metadata": {},
   "source": [
    "# Importing Data"
   ]
  },
  {
   "cell_type": "code",
   "execution_count": 3,
   "metadata": {},
   "outputs": [
    {
     "name": "stdout",
     "output_type": "stream",
     "text": [
      "+----+--------+--------+-----------+-------------+--------------+-----------+--------------+--------------+-------+--------------+\n",
      "|step|    type|  amount|   nameOrig|oldbalanceOrg|newbalanceOrig|   nameDest|oldbalanceDest|newbalanceDest|isFraud|isFlaggedFraud|\n",
      "+----+--------+--------+-----------+-------------+--------------+-----------+--------------+--------------+-------+--------------+\n",
      "|   1| PAYMENT| 9839.64|C1231006815|     170136.0|     160296.36|M1979787155|           0.0|           0.0|      0|             0|\n",
      "|   1| PAYMENT| 1864.28|C1666544295|      21249.0|      19384.72|M2044282225|           0.0|           0.0|      0|             0|\n",
      "|   1|TRANSFER|   181.0|C1305486145|        181.0|           0.0| C553264065|           0.0|           0.0|      1|             0|\n",
      "|   1|CASH_OUT|   181.0| C840083671|        181.0|           0.0|  C38997010|       21182.0|           0.0|      1|             0|\n",
      "|   1| PAYMENT|11668.14|C2048537720|      41554.0|      29885.86|M1230701703|           0.0|           0.0|      0|             0|\n",
      "+----+--------+--------+-----------+-------------+--------------+-----------+--------------+--------------+-------+--------------+\n",
      "only showing top 5 rows\n",
      "\n"
     ]
    }
   ],
   "source": [
    "# import data\n",
    "df = spark.read.csv('./data/creditcard.csv',\n",
    "                         sep=',',\n",
    "                         header=True)\n",
    "\n",
    "# View the first five records\n",
    "df.show(5)"
   ]
  },
  {
   "cell_type": "code",
   "execution_count": 4,
   "metadata": {},
   "outputs": [
    {
     "name": "stdout",
     "output_type": "stream",
     "text": [
      "The data contain 6362620 records.\n"
     ]
    }
   ],
   "source": [
    "# Get number of records\n",
    "print(\"The data contain %d records.\" % df.count())"
   ]
  },
  {
   "cell_type": "code",
   "execution_count": 5,
   "metadata": {},
   "outputs": [
    {
     "name": "stdout",
     "output_type": "stream",
     "text": [
      "The data contain 11 columns.\n"
     ]
    }
   ],
   "source": [
    "# Get number of columns\n",
    "print(\"The data contain %d columns.\" % len(df.columns))"
   ]
  },
  {
   "cell_type": "code",
   "execution_count": 6,
   "metadata": {},
   "outputs": [],
   "source": [
    "# Select randomly 1M records\n",
    "df = df.sample(False, 0.157, 42)"
   ]
  },
  {
   "cell_type": "markdown",
   "metadata": {},
   "source": [
    "# Data Pre-processing "
   ]
  },
  {
   "cell_type": "code",
   "execution_count": 7,
   "metadata": {},
   "outputs": [
    {
     "name": "stdout",
     "output_type": "stream",
     "text": [
      "+----+----+------+--------+-------------+--------------+--------+--------------+--------------+-------+--------------+\n",
      "|step|type|amount|nameOrig|oldbalanceOrg|newbalanceOrig|nameDest|oldbalanceDest|newbalanceDest|isFraud|isFlaggedFraud|\n",
      "+----+----+------+--------+-------------+--------------+--------+--------------+--------------+-------+--------------+\n",
      "|   0|   0|     0|       0|            0|             0|       0|             0|             0|      0|             0|\n",
      "+----+----+------+--------+-------------+--------------+--------+--------------+--------------+-------+--------------+\n",
      "\n"
     ]
    }
   ],
   "source": [
    "### Get count of nan or missing values\n",
    "from pyspark.sql.functions import isnan, when, count, col\n",
    "\n",
    "df.select([count(when(isnan(c), c)).alias(c) for c in df.columns]).show()"
   ]
  },
  {
   "cell_type": "markdown",
   "metadata": {},
   "source": [
    "### Observations:\n",
    "\n",
    "This dataset is clean, no missing values."
   ]
  },
  {
   "cell_type": "code",
   "execution_count": 8,
   "metadata": {},
   "outputs": [
    {
     "name": "stdout",
     "output_type": "stream",
     "text": [
      "root\n",
      " |-- step: string (nullable = true)\n",
      " |-- type: string (nullable = true)\n",
      " |-- amount: string (nullable = true)\n",
      " |-- nameOrig: string (nullable = true)\n",
      " |-- oldbalanceOrg: string (nullable = true)\n",
      " |-- newbalanceOrig: string (nullable = true)\n",
      " |-- nameDest: string (nullable = true)\n",
      " |-- oldbalanceDest: string (nullable = true)\n",
      " |-- newbalanceDest: string (nullable = true)\n",
      " |-- isFraud: string (nullable = true)\n",
      " |-- isFlaggedFraud: string (nullable = true)\n",
      "\n"
     ]
    }
   ],
   "source": [
    "# Schema of the data\n",
    "df.printSchema()"
   ]
  },
  {
   "cell_type": "code",
   "execution_count": 9,
   "metadata": {},
   "outputs": [],
   "source": [
    "from pyspark.sql.types import DoubleType\n",
    "\n",
    "df = df.withColumn(\"step\", df.step.cast(DoubleType()))\n",
    "df = df.withColumn(\"amount\", df.amount.cast(DoubleType()))\n",
    "df = df.withColumn(\"oldbalanceOrg\", df.oldbalanceOrg.cast(DoubleType()))\n",
    "df = df.withColumn(\"newbalanceOrig\", df.newbalanceOrig.cast(DoubleType()))\n",
    "df = df.withColumn(\"oldbalanceDest\", df.oldbalanceDest.cast(DoubleType()))\n",
    "df = df.withColumn(\"newbalanceDest\", df.newbalanceDest.cast(DoubleType()))\n",
    "df = df.withColumn(\"isFraud\", df.isFraud.cast('int'))"
   ]
  },
  {
   "cell_type": "code",
   "execution_count": 10,
   "metadata": {},
   "outputs": [
    {
     "data": {
      "text/plain": [
       "[('step', 'double'),\n",
       " ('type', 'string'),\n",
       " ('amount', 'double'),\n",
       " ('nameOrig', 'string'),\n",
       " ('oldbalanceOrg', 'double'),\n",
       " ('newbalanceOrig', 'double'),\n",
       " ('nameDest', 'string'),\n",
       " ('oldbalanceDest', 'double'),\n",
       " ('newbalanceDest', 'double'),\n",
       " ('isFraud', 'int'),\n",
       " ('isFlaggedFraud', 'string')]"
      ]
     },
     "execution_count": 10,
     "metadata": {},
     "output_type": "execute_result"
    }
   ],
   "source": [
    "# Check column data types\n",
    "df.dtypes"
   ]
  },
  {
   "cell_type": "code",
   "execution_count": 11,
   "metadata": {},
   "outputs": [],
   "source": [
    "df = df.drop('isFlaggedFraud')"
   ]
  },
  {
   "cell_type": "code",
   "execution_count": 12,
   "metadata": {},
   "outputs": [],
   "source": [
    "# Input variables : step, type, amount, nameOrig, oldbalanceOrg, newbalanceOrig, nameDest, oldbalanceDest, newbalanceDest\n",
    "# Output Variable : isFraud"
   ]
  },
  {
   "cell_type": "markdown",
   "metadata": {},
   "source": [
    "# EDA : Feature Engineering "
   ]
  },
  {
   "cell_type": "code",
   "execution_count": 13,
   "metadata": {},
   "outputs": [
    {
     "name": "stdout",
     "output_type": "stream",
     "text": [
      "+-------+------------------+--------+-----------------+-----------+-----------------+-----------------+-----------+-----------------+------------------+--------------------+\n",
      "|summary|              step|    type|           amount|   nameOrig|    oldbalanceOrg|   newbalanceOrig|   nameDest|   oldbalanceDest|    newbalanceDest|             isFraud|\n",
      "+-------+------------------+--------+-----------------+-----------+-----------------+-----------------+-----------+-----------------+------------------+--------------------+\n",
      "|  count|           1000080| 1000080|          1000080|    1000080|          1000080|          1000080|    1000080|          1000080|           1000080|             1000080|\n",
      "|   mean|243.25682345412366|    null|180017.5484425851|       null|833290.2638769192|854371.0914694715|       null|1109166.698026399|1234249.1053278393|0.001265898728101752|\n",
      "| stddev|142.32584821218623|    null|593383.8581626411|       null|2894588.332097965|2929964.784413958|       null|3497349.672498992| 3771873.894500269| 0.03555696124120139|\n",
      "|    min|               1.0| CASH_IN|              0.0|C1000001337|              0.0|              0.0|C1000004082|              0.0|               0.0|                   0|\n",
      "|    max|             743.0|TRANSFER|    7.382349036E7| C999996950|    5.958504037E7|    4.958504037E7| M999996397|   3.5538143361E8|     3.555534163E8|                   1|\n",
      "+-------+------------------+--------+-----------------+-----------+-----------------+-----------------+-----------+-----------------+------------------+--------------------+\n",
      "\n"
     ]
    }
   ],
   "source": [
    "df.describe().show()"
   ]
  },
  {
   "cell_type": "code",
   "execution_count": 14,
   "metadata": {},
   "outputs": [
    {
     "data": {
      "text/html": [
       "<div>\n",
       "<style scoped>\n",
       "    .dataframe tbody tr th:only-of-type {\n",
       "        vertical-align: middle;\n",
       "    }\n",
       "\n",
       "    .dataframe tbody tr th {\n",
       "        vertical-align: top;\n",
       "    }\n",
       "\n",
       "    .dataframe thead th {\n",
       "        text-align: right;\n",
       "    }\n",
       "</style>\n",
       "<table border=\"1\" class=\"dataframe\">\n",
       "  <thead>\n",
       "    <tr style=\"text-align: right;\">\n",
       "      <th></th>\n",
       "      <th>summary</th>\n",
       "      <th>step</th>\n",
       "      <th>amount</th>\n",
       "      <th>oldbalanceOrg</th>\n",
       "      <th>newbalanceOrig</th>\n",
       "      <th>oldbalanceDest</th>\n",
       "      <th>newbalanceDest</th>\n",
       "      <th>isFraud</th>\n",
       "    </tr>\n",
       "  </thead>\n",
       "  <tbody>\n",
       "    <tr>\n",
       "      <th>0</th>\n",
       "      <td>count</td>\n",
       "      <td>1000080</td>\n",
       "      <td>1000080</td>\n",
       "      <td>1000080</td>\n",
       "      <td>1000080</td>\n",
       "      <td>1000080</td>\n",
       "      <td>1000080</td>\n",
       "      <td>1000080</td>\n",
       "    </tr>\n",
       "    <tr>\n",
       "      <th>1</th>\n",
       "      <td>mean</td>\n",
       "      <td>243.25682345412366</td>\n",
       "      <td>180017.5484425851</td>\n",
       "      <td>833290.2638769192</td>\n",
       "      <td>854371.0914694715</td>\n",
       "      <td>1109166.698026399</td>\n",
       "      <td>1234249.1053278393</td>\n",
       "      <td>0.001265898728101752</td>\n",
       "    </tr>\n",
       "    <tr>\n",
       "      <th>2</th>\n",
       "      <td>stddev</td>\n",
       "      <td>142.32584821218623</td>\n",
       "      <td>593383.8581626411</td>\n",
       "      <td>2894588.332097965</td>\n",
       "      <td>2929964.784413958</td>\n",
       "      <td>3497349.672498992</td>\n",
       "      <td>3771873.894500269</td>\n",
       "      <td>0.03555696124120139</td>\n",
       "    </tr>\n",
       "    <tr>\n",
       "      <th>3</th>\n",
       "      <td>min</td>\n",
       "      <td>1.0</td>\n",
       "      <td>0.0</td>\n",
       "      <td>0.0</td>\n",
       "      <td>0.0</td>\n",
       "      <td>0.0</td>\n",
       "      <td>0.0</td>\n",
       "      <td>0</td>\n",
       "    </tr>\n",
       "    <tr>\n",
       "      <th>4</th>\n",
       "      <td>max</td>\n",
       "      <td>743.0</td>\n",
       "      <td>7.382349036E7</td>\n",
       "      <td>5.958504037E7</td>\n",
       "      <td>4.958504037E7</td>\n",
       "      <td>3.5538143361E8</td>\n",
       "      <td>3.555534163E8</td>\n",
       "      <td>1</td>\n",
       "    </tr>\n",
       "  </tbody>\n",
       "</table>\n",
       "</div>"
      ],
      "text/plain": [
       "  summary                step             amount      oldbalanceOrg  \\\n",
       "0   count             1000080            1000080            1000080   \n",
       "1    mean  243.25682345412366  180017.5484425851  833290.2638769192   \n",
       "2  stddev  142.32584821218623  593383.8581626411  2894588.332097965   \n",
       "3     min                 1.0                0.0                0.0   \n",
       "4     max               743.0      7.382349036E7      5.958504037E7   \n",
       "\n",
       "      newbalanceOrig     oldbalanceDest      newbalanceDest  \\\n",
       "0            1000080            1000080             1000080   \n",
       "1  854371.0914694715  1109166.698026399  1234249.1053278393   \n",
       "2  2929964.784413958  3497349.672498992   3771873.894500269   \n",
       "3                0.0                0.0                 0.0   \n",
       "4      4.958504037E7     3.5538143361E8       3.555534163E8   \n",
       "\n",
       "                isFraud  \n",
       "0               1000080  \n",
       "1  0.001265898728101752  \n",
       "2   0.03555696124120139  \n",
       "3                     0  \n",
       "4                     1  "
      ]
     },
     "execution_count": 14,
     "metadata": {},
     "output_type": "execute_result"
    }
   ],
   "source": [
    "numeric_features = [t[0] for t in df.dtypes if t[1] == 'double' or t[1]=='int']\n",
    "df.select(numeric_features).describe().toPandas()"
   ]
  },
  {
   "cell_type": "code",
   "execution_count": 15,
   "metadata": {},
   "outputs": [
    {
     "name": "stdout",
     "output_type": "stream",
     "text": [
      "+-------+------+\n",
      "|isFraud| count|\n",
      "+-------+------+\n",
      "|      1|  1266|\n",
      "|      0|998814|\n",
      "+-------+------+\n",
      "\n"
     ]
    }
   ],
   "source": [
    "df.groupBy(\"isFraud\").count().show()"
   ]
  },
  {
   "cell_type": "code",
   "execution_count": 16,
   "metadata": {},
   "outputs": [
    {
     "name": "stdout",
     "output_type": "stream",
     "text": [
      "Distribution of the Classes in the dataset\n",
      "0    0.998734\n",
      "1    0.001266\n",
      "Name: isFraud, dtype: float64\n"
     ]
    }
   ],
   "source": [
    "import seaborn as sns\n",
    "from matplotlib import pyplot as plt\n",
    "pd_df = df.toPandas()\n",
    "print('Distribution of the Classes in the dataset')\n",
    "print(pd_df['isFraud'].value_counts()/len(pd_df))"
   ]
  },
  {
   "cell_type": "code",
   "execution_count": 17,
   "metadata": {},
   "outputs": [
    {
     "data": {
      "image/png": "[encoded data removed]",
      "text/plain": [
       "<Figure size 1152x432 with 2 Axes>"
      ]
     },
     "metadata": {
      "needs_background": "light"
     },
     "output_type": "display_data"
    }
   ],
   "source": [
    "# fraudulent transactions\n",
    "plt.subplots(1,2, figsize=(16,6))\n",
    "\n",
    "# countplot to visualize the no. of observations under each class\n",
    "plt.subplot(1,2,1)\n",
    "ax = pd_df['isFraud'].value_counts().plot(kind='bar')\n",
    "plt.xlabel('Transaction Type', fontsize=15, fontweight='bold')\n",
    "plt.xticks(ticks=[0,1], labels=['Non-Fraud','Fraud'], rotation=0, fontsize=12, fontweight='bold')\n",
    "plt.ylabel('No. of observations (Millions)', fontsize=15, fontweight='bold')\n",
    "plt.yticks(fontsize=12, fontweight='bold')\n",
    "plt.title('No. of obervations in each class', fontsize=18, fontweight='bold')\n",
    "for i in ax.patches:\n",
    "    ax.text(i.get_x()+0.1, i.get_height()+3, str(round(i.get_height(), 2)), fontsize=15, color='black')\n",
    "\n",
    "# pie chart to visualize the percentage distribution of each class\n",
    "plt.subplot(1,2,2)\n",
    "plt.pie(pd_df['isFraud'].value_counts(), labels=['Fraud','Non-Fraud'], autopct='%.2f')\n",
    "plt.title('Percentage distribution of each class', fontsize=18, fontweight='bold')\n",
    "\n",
    "# display plot\n",
    "plt.show()"
   ]
  },
  {
   "cell_type": "markdown",
   "metadata": {},
   "source": [
    "### Observations:\n",
    "\n",
    "Fraudulent transaction observations are only 8,213 (0.13%). Fraud is rare."
   ]
  },
  {
   "cell_type": "code",
   "execution_count": 18,
   "metadata": {
    "scrolled": false
   },
   "outputs": [
    {
     "data": {
      "image/png": "[encoded data removed]",
      "text/plain": [
       "<Figure size 864x432 with 1 Axes>"
      ]
     },
     "metadata": {
      "needs_background": "light"
     },
     "output_type": "display_data"
    }
   ],
   "source": [
    "plt.subplots(figsize=(12,6))\n",
    "sns.countplot('type', data=pd_df)\n",
    "plt.xlabel('Type of Transaction', fontsize=15, fontweight='bold')\n",
    "plt.xticks(fontsize=12, fontweight='bold')\n",
    "plt.ylabel('No. of transactions', fontsize=15, fontweight='bold')\n",
    "plt.yticks(fontsize=12, fontweight='bold')\n",
    "plt.title('Distribution  of transactions by type', fontsize=15, fontweight='bold')\n",
    "plt.show()"
   ]
  },
  {
   "cell_type": "code",
   "execution_count": 19,
   "metadata": {},
   "outputs": [
    {
     "data": {
      "image/png": "[encoded data removed]",
      "text/plain": [
       "<Figure size 504x432 with 1 Axes>"
      ]
     },
     "metadata": {
      "needs_background": "light"
     },
     "output_type": "display_data"
    }
   ],
   "source": [
    "plt.subplots(figsize=(7,6))\n",
    "fr_df = pd_df[pd_df['isFraud'] == 1]\n",
    "ax =sns.countplot('type', data=fr_df)\n",
    "for i in ax.patches:\n",
    "    ax.text(i.get_x()+0.1, i.get_height()+3, str(round(i.get_height(), 2)), fontsize=15, color='black')\n",
    "plt.xlabel('Type of Transaction', fontsize=15, fontweight='bold')\n",
    "plt.xticks(fontsize=12, fontweight='bold')\n",
    "plt.ylabel('No. of fraudulent transactions', fontsize=15, fontweight='bold')\n",
    "plt.yticks(fontsize=12, fontweight='bold')\n",
    "plt.title('No. of fraudulent transactions by type', fontsize=15, fontweight='bold')\n",
    "plt.show()"
   ]
  },
  {
   "cell_type": "code",
   "execution_count": 20,
   "metadata": {},
   "outputs": [
    {
     "name": "stdout",
     "output_type": "stream",
     "text": [
      "CASH_OUT    0.50237\n",
      "TRANSFER    0.49763\n",
      "Name: type, dtype: float64\n"
     ]
    }
   ],
   "source": [
    "print(fr_df['type'].value_counts()/len(fr_df))"
   ]
  },
  {
   "cell_type": "markdown",
   "metadata": {},
   "source": [
    "Nous pouvons observer que les transactions frauduleuses sont uniquement des retraits (cash_out) et des virements (transfer) avec des taux de fraude de 0.5% pour chacun d'entre eux."
   ]
  },
  {
   "cell_type": "code",
   "execution_count": 21,
   "metadata": {},
   "outputs": [
    {
     "data": {
      "image/png": "[encoded data removed]",
      "text/plain": [
       "<Figure size 576x576 with 36 Axes>"
      ]
     },
     "metadata": {
      "needs_background": "light"
     },
     "output_type": "display_data"
    }
   ],
   "source": [
    "import pandas as pd\n",
    "from pandas.plotting import scatter_matrix\n",
    "\n",
    "numeric_features = ['step', 'amount', 'oldbalanceOrg',\n",
    "                    'newbalanceOrig','oldbalanceDest', \n",
    "                    'newbalanceDest']\n",
    "\n",
    "numeric_data = df.select(numeric_features).toPandas()\n",
    "axs = pd.plotting.scatter_matrix(numeric_data, figsize=(8, 8));\n",
    "n = len(numeric_data.columns)\n",
    "for i in range(n):\n",
    "    v = axs[i, 0]\n",
    "    v.yaxis.label.set_rotation(0)\n",
    "    v.yaxis.label.set_ha('right')\n",
    "    v.set_yticks(())\n",
    "    h = axs[n-1, i]\n",
    "    h.xaxis.label.set_rotation(90)\n",
    "    h.set_xticks(())"
   ]
  },
  {
   "cell_type": "code",
   "execution_count": 23,
   "metadata": {},
   "outputs": [
    {
     "data": {
      "image/png": "[encoded data removed]",
      "text/plain": [
       "<Figure size 1296x576 with 2 Axes>"
      ]
     },
     "metadata": {
      "needs_background": "light"
     },
     "output_type": "display_data"
    }
   ],
   "source": [
    "# we can check the important parameters that could effect our model.\n",
    "f, ax = plt.subplots(figsize=(18,8))\n",
    "\n",
    "sub_sample_corr = pd_df.corr()\n",
    "sns.heatmap(sub_sample_corr, cmap='coolwarm_r', annot_kws={'size':20}, ax=ax)\n",
    "ax.set_title('Correlation Matrix', fontsize=14)\n",
    "plt.show()"
   ]
  },
  {
   "cell_type": "markdown",
   "metadata": {},
   "source": [
    "Il n'y a pas de corrélations visibles entre les variables."
   ]
  },
  {
   "cell_type": "markdown",
   "metadata": {},
   "source": [
    "# Data Pre-processing :"
   ]
  },
  {
   "cell_type": "code",
   "execution_count": 136,
   "metadata": {},
   "outputs": [],
   "source": [
    "data = df"
   ]
  },
  {
   "cell_type": "code",
   "execution_count": 138,
   "metadata": {},
   "outputs": [
    {
     "name": "stdout",
     "output_type": "stream",
     "text": [
      "+----+--------+-------+-----------+-------------+--------------+-----------+--------------+--------------+-------+\n",
      "|step|    type| amount|   nameOrig|oldbalanceOrg|newbalanceOrig|   nameDest|oldbalanceDest|newbalanceDest|isFraud|\n",
      "+----+--------+-------+-----------+-------------+--------------+-----------+--------------+--------------+-------+\n",
      "| 1.0| PAYMENT|7861.64|C1912850431|    176087.23|     168225.59| M633326333|           0.0|           0.0|      0|\n",
      "| 1.0| PAYMENT|1563.82| C761750706|        450.0|           0.0|M1731217984|           0.0|           0.0|      0|\n",
      "| 1.0| PAYMENT| 671.64|C2033524545|      15123.0|      14451.36| M473053293|           0.0|           0.0|      0|\n",
      "| 1.0|CASH_OUT|5346.89| C512549200|          0.0|           0.0| C248609774|      652637.0|    6453430.91|      0|\n",
      "| 1.0| PAYMENT|2641.47| C460570271|      23053.0|      20411.53|M1653361344|           0.0|           0.0|      0|\n",
      "+----+--------+-------+-----------+-------------+--------------+-----------+--------------+--------------+-------+\n",
      "only showing top 5 rows\n",
      "\n"
     ]
    }
   ],
   "source": [
    "data.show(5)"
   ]
  },
  {
   "cell_type": "code",
   "execution_count": 139,
   "metadata": {},
   "outputs": [
    {
     "name": "stdout",
     "output_type": "stream",
     "text": [
      "+--------+-----------+-----------+\n",
      "|    type|   nameOrig|   nameDest|\n",
      "+--------+-----------+-----------+\n",
      "| PAYMENT|C1912850431| M633326333|\n",
      "| PAYMENT| C761750706|M1731217984|\n",
      "| PAYMENT|C2033524545| M473053293|\n",
      "|CASH_OUT| C512549200| C248609774|\n",
      "| PAYMENT| C460570271|M1653361344|\n",
      "+--------+-----------+-----------+\n",
      "only showing top 5 rows\n",
      "\n"
     ]
    }
   ],
   "source": [
    "data['type', 'nameOrig', 'nameDest'].show(5)"
   ]
  },
  {
   "cell_type": "markdown",
   "metadata": {},
   "source": [
    "## separate nameOrig and nameDest :"
   ]
  },
  {
   "cell_type": "code",
   "execution_count": 140,
   "metadata": {},
   "outputs": [
    {
     "name": "stdout",
     "output_type": "stream",
     "text": [
      "+----+--------+-------+-------------+--------------+-----------+--------------+--------------+-------+--------+----------+\n",
      "|step|    type| amount|oldbalanceOrg|newbalanceOrig|   nameDest|oldbalanceDest|newbalanceDest|isFraud|str_orig|  num_orig|\n",
      "+----+--------+-------+-------------+--------------+-----------+--------------+--------------+-------+--------+----------+\n",
      "| 1.0| PAYMENT|7861.64|    176087.23|     168225.59| M633326333|           0.0|           0.0|      0|       C|1912850431|\n",
      "| 1.0| PAYMENT|1563.82|        450.0|           0.0|M1731217984|           0.0|           0.0|      0|       C| 761750706|\n",
      "| 1.0| PAYMENT| 671.64|      15123.0|      14451.36| M473053293|           0.0|           0.0|      0|       C|2033524545|\n",
      "| 1.0|CASH_OUT|5346.89|          0.0|           0.0| C248609774|      652637.0|    6453430.91|      0|       C| 512549200|\n",
      "| 1.0| PAYMENT|2641.47|      23053.0|      20411.53|M1653361344|           0.0|           0.0|      0|       C| 460570271|\n",
      "+----+--------+-------+-------------+--------------+-----------+--------------+--------------+-------+--------+----------+\n",
      "only showing top 5 rows\n",
      "\n"
     ]
    }
   ],
   "source": [
    "import pyspark.sql.functions as F\n",
    "\n",
    "data = (\n",
    "    data.withColumn('str_orig', substring('nameOrig', 1,1))\n",
    "    .withColumn('num_orig', F.col('nameOrig').substr(F.lit(2), F.length('nameOrig') - F.lit(1)))\n",
    ")\n",
    "data = data.drop('nameOrig')\n",
    "# show df\n",
    "data.show(5)"
   ]
  },
  {
   "cell_type": "code",
   "execution_count": 141,
   "metadata": {},
   "outputs": [],
   "source": [
    "data = data.withColumn(\"num_orig\", data.num_orig.cast(DoubleType()))"
   ]
  },
  {
   "cell_type": "code",
   "execution_count": 142,
   "metadata": {},
   "outputs": [
    {
     "name": "stdout",
     "output_type": "stream",
     "text": [
      "+----+--------+-------+-------------+--------------+--------------+--------------+-------+--------+-------------+--------+----------+\n",
      "|step|    type| amount|oldbalanceOrg|newbalanceOrig|oldbalanceDest|newbalanceDest|isFraud|str_orig|     num_orig|str_dest|  num_dest|\n",
      "+----+--------+-------+-------------+--------------+--------------+--------------+-------+--------+-------------+--------+----------+\n",
      "| 1.0| PAYMENT|7861.64|    176087.23|     168225.59|           0.0|           0.0|      0|       C|1.912850431E9|       M| 633326333|\n",
      "| 1.0| PAYMENT|1563.82|        450.0|           0.0|           0.0|           0.0|      0|       C| 7.61750706E8|       M|1731217984|\n",
      "| 1.0| PAYMENT| 671.64|      15123.0|      14451.36|           0.0|           0.0|      0|       C|2.033524545E9|       M| 473053293|\n",
      "| 1.0|CASH_OUT|5346.89|          0.0|           0.0|      652637.0|    6453430.91|      0|       C|   5.125492E8|       C| 248609774|\n",
      "| 1.0| PAYMENT|2641.47|      23053.0|      20411.53|           0.0|           0.0|      0|       C| 4.60570271E8|       M|1653361344|\n",
      "+----+--------+-------+-------------+--------------+--------------+--------------+-------+--------+-------------+--------+----------+\n",
      "only showing top 5 rows\n",
      "\n"
     ]
    }
   ],
   "source": [
    "import pyspark.sql.functions as F\n",
    "\n",
    "data = (\n",
    "    data.withColumn('str_dest', substring('nameDest', 1,1))\n",
    "    .withColumn('num_dest', F.col('nameDest').substr(F.lit(2), F.length('nameDest') - F.lit(1)))\n",
    ")\n",
    "data = data.drop('nameDest')\n",
    "# show df\n",
    "data.show(5)"
   ]
  },
  {
   "cell_type": "code",
   "execution_count": 143,
   "metadata": {},
   "outputs": [],
   "source": [
    "data = data.withColumn(\"num_dest\", data.num_orig.cast(DoubleType()))"
   ]
  },
  {
   "cell_type": "code",
   "execution_count": 144,
   "metadata": {},
   "outputs": [
    {
     "data": {
      "text/plain": [
       "[('step', 'double'),\n",
       " ('type', 'string'),\n",
       " ('amount', 'double'),\n",
       " ('oldbalanceOrg', 'double'),\n",
       " ('newbalanceOrig', 'double'),\n",
       " ('oldbalanceDest', 'double'),\n",
       " ('newbalanceDest', 'double'),\n",
       " ('isFraud', 'int'),\n",
       " ('str_orig', 'string'),\n",
       " ('num_orig', 'double'),\n",
       " ('str_dest', 'string'),\n",
       " ('num_dest', 'double')]"
      ]
     },
     "execution_count": 144,
     "metadata": {},
     "output_type": "execute_result"
    }
   ],
   "source": [
    "data.dtypes"
   ]
  },
  {
   "cell_type": "markdown",
   "metadata": {},
   "source": [
    "## Apply OneHotEncoder to type, str_orig and str_dest columns"
   ]
  },
  {
   "cell_type": "markdown",
   "metadata": {},
   "source": [
    "### type column :"
   ]
  },
  {
   "cell_type": "code",
   "execution_count": 145,
   "metadata": {},
   "outputs": [
    {
     "name": "stdout",
     "output_type": "stream",
     "text": [
      "+----+-------+-------------+--------------+--------------+--------------+-------+--------+-------------+--------+-------------+---------+\n",
      "|step| amount|oldbalanceOrg|newbalanceOrig|oldbalanceDest|newbalanceDest|isFraud|str_orig|     num_orig|str_dest|     num_dest|typeIndex|\n",
      "+----+-------+-------------+--------------+--------------+--------------+-------+--------+-------------+--------+-------------+---------+\n",
      "| 1.0|7861.64|    176087.23|     168225.59|           0.0|           0.0|      0|       C|1.912850431E9|       M|1.912850431E9|      1.0|\n",
      "| 1.0|1563.82|        450.0|           0.0|           0.0|           0.0|      0|       C| 7.61750706E8|       M| 7.61750706E8|      1.0|\n",
      "| 1.0| 671.64|      15123.0|      14451.36|           0.0|           0.0|      0|       C|2.033524545E9|       M|2.033524545E9|      1.0|\n",
      "| 1.0|5346.89|          0.0|           0.0|      652637.0|    6453430.91|      0|       C|   5.125492E8|       C|   5.125492E8|      0.0|\n",
      "| 1.0|2641.47|      23053.0|      20411.53|           0.0|           0.0|      0|       C| 4.60570271E8|       M| 4.60570271E8|      1.0|\n",
      "+----+-------+-------------+--------------+--------------+--------------+-------+--------+-------------+--------+-------------+---------+\n",
      "only showing top 5 rows\n",
      "\n"
     ]
    }
   ],
   "source": [
    "from pyspark.ml.feature import StringIndexer\n",
    "type_indexer = StringIndexer(inputCol=\"type\", outputCol=\"typeIndex\")\n",
    "#Fits a model to the input dataset with optional parameters.\n",
    "data = type_indexer.fit(data).transform(data)\n",
    "data = data.drop('type')\n",
    "data.show(5)"
   ]
  },
  {
   "cell_type": "code",
   "execution_count": 146,
   "metadata": {},
   "outputs": [
    {
     "name": "stdout",
     "output_type": "stream",
     "text": [
      "+---------+------+\n",
      "|typeIndex| count|\n",
      "+---------+------+\n",
      "|      0.0|352430|\n",
      "|      1.0|337900|\n",
      "|      4.0|  6458|\n",
      "|      3.0| 84157|\n",
      "|      2.0|219135|\n",
      "+---------+------+\n",
      "\n"
     ]
    }
   ],
   "source": [
    "data.groupBy(\"typeIndex\").count().show()"
   ]
  },
  {
   "cell_type": "markdown",
   "metadata": {},
   "source": [
    "### str_orig column :"
   ]
  },
  {
   "cell_type": "code",
   "execution_count": 147,
   "metadata": {},
   "outputs": [
    {
     "name": "stdout",
     "output_type": "stream",
     "text": [
      "+----+-------+-------------+--------------+--------------+--------------+-------+-------------+--------+-------------+---------+-------------+\n",
      "|step| amount|oldbalanceOrg|newbalanceOrig|oldbalanceDest|newbalanceDest|isFraud|     num_orig|str_dest|     num_dest|typeIndex|nameOrigIndex|\n",
      "+----+-------+-------------+--------------+--------------+--------------+-------+-------------+--------+-------------+---------+-------------+\n",
      "| 1.0|7861.64|    176087.23|     168225.59|           0.0|           0.0|      0|1.912850431E9|       M|1.912850431E9|      1.0|          0.0|\n",
      "| 1.0|1563.82|        450.0|           0.0|           0.0|           0.0|      0| 7.61750706E8|       M| 7.61750706E8|      1.0|          0.0|\n",
      "| 1.0| 671.64|      15123.0|      14451.36|           0.0|           0.0|      0|2.033524545E9|       M|2.033524545E9|      1.0|          0.0|\n",
      "| 1.0|5346.89|          0.0|           0.0|      652637.0|    6453430.91|      0|   5.125492E8|       C|   5.125492E8|      0.0|          0.0|\n",
      "| 1.0|2641.47|      23053.0|      20411.53|           0.0|           0.0|      0| 4.60570271E8|       M| 4.60570271E8|      1.0|          0.0|\n",
      "+----+-------+-------------+--------------+--------------+--------------+-------+-------------+--------+-------------+---------+-------------+\n",
      "only showing top 5 rows\n",
      "\n"
     ]
    }
   ],
   "source": [
    "nameOrig_indexer = StringIndexer(inputCol=\"str_orig\", outputCol=\"nameOrigIndex\")\n",
    "#Fits a model to the input dataset with optional parameters.\n",
    "data = nameOrig_indexer.fit(data).transform(data).drop('str_orig')\n",
    "data.show(5)"
   ]
  },
  {
   "cell_type": "markdown",
   "metadata": {},
   "source": [
    "### str_dest column :"
   ]
  },
  {
   "cell_type": "code",
   "execution_count": 148,
   "metadata": {},
   "outputs": [
    {
     "name": "stdout",
     "output_type": "stream",
     "text": [
      "+----+-------+-------------+--------------+--------------+--------------+-------+-------------+-------------+---------+-------------+-------------+\n",
      "|step| amount|oldbalanceOrg|newbalanceOrig|oldbalanceDest|newbalanceDest|isFraud|     num_orig|     num_dest|typeIndex|nameOrigIndex|nameDestIndex|\n",
      "+----+-------+-------------+--------------+--------------+--------------+-------+-------------+-------------+---------+-------------+-------------+\n",
      "| 1.0|7861.64|    176087.23|     168225.59|           0.0|           0.0|      0|1.912850431E9|1.912850431E9|      1.0|          0.0|          1.0|\n",
      "| 1.0|1563.82|        450.0|           0.0|           0.0|           0.0|      0| 7.61750706E8| 7.61750706E8|      1.0|          0.0|          1.0|\n",
      "| 1.0| 671.64|      15123.0|      14451.36|           0.0|           0.0|      0|2.033524545E9|2.033524545E9|      1.0|          0.0|          1.0|\n",
      "| 1.0|5346.89|          0.0|           0.0|      652637.0|    6453430.91|      0|   5.125492E8|   5.125492E8|      0.0|          0.0|          0.0|\n",
      "| 1.0|2641.47|      23053.0|      20411.53|           0.0|           0.0|      0| 4.60570271E8| 4.60570271E8|      1.0|          0.0|          1.0|\n",
      "+----+-------+-------------+--------------+--------------+--------------+-------+-------------+-------------+---------+-------------+-------------+\n",
      "only showing top 5 rows\n",
      "\n"
     ]
    }
   ],
   "source": [
    "nameDest_indexer = StringIndexer(inputCol=\"str_dest\", outputCol=\"nameDestIndex\")\n",
    "#Fits a model to the input dataset with optional parameters.\n",
    "data = nameDest_indexer.fit(data).transform(data).drop('str_dest')\n",
    "data.show(5)"
   ]
  },
  {
   "cell_type": "code",
   "execution_count": 149,
   "metadata": {},
   "outputs": [
    {
     "data": {
      "text/plain": [
       "[('step', 'double'),\n",
       " ('amount', 'double'),\n",
       " ('oldbalanceOrg', 'double'),\n",
       " ('newbalanceOrig', 'double'),\n",
       " ('oldbalanceDest', 'double'),\n",
       " ('newbalanceDest', 'double'),\n",
       " ('isFraud', 'int'),\n",
       " ('num_orig', 'double'),\n",
       " ('num_dest', 'double'),\n",
       " ('typeIndex', 'double'),\n",
       " ('nameOrigIndex', 'double'),\n",
       " ('nameDestIndex', 'double')]"
      ]
     },
     "execution_count": 149,
     "metadata": {},
     "output_type": "execute_result"
    }
   ],
   "source": [
    "data.dtypes"
   ]
  },
  {
   "cell_type": "code",
   "execution_count": 150,
   "metadata": {},
   "outputs": [
    {
     "name": "stdout",
     "output_type": "stream",
     "text": [
      "+----+-------+-------------+--------------+--------------+--------------+-------+-------------+-------------+---------+-------------+-------------+\n",
      "|step| amount|oldbalanceOrg|newbalanceOrig|oldbalanceDest|newbalanceDest|isFraud|     num_orig|     num_dest|typeIndex|nameOrigIndex|nameDestIndex|\n",
      "+----+-------+-------------+--------------+--------------+--------------+-------+-------------+-------------+---------+-------------+-------------+\n",
      "| 1.0|7861.64|    176087.23|     168225.59|           0.0|           0.0|      0|1.912850431E9|1.912850431E9|      1.0|          0.0|          1.0|\n",
      "| 1.0|1563.82|        450.0|           0.0|           0.0|           0.0|      0| 7.61750706E8| 7.61750706E8|      1.0|          0.0|          1.0|\n",
      "| 1.0| 671.64|      15123.0|      14451.36|           0.0|           0.0|      0|2.033524545E9|2.033524545E9|      1.0|          0.0|          1.0|\n",
      "| 1.0|5346.89|          0.0|           0.0|      652637.0|    6453430.91|      0|   5.125492E8|   5.125492E8|      0.0|          0.0|          0.0|\n",
      "| 1.0|2641.47|      23053.0|      20411.53|           0.0|           0.0|      0| 4.60570271E8| 4.60570271E8|      1.0|          0.0|          1.0|\n",
      "+----+-------+-------------+--------------+--------------+--------------+-------+-------------+-------------+---------+-------------+-------------+\n",
      "only showing top 5 rows\n",
      "\n"
     ]
    }
   ],
   "source": [
    "data.show(5)"
   ]
  },
  {
   "cell_type": "markdown",
   "metadata": {},
   "source": [
    "### label column :"
   ]
  },
  {
   "cell_type": "code",
   "execution_count": null,
   "metadata": {},
   "outputs": [],
   "source": [
    "data = StringIndexer(  inputCol=\"isFraud\", outputCol=\"label\").fit(data).transform(data)"
   ]
  },
  {
   "cell_type": "code",
   "execution_count": null,
   "metadata": {},
   "outputs": [],
   "source": []
  },
  {
   "cell_type": "code",
   "execution_count": 151,
   "metadata": {},
   "outputs": [],
   "source": [
    "from pyspark.ml.feature import VectorAssembler\n",
    "\n",
    "assembler = VectorAssembler(inputCols=['step', 'amount', 'oldbalanceOrg', 'newbalanceOrig', 'oldbalanceDest', \n",
    "                                       'newbalanceDest', 'num_orig', 'num_dest', 'typeIndex','nameOrigIndex',\n",
    "                                       'nameDestIndex'], outputCol='features')\n",
    "data = assembler.transform(data)"
   ]
  },
  {
   "cell_type": "code",
   "execution_count": 153,
   "metadata": {
    "scrolled": true
   },
   "outputs": [
    {
     "name": "stdout",
     "output_type": "stream",
     "text": [
      "+--------------------+-------+\n",
      "|            features|isFraud|\n",
      "+--------------------+-------+\n",
      "|[1.0,7861.64,1760...|      0|\n",
      "|[1.0,1563.82,450....|      0|\n",
      "|[1.0,671.64,15123...|      0|\n",
      "|(11,[0,1,4,5,6,7]...|      0|\n",
      "|[1.0,2641.47,2305...|      0|\n",
      "+--------------------+-------+\n",
      "only showing top 5 rows\n",
      "\n"
     ]
    }
   ],
   "source": [
    "data['features','isFraud'].show(5)"
   ]
  },
  {
   "cell_type": "markdown",
   "metadata": {},
   "source": [
    "### Divide the data to training sets and test sets :"
   ]
  },
  {
   "cell_type": "code",
   "execution_count": 154,
   "metadata": {},
   "outputs": [],
   "source": [
    "(train, test )= data.randomSplit([0.8, 0.2], seed=23)"
   ]
  },
  {
   "cell_type": "code",
   "execution_count": 155,
   "metadata": {},
   "outputs": [
    {
     "data": {
      "text/plain": [
       "[799514, 200566]"
      ]
     },
     "execution_count": 155,
     "metadata": {},
     "output_type": "execute_result"
    }
   ],
   "source": [
    "[train.count(), test.count()]"
   ]
  },
  {
   "cell_type": "markdown",
   "metadata": {},
   "source": [
    "# Logistic Regression :"
   ]
  },
  {
   "cell_type": "code",
   "execution_count": 179,
   "metadata": {},
   "outputs": [],
   "source": [
    "from pyspark.ml.classification import LogisticRegression\n",
    "#Create a Logistic Regression classifier.\n",
    "logistic = LogisticRegression(labelCol = \"isFraud\", featuresCol = \"features\")\n",
    "# Learn from the training data.\n",
    "lrModel = logistic.fit(train)"
   ]
  },
  {
   "cell_type": "code",
   "execution_count": 215,
   "metadata": {},
   "outputs": [],
   "source": [
    "prediction_LR = lrModel.transform(test)"
   ]
  },
  {
   "cell_type": "code",
   "execution_count": 216,
   "metadata": {},
   "outputs": [
    {
     "name": "stdout",
     "output_type": "stream",
     "text": [
      "+-------+----------+------+\n",
      "|isFraud|prediction| count|\n",
      "+-------+----------+------+\n",
      "|      1|       0.0|   143|\n",
      "|      0|       0.0|200302|\n",
      "|      1|       1.0|   109|\n",
      "|      0|       1.0|    12|\n",
      "+-------+----------+------+\n",
      "\n"
     ]
    }
   ],
   "source": [
    "prediction_LR.groupBy(\"isFraud\", \"prediction\").count().show()"
   ]
  },
  {
   "cell_type": "code",
   "execution_count": 239,
   "metadata": {},
   "outputs": [
    {
     "name": "stdout",
     "output_type": "stream",
     "text": [
      "Recall :  0.43253968253968256\n",
      "Precision :  0.9008264462809917\n",
      "F1 Score :  0.5844504021447721\n"
     ]
    }
   ],
   "source": [
    "tp = prediction_LR[(prediction_LR.isFraud == 1) & (prediction_LR.prediction == 1)].count()\n",
    "tn = prediction_LR[(prediction_LR.isFraud == 0) & (prediction_LR.prediction == 0)].count()\n",
    "fp = prediction_LR[(prediction_LR.isFraud == 0) & (prediction_LR.prediction == 1)].count()\n",
    "fn = prediction_LR[(prediction_LR.isFraud == 1) & (prediction_LR.prediction == 0)].count()\n",
    "recall_LR = tp/(tp+fn)\n",
    "precision_LR = tp/(tp+fp)\n",
    "f1_score_LR = 2*(recall_LR*precision_LR)/(recall_LR+precision_LR)\n",
    "print(\"Recall : \",recall_LR)\n",
    "print(\"Precision : \", precision_LR)\n",
    "print(\"F1 Score : \", f1_score_LR)"
   ]
  },
  {
   "cell_type": "code",
   "execution_count": 240,
   "metadata": {},
   "outputs": [
    {
     "name": "stdout",
     "output_type": "stream",
     "text": [
      "Area under ROC = 0.9867293666404062\n"
     ]
    }
   ],
   "source": [
    "# Area under ROC curve\n",
    "from pyspark.ml.evaluation import BinaryClassificationEvaluator\n",
    "evaluator = BinaryClassificationEvaluator(labelCol=\"isFraud\")\n",
    "areaUnderROC_LR = evaluator.evaluate(prediction_LR, {evaluator.metricName: \"areaUnderROC\"})\n",
    "print(\"Area under ROC = %s\" % areaUnderROC_LR)"
   ]
  },
  {
   "cell_type": "code",
   "execution_count": 298,
   "metadata": {},
   "outputs": [
    {
     "data": {
      "image/png": "[encoded data removed]",
      "text/plain": [
       "<Figure size 720x504 with 1 Axes>"
      ]
     },
     "metadata": {
      "needs_background": "light"
     },
     "output_type": "display_data"
    }
   ],
   "source": [
    "import matplotlib.pyplot as plt\n",
    "plt.figure(figsize=(10,7))\n",
    "plt.plot([0, 1], [0, 1], 'r--')\n",
    "plt.plot(lrModel.summary.roc.select('FPR').collect(),\n",
    "         lrModel.summary.roc.select('TPR').collect())\n",
    "plt.xlabel('FPR')\n",
    "plt.ylabel('TPR')\n",
    "plt.show()"
   ]
  },
  {
   "cell_type": "code",
   "execution_count": 241,
   "metadata": {},
   "outputs": [
    {
     "name": "stdout",
     "output_type": "stream",
     "text": [
      "Area under PR = 0.49758127044195255\n"
     ]
    }
   ],
   "source": [
    "# Area under precision-recall curve\n",
    "areaUnderPR_LR = evaluator.evaluate(prediction_LR, {evaluator.metricName: \"areaUnderPR\"})\n",
    "print(\"Area under PR = %s\" % areaUnderPR_LR)"
   ]
  },
  {
   "cell_type": "code",
   "execution_count": 242,
   "metadata": {},
   "outputs": [],
   "source": [
    "results = {}"
   ]
  },
  {
   "cell_type": "code",
   "execution_count": 243,
   "metadata": {},
   "outputs": [],
   "source": [
    "results['Logestic Regression'] = [recall_LR, precision_LR, f1_score_LR, areaUnderROC_LR, areaUnderPR_LR]"
   ]
  },
  {
   "cell_type": "code",
   "execution_count": 244,
   "metadata": {},
   "outputs": [
    {
     "data": {
      "text/plain": [
       "{'Logestic Regression': [0.43253968253968256,\n",
       "  0.9008264462809917,\n",
       "  0.5844504021447721,\n",
       "  0.9867293666404062,\n",
       "  0.49758127044195255]}"
      ]
     },
     "execution_count": 244,
     "metadata": {},
     "output_type": "execute_result"
    }
   ],
   "source": [
    "results"
   ]
  },
  {
   "cell_type": "markdown",
   "metadata": {},
   "source": [
    "# Decision Tree Classifier :"
   ]
  },
  {
   "cell_type": "code",
   "execution_count": 245,
   "metadata": {},
   "outputs": [],
   "source": [
    "from pyspark.ml.classification import DecisionTreeClassifier\n",
    "\n",
    "# Using the DecisionTree classifier model\n",
    "dt = DecisionTreeClassifier(labelCol = \"isFraud\", featuresCol = \"features\", seed = 54321, maxDepth = 5)\n",
    "\n",
    "dt_model = dt.fit(train)"
   ]
  },
  {
   "cell_type": "code",
   "execution_count": 246,
   "metadata": {},
   "outputs": [],
   "source": [
    "# Make predictions.\n",
    "prediction_DT = dt_model.transform(test)"
   ]
  },
  {
   "cell_type": "code",
   "execution_count": 247,
   "metadata": {},
   "outputs": [
    {
     "name": "stdout",
     "output_type": "stream",
     "text": [
      "+--------------------+----------------+--------------------+----------+\n",
      "|            features|   rawPrediction|         probability|prediction|\n",
      "+--------------------+----------------+--------------------+----------+\n",
      "|[1.0,25.12,61663....|  [421037.0,0.0]|           [1.0,0.0]|       0.0|\n",
      "|[1.0,527.15,72421...|  [421037.0,0.0]|           [1.0,0.0]|       0.0|\n",
      "|(11,[0,1,4,5,6,7]...|[303828.0,198.0]|[0.99934873991040...|       0.0|\n",
      "|[1.0,648.64,873.0...|  [421037.0,0.0]|           [1.0,0.0]|       0.0|\n",
      "|[1.0,1239.06,3963...|  [421037.0,0.0]|           [1.0,0.0]|       0.0|\n",
      "+--------------------+----------------+--------------------+----------+\n",
      "only showing top 5 rows\n",
      "\n"
     ]
    }
   ],
   "source": [
    "# Select example rows to display.\n",
    "prediction_DT.select('features', 'rawPrediction', 'probability', 'prediction').show(5)"
   ]
  },
  {
   "cell_type": "code",
   "execution_count": 248,
   "metadata": {},
   "outputs": [
    {
     "name": "stdout",
     "output_type": "stream",
     "text": [
      "+-------+----------+------+\n",
      "|isFraud|prediction| count|\n",
      "+-------+----------+------+\n",
      "|      1|       0.0|    80|\n",
      "|      0|       0.0|200279|\n",
      "|      1|       1.0|   172|\n",
      "|      0|       1.0|    35|\n",
      "+-------+----------+------+\n",
      "\n"
     ]
    }
   ],
   "source": [
    "prediction_DT.groupBy(\"isFraud\", \"prediction\").count().show()"
   ]
  },
  {
   "cell_type": "code",
   "execution_count": 249,
   "metadata": {},
   "outputs": [
    {
     "name": "stdout",
     "output_type": "stream",
     "text": [
      "Recall :  0.6825396825396826\n",
      "Precision :  0.8309178743961353\n",
      "F1 Score :  0.7494553376906319\n"
     ]
    }
   ],
   "source": [
    "tp = prediction_DT[(prediction_DT.isFraud == 1) & (prediction_DT.prediction == 1)].count()\n",
    "tn = prediction_DT[(prediction_DT.isFraud == 0) & (prediction_DT.prediction == 0)].count()\n",
    "fp = prediction_DT[(prediction_DT.isFraud == 0) & (prediction_DT.prediction == 1)].count()\n",
    "fn = prediction_DT[(prediction_DT.isFraud == 1) & (prediction_DT.prediction == 0)].count()\n",
    "recall_DT = tp/(tp+fn)\n",
    "precision_DT = tp/(tp+fp)\n",
    "f1_score_DT = 2*(recall_DT*precision_DT)/(recall_DT+precision_DT)\n",
    "print(\"Recall : \",recall_DT)\n",
    "print(\"Precision : \", precision_DT)\n",
    "print(\"F1 Score : \", f1_score_DT)"
   ]
  },
  {
   "cell_type": "code",
   "execution_count": 250,
   "metadata": {},
   "outputs": [
    {
     "name": "stdout",
     "output_type": "stream",
     "text": [
      "Area under ROC = 0.6450244841788868\n"
     ]
    }
   ],
   "source": [
    "# Area under ROC curve\n",
    "areaUnderROC_DT = evaluator.evaluate(prediction_DT, {evaluator.metricName: \"areaUnderROC\"})\n",
    "print(\"Area under ROC = %s\" % areaUnderROC_DT)"
   ]
  },
  {
   "cell_type": "code",
   "execution_count": 251,
   "metadata": {},
   "outputs": [
    {
     "name": "stdout",
     "output_type": "stream",
     "text": [
      "Area under PR = 0.0016522708555186821\n"
     ]
    }
   ],
   "source": [
    "# Area under precision-recall curve\n",
    "areaUnderPR_DT = evaluator.evaluate(prediction_DT, {evaluator.metricName: \"areaUnderPR\"})\n",
    "print(\"Area under PR = %s\" % areaUnderPR_DT)"
   ]
  },
  {
   "cell_type": "code",
   "execution_count": 252,
   "metadata": {},
   "outputs": [
    {
     "data": {
      "text/plain": [
       "{'Logestic Regression': [0.43253968253968256,\n",
       "  0.9008264462809917,\n",
       "  0.5844504021447721,\n",
       "  0.9867293666404062,\n",
       "  0.49758127044195255],\n",
       " 'Decision Tree Classifier': [0.6825396825396826,\n",
       "  0.8309178743961353,\n",
       "  0.7494553376906319,\n",
       "  0.6450244841788868,\n",
       "  0.0016522708555186821]}"
      ]
     },
     "execution_count": 252,
     "metadata": {},
     "output_type": "execute_result"
    }
   ],
   "source": [
    "results['Decision Tree Classifier'] = [recall_DT, precision_DT, f1_score_DT, areaUnderROC_DT, areaUnderPR_DT]\n",
    "results"
   ]
  },
  {
   "cell_type": "markdown",
   "metadata": {},
   "source": [
    "# Random Forest Classifier :"
   ]
  },
  {
   "cell_type": "code",
   "execution_count": 253,
   "metadata": {},
   "outputs": [],
   "source": [
    "from pyspark.ml.classification import RandomForestClassifier\n",
    "\n",
    "# Train a RandomForest model.\n",
    "rf = RandomForestClassifier(labelCol=\"isFraud\", featuresCol=\"features\", numTrees=10)\n",
    "\n",
    "rf_model = rf.fit(train)"
   ]
  },
  {
   "cell_type": "code",
   "execution_count": 254,
   "metadata": {},
   "outputs": [],
   "source": [
    "# Make predictions.\n",
    "prediction_RF = rf_model.transform(test)"
   ]
  },
  {
   "cell_type": "code",
   "execution_count": 255,
   "metadata": {},
   "outputs": [
    {
     "name": "stdout",
     "output_type": "stream",
     "text": [
      "+-------+----------+------+\n",
      "|isFraud|prediction| count|\n",
      "+-------+----------+------+\n",
      "|      1|       0.0|   162|\n",
      "|      0|       0.0|200314|\n",
      "|      1|       1.0|    90|\n",
      "+-------+----------+------+\n",
      "\n"
     ]
    }
   ],
   "source": [
    "prediction_RF.groupBy(\"isFraud\", \"prediction\").count().show()"
   ]
  },
  {
   "cell_type": "code",
   "execution_count": 256,
   "metadata": {},
   "outputs": [
    {
     "name": "stdout",
     "output_type": "stream",
     "text": [
      "Recall :  0.35714285714285715\n",
      "Precision :  1.0\n",
      "F1 Score :  0.5263157894736842\n"
     ]
    }
   ],
   "source": [
    "tp = prediction_RF[(prediction_RF.isFraud == 1) & (prediction_RF.prediction == 1)].count()\n",
    "tn = prediction_RF[(prediction_RF.isFraud == 0) & (prediction_RF.prediction == 0)].count()\n",
    "fp = prediction_RF[(prediction_RF.isFraud == 0) & (prediction_RF.prediction == 1)].count()\n",
    "fn = prediction_RF[(prediction_RF.isFraud == 1) & (prediction_RF.prediction == 0)].count()\n",
    "recall_RF = tp/(tp+fn)\n",
    "precision_RF = tp/(tp+fp)\n",
    "f1_score_RF = 2*(recall_RF*precision_RF)/(recall_RF+precision_RF)\n",
    "print(\"Recall : \",recall_RF)\n",
    "print(\"Precision : \", precision_RF)\n",
    "print(\"F1 Score : \", f1_score_RF)"
   ]
  },
  {
   "cell_type": "code",
   "execution_count": 257,
   "metadata": {},
   "outputs": [
    {
     "name": "stdout",
     "output_type": "stream",
     "text": [
      "Area under ROC = 0.9771278735242811\n"
     ]
    }
   ],
   "source": [
    "# Area under ROC curve\n",
    "areaUnderROC_RF = evaluator.evaluate(prediction_RF, {evaluator.metricName: \"areaUnderROC\"})\n",
    "print(\"Area under ROC = %s\" % areaUnderROC_RF)"
   ]
  },
  {
   "cell_type": "code",
   "execution_count": 258,
   "metadata": {},
   "outputs": [
    {
     "name": "stdout",
     "output_type": "stream",
     "text": [
      "Area under PR = 0.7343650239168383\n"
     ]
    }
   ],
   "source": [
    "# Area under precision-recall curve\n",
    "areaUnderPR_RF = evaluator.evaluate(prediction_RF, {evaluator.metricName: \"areaUnderPR\"})\n",
    "print(\"Area under PR = %s\" % areaUnderPR_RF)"
   ]
  },
  {
   "cell_type": "code",
   "execution_count": 259,
   "metadata": {},
   "outputs": [
    {
     "data": {
      "text/plain": [
       "{'Logestic Regression': [0.43253968253968256,\n",
       "  0.9008264462809917,\n",
       "  0.5844504021447721,\n",
       "  0.9867293666404062,\n",
       "  0.49758127044195255],\n",
       " 'Decision Tree Classifier': [0.6825396825396826,\n",
       "  0.8309178743961353,\n",
       "  0.7494553376906319,\n",
       "  0.6450244841788868,\n",
       "  0.0016522708555186821],\n",
       " 'Random Forest Classifier': [0.35714285714285715,\n",
       "  1.0,\n",
       "  0.5263157894736842,\n",
       "  0.9771278735242811,\n",
       "  0.7343650239168383]}"
      ]
     },
     "execution_count": 259,
     "metadata": {},
     "output_type": "execute_result"
    }
   ],
   "source": [
    "results['Random Forest Classifier'] = [recall_RF, precision_RF, f1_score_RF, areaUnderROC_RF, areaUnderPR_RF]\n",
    "results"
   ]
  },
  {
   "cell_type": "markdown",
   "metadata": {},
   "source": [
    "# Gradient-Boosted Tree Classifier"
   ]
  },
  {
   "cell_type": "code",
   "execution_count": 260,
   "metadata": {},
   "outputs": [],
   "source": [
    "from pyspark.ml.classification import GBTClassifier\n",
    "\n",
    "# Train a GBT model.\n",
    "gbt = GBTClassifier(labelCol=\"isFraud\", featuresCol=\"features\", maxIter=10)\n",
    "\n",
    "# Train model. \n",
    "gbt_model = gbt.fit(train)"
   ]
  },
  {
   "cell_type": "code",
   "execution_count": 261,
   "metadata": {},
   "outputs": [],
   "source": [
    "# Make predictions.\n",
    "prediction_GBT = gbt_model.transform(test)"
   ]
  },
  {
   "cell_type": "code",
   "execution_count": 262,
   "metadata": {},
   "outputs": [
    {
     "name": "stdout",
     "output_type": "stream",
     "text": [
      "+-------+----------+------+\n",
      "|isFraud|prediction| count|\n",
      "+-------+----------+------+\n",
      "|      1|       0.0|    82|\n",
      "|      0|       0.0|200307|\n",
      "|      1|       1.0|   170|\n",
      "|      0|       1.0|     7|\n",
      "+-------+----------+------+\n",
      "\n"
     ]
    }
   ],
   "source": [
    "prediction_GBT.groupBy(\"isFraud\", \"prediction\").count().show()"
   ]
  },
  {
   "cell_type": "code",
   "execution_count": 263,
   "metadata": {},
   "outputs": [
    {
     "name": "stdout",
     "output_type": "stream",
     "text": [
      "Recall :  0.6746031746031746\n",
      "Precision :  0.96045197740113\n",
      "F1 Score :  0.7925407925407926\n"
     ]
    }
   ],
   "source": [
    "tp = prediction_GBT[(prediction_GBT.isFraud == 1) & (prediction_GBT.prediction == 1)].count()\n",
    "tn = prediction_GBT[(prediction_GBT.isFraud == 0) & (prediction_GBT.prediction == 0)].count()\n",
    "fp = prediction_GBT[(prediction_GBT.isFraud == 0) & (prediction_GBT.prediction == 1)].count()\n",
    "fn = prediction_GBT[(prediction_GBT.isFraud == 1) & (prediction_GBT.prediction == 0)].count()\n",
    "recall_GBT = tp/(tp+fn)\n",
    "precision_GBT = tp/(tp+fp)\n",
    "f1_score_GBT = 2*(recall_GBT*precision_GBT)/(recall_GBT+precision_GBT)\n",
    "print(\"Recall : \",recall_GBT)\n",
    "print(\"Precision : \", precision_GBT)\n",
    "print(\"F1 Score : \", f1_score_GBT)"
   ]
  },
  {
   "cell_type": "code",
   "execution_count": 264,
   "metadata": {},
   "outputs": [
    {
     "name": "stdout",
     "output_type": "stream",
     "text": [
      "Area under ROC = 0.9924144093772778\n"
     ]
    }
   ],
   "source": [
    "# Area under ROC curve\n",
    "areaUnderROC_GBT = evaluator.evaluate(prediction_GBT, {evaluator.metricName: \"areaUnderROC\"})\n",
    "print(\"Area under ROC = %s\" % areaUnderROC_GBT)"
   ]
  },
  {
   "cell_type": "code",
   "execution_count": 265,
   "metadata": {},
   "outputs": [
    {
     "name": "stdout",
     "output_type": "stream",
     "text": [
      "Area under PR = 0.7704180701161522\n"
     ]
    }
   ],
   "source": [
    "# Area under precision-recall curve\n",
    "areaUnderPR_GBT = evaluator.evaluate(prediction_GBT, {evaluator.metricName: \"areaUnderPR\"})\n",
    "print(\"Area under PR = %s\" % areaUnderPR_GBT)"
   ]
  },
  {
   "cell_type": "code",
   "execution_count": 266,
   "metadata": {},
   "outputs": [
    {
     "data": {
      "text/plain": [
       "{'Logestic Regression': [0.43253968253968256,\n",
       "  0.9008264462809917,\n",
       "  0.5844504021447721,\n",
       "  0.9867293666404062,\n",
       "  0.49758127044195255],\n",
       " 'Decision Tree Classifier': [0.6825396825396826,\n",
       "  0.8309178743961353,\n",
       "  0.7494553376906319,\n",
       "  0.6450244841788868,\n",
       "  0.0016522708555186821],\n",
       " 'Random Forest Classifier': [0.35714285714285715,\n",
       "  1.0,\n",
       "  0.5263157894736842,\n",
       "  0.9771278735242811,\n",
       "  0.7343650239168383],\n",
       " 'Gradient-Boosted Tree Classifier': [0.6746031746031746,\n",
       "  0.96045197740113,\n",
       "  0.7925407925407926,\n",
       "  0.9924144093772778,\n",
       "  0.7704180701161522]}"
      ]
     },
     "execution_count": 266,
     "metadata": {},
     "output_type": "execute_result"
    }
   ],
   "source": [
    "results['Gradient-Boosted Tree Classifier'] = [recall_GBT, precision_GBT, f1_score_GBT, areaUnderROC_GBT, areaUnderPR_GBT]\n",
    "results"
   ]
  },
  {
   "cell_type": "markdown",
   "metadata": {},
   "source": [
    "# Support Vector Machine : SVM "
   ]
  },
  {
   "cell_type": "code",
   "execution_count": 272,
   "metadata": {},
   "outputs": [],
   "source": [
    "from pyspark.ml.classification import LinearSVC\n",
    "\n",
    "lsvc = LinearSVC(labelCol=\"isFraud\", featuresCol=\"features\", maxIter=10, regParam=0.1)\n",
    "\n",
    "# Train model.\n",
    "lsvc_model = lsvc.fit(train)"
   ]
  },
  {
   "cell_type": "code",
   "execution_count": 273,
   "metadata": {},
   "outputs": [],
   "source": [
    "# Make predictions.\n",
    "prediction_LSVC = lsvc_model.transform(test)"
   ]
  },
  {
   "cell_type": "code",
   "execution_count": 274,
   "metadata": {},
   "outputs": [
    {
     "name": "stdout",
     "output_type": "stream",
     "text": [
      "+-------+----------+------+\n",
      "|isFraud|prediction| count|\n",
      "+-------+----------+------+\n",
      "|      1|       0.0|   252|\n",
      "|      0|       0.0|200314|\n",
      "+-------+----------+------+\n",
      "\n"
     ]
    }
   ],
   "source": [
    "prediction_LSVC.groupBy(\"isFraud\", \"prediction\").count().show()"
   ]
  },
  {
   "cell_type": "code",
   "execution_count": 276,
   "metadata": {},
   "outputs": [
    {
     "name": "stdout",
     "output_type": "stream",
     "text": [
      "Recall :  0.0\n",
      "Precision :  --\n",
      "F1 Score :  --\n"
     ]
    }
   ],
   "source": [
    "tp = prediction_LSVC[(prediction_LSVC.isFraud == 1) & (prediction_LSVC.prediction == 1)].count()\n",
    "tn = prediction_LSVC[(prediction_LSVC.isFraud == 0) & (prediction_LSVC.prediction == 0)].count()\n",
    "fp = prediction_LSVC[(prediction_LSVC.isFraud == 0) & (prediction_LSVC.prediction == 1)].count()\n",
    "fn = prediction_LSVC[(prediction_LSVC.isFraud == 1) & (prediction_LSVC.prediction == 0)].count()\n",
    "recall_LSVC = tp/(tp+fn)\n",
    "precision_LSVC = '--' # is not define\n",
    "f1_score_LSVC = '--'\n",
    "print(\"Recall : \",recall_LSVC)\n",
    "print(\"Precision : \", precision_LSVC)\n",
    "print(\"F1 Score : \", f1_score_LSVC)"
   ]
  },
  {
   "cell_type": "code",
   "execution_count": 277,
   "metadata": {},
   "outputs": [
    {
     "name": "stdout",
     "output_type": "stream",
     "text": [
      "Area under ROC = 0.41192766840187883\n"
     ]
    }
   ],
   "source": [
    "# Area under ROC curve\n",
    "areaUnderROC_LSVC = evaluator.evaluate(prediction_LSVC, {evaluator.metricName: \"areaUnderROC\"})\n",
    "print(\"Area under ROC = %s\" % areaUnderROC_LSVC)"
   ]
  },
  {
   "cell_type": "code",
   "execution_count": 278,
   "metadata": {},
   "outputs": [
    {
     "name": "stdout",
     "output_type": "stream",
     "text": [
      "Area under PR = 0.0010570132021894706\n"
     ]
    }
   ],
   "source": [
    "# Area under precision-recall curve\n",
    "areaUnderPR_LSVC = evaluator.evaluate(prediction_LSVC, {evaluator.metricName: \"areaUnderPR\"})\n",
    "print(\"Area under PR = %s\" % areaUnderPR_LSVC)"
   ]
  },
  {
   "cell_type": "code",
   "execution_count": 279,
   "metadata": {},
   "outputs": [
    {
     "data": {
      "text/plain": [
       "{'Logestic Regression': [0.43253968253968256,\n",
       "  0.9008264462809917,\n",
       "  0.5844504021447721,\n",
       "  0.9867293666404062,\n",
       "  0.49758127044195255],\n",
       " 'Decision Tree Classifier': [0.6825396825396826,\n",
       "  0.8309178743961353,\n",
       "  0.7494553376906319,\n",
       "  0.6450244841788868,\n",
       "  0.0016522708555186821],\n",
       " 'Random Forest Classifier': [0.35714285714285715,\n",
       "  1.0,\n",
       "  0.5263157894736842,\n",
       "  0.9771278735242811,\n",
       "  0.7343650239168383],\n",
       " 'Gradient-Boosted Tree Classifier': [0.6746031746031746,\n",
       "  0.96045197740113,\n",
       "  0.7925407925407926,\n",
       "  0.9924144093772778,\n",
       "  0.7704180701161522],\n",
       " 'SVM': [0.0, '--', '--', 0.41192766840187883, 0.0010570132021894706]}"
      ]
     },
     "execution_count": 279,
     "metadata": {},
     "output_type": "execute_result"
    }
   ],
   "source": [
    "results['SVM'] = [recall_LSVC, precision_LSVC, f1_score_LSVC, areaUnderROC_LSVC, areaUnderPR_LSVC]\n",
    "results"
   ]
  },
  {
   "cell_type": "markdown",
   "metadata": {},
   "source": [
    "# Naive Bayes"
   ]
  },
  {
   "cell_type": "code",
   "execution_count": 280,
   "metadata": {},
   "outputs": [],
   "source": [
    "from pyspark.ml.classification import NaiveBayes\n",
    "\n",
    "# create the trainer and set its parameters\n",
    "nb = NaiveBayes(labelCol=\"isFraud\", featuresCol=\"features\", smoothing=1.0, modelType=\"multinomial\")\n",
    "\n",
    "# train the model\n",
    "nb_model = nb.fit(train)"
   ]
  },
  {
   "cell_type": "code",
   "execution_count": 281,
   "metadata": {},
   "outputs": [],
   "source": [
    "# Make predictions.\n",
    "prediction_NB = nb_model.transform(test)"
   ]
  },
  {
   "cell_type": "code",
   "execution_count": 283,
   "metadata": {},
   "outputs": [
    {
     "name": "stdout",
     "output_type": "stream",
     "text": [
      "+-------+----------+------+\n",
      "|isFraud|prediction| count|\n",
      "+-------+----------+------+\n",
      "|      1|       0.0|   124|\n",
      "|      0|       0.0|188675|\n",
      "|      1|       1.0|   128|\n",
      "|      0|       1.0| 11639|\n",
      "+-------+----------+------+\n",
      "\n"
     ]
    }
   ],
   "source": [
    "prediction_NB.groupBy(\"isFraud\", \"prediction\").count().show()"
   ]
  },
  {
   "cell_type": "code",
   "execution_count": 284,
   "metadata": {},
   "outputs": [
    {
     "name": "stdout",
     "output_type": "stream",
     "text": [
      "Recall :  0.5079365079365079\n",
      "Precision :  0.010877878813631342\n",
      "F1 Score :  0.021299608952491885\n"
     ]
    }
   ],
   "source": [
    "tp = prediction_NB[(prediction_NB.isFraud == 1) & (prediction_NB.prediction == 1)].count()\n",
    "tn = prediction_NB[(prediction_NB.isFraud == 0) & (prediction_NB.prediction == 0)].count()\n",
    "fp = prediction_NB[(prediction_NB.isFraud == 0) & (prediction_NB.prediction == 1)].count()\n",
    "fn = prediction_NB[(prediction_NB.isFraud == 1) & (prediction_NB.prediction == 0)].count()\n",
    "recall_NB = tp/(tp+fn)\n",
    "precision_NB = tp/(tp+fp)\n",
    "f1_score_NB = 2*(recall_NB*precision_NB)/(recall_NB+precision_NB)\n",
    "print(\"Recall : \",recall_NB)\n",
    "print(\"Precision : \", precision_NB)\n",
    "print(\"F1 Score : \", f1_score_NB)"
   ]
  },
  {
   "cell_type": "code",
   "execution_count": 287,
   "metadata": {},
   "outputs": [
    {
     "name": "stdout",
     "output_type": "stream",
     "text": [
      "Area under ROC = 0.5162240916681444\n"
     ]
    }
   ],
   "source": [
    "# Area under ROC curve\n",
    "areaUnderROC_NB = evaluator.evaluate(prediction_NB, {evaluator.metricName: \"areaUnderROC\"})\n",
    "print(\"Area under ROC = %s\" % areaUnderROC_NB)"
   ]
  },
  {
   "cell_type": "code",
   "execution_count": 286,
   "metadata": {},
   "outputs": [
    {
     "name": "stdout",
     "output_type": "stream",
     "text": [
      "Area under PR = 0.0013019558389971418\n"
     ]
    }
   ],
   "source": [
    "# Area under precision-recall curve\n",
    "areaUnderPR_NB = evaluator.evaluate(prediction_NB, {evaluator.metricName: \"areaUnderPR\"})\n",
    "print(\"Area under PR = %s\" % areaUnderPR_NB)"
   ]
  },
  {
   "cell_type": "code",
   "execution_count": 288,
   "metadata": {},
   "outputs": [
    {
     "data": {
      "text/plain": [
       "{'Logestic Regression': [0.43253968253968256,\n",
       "  0.9008264462809917,\n",
       "  0.5844504021447721,\n",
       "  0.9867293666404062,\n",
       "  0.49758127044195255],\n",
       " 'Decision Tree Classifier': [0.6825396825396826,\n",
       "  0.8309178743961353,\n",
       "  0.7494553376906319,\n",
       "  0.6450244841788868,\n",
       "  0.0016522708555186821],\n",
       " 'Random Forest Classifier': [0.35714285714285715,\n",
       "  1.0,\n",
       "  0.5263157894736842,\n",
       "  0.9771278735242811,\n",
       "  0.7343650239168383],\n",
       " 'Gradient-Boosted Tree Classifier': [0.6746031746031746,\n",
       "  0.96045197740113,\n",
       "  0.7925407925407926,\n",
       "  0.9924144093772778,\n",
       "  0.7704180701161522],\n",
       " 'SVM': [0.0, '--', '--', 0.41192766840187883, 0.0010570132021894706],\n",
       " 'Naive Bayes': [0.5079365079365079,\n",
       "  0.010877878813631342,\n",
       "  0.021299608952491885,\n",
       "  0.5162240916681444,\n",
       "  0.0013019558389971418]}"
      ]
     },
     "execution_count": 288,
     "metadata": {},
     "output_type": "execute_result"
    }
   ],
   "source": [
    "results['Naive Bayes'] = [recall_NB, precision_NB, f1_score_NB, areaUnderROC_NB, areaUnderPR_NB]\n",
    "results"
   ]
  },
  {
   "cell_type": "code",
   "execution_count": 289,
   "metadata": {},
   "outputs": [],
   "source": [
    "results = pd.DataFrame.from_dict(results, orient='index',\n",
    "                       columns=['Recall', 'Precision', 'F1 Score', 'Area Under ROC', 'Area Under PR'])"
   ]
  },
  {
   "cell_type": "code",
   "execution_count": 291,
   "metadata": {},
   "outputs": [
    {
     "data": {
      "text/html": [
       "<div>\n",
       "<style scoped>\n",
       "    .dataframe tbody tr th:only-of-type {\n",
       "        vertical-align: middle;\n",
       "    }\n",
       "\n",
       "    .dataframe tbody tr th {\n",
       "        vertical-align: top;\n",
       "    }\n",
       "\n",
       "    .dataframe thead th {\n",
       "        text-align: right;\n",
       "    }\n",
       "</style>\n",
       "<table border=\"1\" class=\"dataframe\">\n",
       "  <thead>\n",
       "    <tr style=\"text-align: right;\">\n",
       "      <th></th>\n",
       "      <th>Recall</th>\n",
       "      <th>Precision</th>\n",
       "      <th>F1 Score</th>\n",
       "      <th>Area Under ROC</th>\n",
       "      <th>Area Under PR</th>\n",
       "    </tr>\n",
       "  </thead>\n",
       "  <tbody>\n",
       "    <tr>\n",
       "      <th>Logestic Regression</th>\n",
       "      <td>0.432540</td>\n",
       "      <td>0.900826</td>\n",
       "      <td>0.58445</td>\n",
       "      <td>0.986729</td>\n",
       "      <td>0.497581</td>\n",
       "    </tr>\n",
       "    <tr>\n",
       "      <th>Decision Tree Classifier</th>\n",
       "      <td>0.682540</td>\n",
       "      <td>0.830918</td>\n",
       "      <td>0.749455</td>\n",
       "      <td>0.645024</td>\n",
       "      <td>0.001652</td>\n",
       "    </tr>\n",
       "    <tr>\n",
       "      <th>Random Forest Classifier</th>\n",
       "      <td>0.357143</td>\n",
       "      <td>1</td>\n",
       "      <td>0.526316</td>\n",
       "      <td>0.977128</td>\n",
       "      <td>0.734365</td>\n",
       "    </tr>\n",
       "    <tr>\n",
       "      <th>Gradient-Boosted Tree Classifier</th>\n",
       "      <td>0.674603</td>\n",
       "      <td>0.960452</td>\n",
       "      <td>0.792541</td>\n",
       "      <td>0.992414</td>\n",
       "      <td>0.770418</td>\n",
       "    </tr>\n",
       "    <tr>\n",
       "      <th>SVM</th>\n",
       "      <td>0.000000</td>\n",
       "      <td>--</td>\n",
       "      <td>--</td>\n",
       "      <td>0.411928</td>\n",
       "      <td>0.001057</td>\n",
       "    </tr>\n",
       "    <tr>\n",
       "      <th>Naive Bayes</th>\n",
       "      <td>0.507937</td>\n",
       "      <td>0.0108779</td>\n",
       "      <td>0.0212996</td>\n",
       "      <td>0.516224</td>\n",
       "      <td>0.001302</td>\n",
       "    </tr>\n",
       "  </tbody>\n",
       "</table>\n",
       "</div>"
      ],
      "text/plain": [
       "                                    Recall  Precision   F1 Score  \\\n",
       "Logestic Regression               0.432540   0.900826    0.58445   \n",
       "Decision Tree Classifier          0.682540   0.830918   0.749455   \n",
       "Random Forest Classifier          0.357143          1   0.526316   \n",
       "Gradient-Boosted Tree Classifier  0.674603   0.960452   0.792541   \n",
       "SVM                               0.000000         --         --   \n",
       "Naive Bayes                       0.507937  0.0108779  0.0212996   \n",
       "\n",
       "                                  Area Under ROC  Area Under PR  \n",
       "Logestic Regression                     0.986729       0.497581  \n",
       "Decision Tree Classifier                0.645024       0.001652  \n",
       "Random Forest Classifier                0.977128       0.734365  \n",
       "Gradient-Boosted Tree Classifier        0.992414       0.770418  \n",
       "SVM                                     0.411928       0.001057  \n",
       "Naive Bayes                             0.516224       0.001302  "
      ]
     },
     "execution_count": 291,
     "metadata": {},
     "output_type": "execute_result"
    }
   ],
   "source": [
    "results"
   ]
  },
  {
   "cell_type": "code",
   "execution_count": null,
   "metadata": {},
   "outputs": [],
   "source": []
  },
  {
   "cell_type": "code",
   "execution_count": null,
   "metadata": {},
   "outputs": [],
   "source": []
  }
 ],
 "metadata": {
  "interpreter": {
   "hash": "b3ba2566441a7c06988d0923437866b63cedc61552a5af99d1f4fb67d367b25f"
  },
  "kernelspec": {
   "display_name": "Python 3",
   "language": "python",
   "name": "python3"
  },
  "language_info": {
   "codemirror_mode": {
    "name": "ipython",
    "version": 3
   },
   "file_extension": ".py",
   "mimetype": "text/x-python",
   "name": "python",
   "nbconvert_exporter": "python",
   "pygments_lexer": "ipython3",
   "version": "3.8.3"
  },
  "metadata": {
   "interpreter": {
    "hash": "31f2aee4e71d21fbe5cf8b01ff0e069b9275f58929596ceb00d14d90e3e16cd6"
   }
  }
 },
 "nbformat": 4,
 "nbformat_minor": 2
}
