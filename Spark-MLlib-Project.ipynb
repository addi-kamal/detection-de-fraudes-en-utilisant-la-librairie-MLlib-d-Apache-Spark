{
 "cells": [
  {
   "cell_type": "markdown",
   "metadata": {},
   "source": [
    "# Importing libraries"
   ]
  },
  {
   "cell_type": "code",
   "execution_count": 1,
   "metadata": {},
   "outputs": [],
   "source": [
    "# import pyspark.sql module\n",
    "from pyspark.sql import SparkSession\n",
    "\n",
    "# Create SparkSession object\n",
    "spark = SparkSession.builder \\\n",
    "                    .master('local[*]') \\\n",
    "                    .appName('Spark Application') \\\n",
    "                    .getOrCreate()"
   ]
  },
  {
   "cell_type": "markdown",
   "metadata": {},
   "source": [
    "# Importing Data"
   ]
  },
  {
   "cell_type": "code",
   "execution_count": 2,
   "metadata": {},
   "outputs": [
    {
     "name": "stdout",
     "output_type": "stream",
     "text": [
      "+----+--------+--------+-----------+-------------+--------------+-----------+--------------+--------------+-------+--------------+\n",
      "|step|    type|  amount|   nameOrig|oldbalanceOrg|newbalanceOrig|   nameDest|oldbalanceDest|newbalanceDest|isFraud|isFlaggedFraud|\n",
      "+----+--------+--------+-----------+-------------+--------------+-----------+--------------+--------------+-------+--------------+\n",
      "|   1| PAYMENT| 9839.64|C1231006815|     170136.0|     160296.36|M1979787155|           0.0|           0.0|      0|             0|\n",
      "|   1| PAYMENT| 1864.28|C1666544295|      21249.0|      19384.72|M2044282225|           0.0|           0.0|      0|             0|\n",
      "|   1|TRANSFER|   181.0|C1305486145|        181.0|           0.0| C553264065|           0.0|           0.0|      1|             0|\n",
      "|   1|CASH_OUT|   181.0| C840083671|        181.0|           0.0|  C38997010|       21182.0|           0.0|      1|             0|\n",
      "|   1| PAYMENT|11668.14|C2048537720|      41554.0|      29885.86|M1230701703|           0.0|           0.0|      0|             0|\n",
      "+----+--------+--------+-----------+-------------+--------------+-----------+--------------+--------------+-------+--------------+\n",
      "only showing top 5 rows\n",
      "\n"
     ]
    }
   ],
   "source": [
    "# import data\n",
    "df = spark.read.csv('./data/creditcard.csv',\n",
    "                         sep=',',\n",
    "                         header=True)\n",
    "\n",
    "# View the first five records\n",
    "df.show(5)"
   ]
  },
  {
   "cell_type": "code",
   "execution_count": 3,
   "metadata": {},
   "outputs": [
    {
     "name": "stdout",
     "output_type": "stream",
     "text": [
      "The data contain 6362620 records.\n"
     ]
    }
   ],
   "source": [
    "# Get number of records\n",
    "print(\"The data contain %d records.\" % df.count())"
   ]
  },
  {
   "cell_type": "code",
   "execution_count": 4,
   "metadata": {},
   "outputs": [
    {
     "name": "stdout",
     "output_type": "stream",
     "text": [
      "The data contain 11 columns.\n"
     ]
    }
   ],
   "source": [
    "# Get number of columns\n",
    "print(\"The data contain %d columns.\" % len(df.columns))"
   ]
  },
  {
   "cell_type": "code",
   "execution_count": 5,
   "metadata": {},
   "outputs": [],
   "source": [
    "# Select randomly 1M records\n",
    "df = df.sample(False, 0.5, 42)"
   ]
  },
  {
   "cell_type": "markdown",
   "metadata": {},
   "source": [
    "# Data Pre-processing "
   ]
  },
  {
   "cell_type": "code",
   "execution_count": 6,
   "metadata": {},
   "outputs": [
    {
     "name": "stdout",
     "output_type": "stream",
     "text": [
      "+----+----+------+--------+-------------+--------------+--------+--------------+--------------+-------+--------------+\n",
      "|step|type|amount|nameOrig|oldbalanceOrg|newbalanceOrig|nameDest|oldbalanceDest|newbalanceDest|isFraud|isFlaggedFraud|\n",
      "+----+----+------+--------+-------------+--------------+--------+--------------+--------------+-------+--------------+\n",
      "|   0|   0|     0|       0|            0|             0|       0|             0|             0|      0|             0|\n",
      "+----+----+------+--------+-------------+--------------+--------+--------------+--------------+-------+--------------+\n",
      "\n"
     ]
    }
   ],
   "source": [
    "### Get count of nan or missing values\n",
    "from pyspark.sql.functions import isnan, when, count, col\n",
    "\n",
    "df.select([count(when(isnan(c), c)).alias(c) for c in df.columns]).show()"
   ]
  },
  {
   "cell_type": "markdown",
   "metadata": {},
   "source": [
    "### Observations:\n",
    "\n",
    "This dataset is clean, no missing values."
   ]
  },
  {
   "cell_type": "code",
   "execution_count": 7,
   "metadata": {},
   "outputs": [
    {
     "name": "stdout",
     "output_type": "stream",
     "text": [
      "root\n",
      " |-- step: string (nullable = true)\n",
      " |-- type: string (nullable = true)\n",
      " |-- amount: string (nullable = true)\n",
      " |-- nameOrig: string (nullable = true)\n",
      " |-- oldbalanceOrg: string (nullable = true)\n",
      " |-- newbalanceOrig: string (nullable = true)\n",
      " |-- nameDest: string (nullable = true)\n",
      " |-- oldbalanceDest: string (nullable = true)\n",
      " |-- newbalanceDest: string (nullable = true)\n",
      " |-- isFraud: string (nullable = true)\n",
      " |-- isFlaggedFraud: string (nullable = true)\n",
      "\n"
     ]
    }
   ],
   "source": [
    "# Schema of the data\n",
    "df.printSchema()"
   ]
  },
  {
   "cell_type": "code",
   "execution_count": 8,
   "metadata": {},
   "outputs": [],
   "source": [
    "from pyspark.sql.types import DoubleType\n",
    "\n",
    "df = df.withColumn(\"step\", df.step.cast(DoubleType()))\n",
    "df = df.withColumn(\"amount\", df.amount.cast(DoubleType()))\n",
    "df = df.withColumn(\"oldbalanceOrg\", df.oldbalanceOrg.cast(DoubleType()))\n",
    "df = df.withColumn(\"newbalanceOrig\", df.newbalanceOrig.cast(DoubleType()))\n",
    "df = df.withColumn(\"oldbalanceDest\", df.oldbalanceDest.cast(DoubleType()))\n",
    "df = df.withColumn(\"newbalanceDest\", df.newbalanceDest.cast(DoubleType()))\n",
    "df = df.withColumn(\"isFraud\", df.isFraud.cast('int'))"
   ]
  },
  {
   "cell_type": "code",
   "execution_count": 9,
   "metadata": {},
   "outputs": [
    {
     "data": {
      "text/plain": [
       "[('step', 'double'),\n",
       " ('type', 'string'),\n",
       " ('amount', 'double'),\n",
       " ('nameOrig', 'string'),\n",
       " ('oldbalanceOrg', 'double'),\n",
       " ('newbalanceOrig', 'double'),\n",
       " ('nameDest', 'string'),\n",
       " ('oldbalanceDest', 'double'),\n",
       " ('newbalanceDest', 'double'),\n",
       " ('isFraud', 'int'),\n",
       " ('isFlaggedFraud', 'string')]"
      ]
     },
     "execution_count": 9,
     "metadata": {},
     "output_type": "execute_result"
    }
   ],
   "source": [
    "# Check column data types\n",
    "df.dtypes"
   ]
  },
  {
   "cell_type": "code",
   "execution_count": 10,
   "metadata": {},
   "outputs": [],
   "source": [
    "df = df.drop('isFlaggedFraud')"
   ]
  },
  {
   "cell_type": "code",
   "execution_count": 11,
   "metadata": {},
   "outputs": [],
   "source": [
    "# Input variables : step, type, amount, nameOrig, oldbalanceOrg, newbalanceOrig, nameDest, oldbalanceDest, newbalanceDest\n",
    "# Output Variable : isFraud"
   ]
  },
  {
   "cell_type": "markdown",
   "metadata": {},
   "source": [
    "# EDA : Feature Engineering "
   ]
  },
  {
   "cell_type": "code",
   "execution_count": 12,
   "metadata": {},
   "outputs": [
    {
     "name": "stdout",
     "output_type": "stream",
     "text": [
      "+-------+------------------+--------+------------------+-----------+-----------------+------------------+-----------+------------------+------------------+--------------------+\n",
      "|summary|              step|    type|            amount|   nameOrig|    oldbalanceOrg|    newbalanceOrig|   nameDest|    oldbalanceDest|    newbalanceDest|             isFraud|\n",
      "+-------+------------------+--------+------------------+-----------+-----------------+------------------+-----------+------------------+------------------+--------------------+\n",
      "|  count|           3182505| 3182505|           3182505|    3182505|          3182505|           3182505|    3182505|           3182505|           3182505|             3182505|\n",
      "|   mean|243.32051827098465|    null|180108.63530602978|       null|832749.6707201254| 853986.0712083996|       null|1104812.3688028697|1229522.0882875763|0.001285779598146743|\n",
      "| stddev| 142.3514799023828|    null| 603080.4075271396|       null|2884824.170356285|2920635.8624181743|       null|3427265.1766493297|3700988.0592913437|0.035834714627960236|\n",
      "|    min|               1.0| CASH_IN|               0.0|C1000001337|              0.0|               0.0|C1000004082|               0.0|               0.0|                   0|\n",
      "|    max|             743.0|TRANSFER|     9.244551664E7| C999999614|    5.958504037E7|     4.958504037E7| M999999543|    3.5538143361E8|     3.555534163E8|                   1|\n",
      "+-------+------------------+--------+------------------+-----------+-----------------+------------------+-----------+------------------+------------------+--------------------+\n",
      "\n"
     ]
    }
   ],
   "source": [
    "df.describe().show()"
   ]
  },
  {
   "cell_type": "code",
   "execution_count": 13,
   "metadata": {},
   "outputs": [
    {
     "data": {
      "text/html": [
       "<div>\n",
       "<style scoped>\n",
       "    .dataframe tbody tr th:only-of-type {\n",
       "        vertical-align: middle;\n",
       "    }\n",
       "\n",
       "    .dataframe tbody tr th {\n",
       "        vertical-align: top;\n",
       "    }\n",
       "\n",
       "    .dataframe thead th {\n",
       "        text-align: right;\n",
       "    }\n",
       "</style>\n",
       "<table border=\"1\" class=\"dataframe\">\n",
       "  <thead>\n",
       "    <tr style=\"text-align: right;\">\n",
       "      <th></th>\n",
       "      <th>summary</th>\n",
       "      <th>step</th>\n",
       "      <th>amount</th>\n",
       "      <th>oldbalanceOrg</th>\n",
       "      <th>newbalanceOrig</th>\n",
       "      <th>oldbalanceDest</th>\n",
       "      <th>newbalanceDest</th>\n",
       "      <th>isFraud</th>\n",
       "    </tr>\n",
       "  </thead>\n",
       "  <tbody>\n",
       "    <tr>\n",
       "      <th>0</th>\n",
       "      <td>count</td>\n",
       "      <td>3182505</td>\n",
       "      <td>3182505</td>\n",
       "      <td>3182505</td>\n",
       "      <td>3182505</td>\n",
       "      <td>3182505</td>\n",
       "      <td>3182505</td>\n",
       "      <td>3182505</td>\n",
       "    </tr>\n",
       "    <tr>\n",
       "      <th>1</th>\n",
       "      <td>mean</td>\n",
       "      <td>243.32051827098465</td>\n",
       "      <td>180108.63530602978</td>\n",
       "      <td>832749.6707201254</td>\n",
       "      <td>853986.0712083996</td>\n",
       "      <td>1104812.3688028697</td>\n",
       "      <td>1229522.0882875763</td>\n",
       "      <td>0.001285779598146743</td>\n",
       "    </tr>\n",
       "    <tr>\n",
       "      <th>2</th>\n",
       "      <td>stddev</td>\n",
       "      <td>142.3514799023828</td>\n",
       "      <td>603080.4075271396</td>\n",
       "      <td>2884824.170356285</td>\n",
       "      <td>2920635.8624181743</td>\n",
       "      <td>3427265.1766493297</td>\n",
       "      <td>3700988.0592913437</td>\n",
       "      <td>0.035834714627960236</td>\n",
       "    </tr>\n",
       "    <tr>\n",
       "      <th>3</th>\n",
       "      <td>min</td>\n",
       "      <td>1.0</td>\n",
       "      <td>0.0</td>\n",
       "      <td>0.0</td>\n",
       "      <td>0.0</td>\n",
       "      <td>0.0</td>\n",
       "      <td>0.0</td>\n",
       "      <td>0</td>\n",
       "    </tr>\n",
       "    <tr>\n",
       "      <th>4</th>\n",
       "      <td>max</td>\n",
       "      <td>743.0</td>\n",
       "      <td>9.244551664E7</td>\n",
       "      <td>5.958504037E7</td>\n",
       "      <td>4.958504037E7</td>\n",
       "      <td>3.5538143361E8</td>\n",
       "      <td>3.555534163E8</td>\n",
       "      <td>1</td>\n",
       "    </tr>\n",
       "  </tbody>\n",
       "</table>\n",
       "</div>"
      ],
      "text/plain": [
       "  summary                step              amount      oldbalanceOrg  \\\n",
       "0   count             3182505             3182505            3182505   \n",
       "1    mean  243.32051827098465  180108.63530602978  832749.6707201254   \n",
       "2  stddev   142.3514799023828   603080.4075271396  2884824.170356285   \n",
       "3     min                 1.0                 0.0                0.0   \n",
       "4     max               743.0       9.244551664E7      5.958504037E7   \n",
       "\n",
       "       newbalanceOrig      oldbalanceDest      newbalanceDest  \\\n",
       "0             3182505             3182505             3182505   \n",
       "1   853986.0712083996  1104812.3688028697  1229522.0882875763   \n",
       "2  2920635.8624181743  3427265.1766493297  3700988.0592913437   \n",
       "3                 0.0                 0.0                 0.0   \n",
       "4       4.958504037E7      3.5538143361E8       3.555534163E8   \n",
       "\n",
       "                isFraud  \n",
       "0               3182505  \n",
       "1  0.001285779598146743  \n",
       "2  0.035834714627960236  \n",
       "3                     0  \n",
       "4                     1  "
      ]
     },
     "execution_count": 13,
     "metadata": {},
     "output_type": "execute_result"
    }
   ],
   "source": [
    "numeric_features = [t[0] for t in df.dtypes if t[1] == 'double' or t[1]=='int']\n",
    "df.select(numeric_features).describe().toPandas()"
   ]
  },
  {
   "cell_type": "code",
   "execution_count": 14,
   "metadata": {},
   "outputs": [
    {
     "name": "stdout",
     "output_type": "stream",
     "text": [
      "+-------+-------+\n",
      "|isFraud|  count|\n",
      "+-------+-------+\n",
      "|      1|   4092|\n",
      "|      0|3178413|\n",
      "+-------+-------+\n",
      "\n"
     ]
    }
   ],
   "source": [
    "df.groupBy(\"isFraud\").count().show()"
   ]
  },
  {
   "cell_type": "code",
   "execution_count": 15,
   "metadata": {},
   "outputs": [
    {
     "name": "stdout",
     "output_type": "stream",
     "text": [
      "Distribution of the Classes in the dataset\n",
      "0    0.998714\n",
      "1    0.001286\n",
      "Name: isFraud, dtype: float64\n"
     ]
    }
   ],
   "source": [
    "import seaborn as sns\n",
    "from matplotlib import pyplot as plt\n",
    "pd_df = df.toPandas()\n",
    "print('Distribution of the Classes in the dataset')\n",
    "print(pd_df['isFraud'].value_counts()/len(pd_df))"
   ]
  },
  {
   "cell_type": "code",
   "execution_count": 16,
   "metadata": {},
   "outputs": [
    {
     "data": {
      "image/png": "[encoded data removed]",
      "text/plain": [
       "<Figure size 1152x432 with 2 Axes>"
      ]
     },
     "metadata": {
      "needs_background": "light"
     },
     "output_type": "display_data"
    }
   ],
   "source": [
    "plt.subplots(1,2, figsize=(16,6))\n",
    "\n",
    "# countplot to visualize the no. of observations under each class\n",
    "plt.subplot(1,2,1)\n",
    "ax = pd_df['isFraud'].value_counts().plot(kind='bar')\n",
    "plt.xlabel('Transaction Type', fontsize=15, fontweight='bold')\n",
    "plt.xticks(ticks=[0,1], labels=['Non-Fraud','Fraud'], rotation=0, fontsize=12, fontweight='bold')\n",
    "plt.ylabel('No. of observations (Millions)', fontsize=15, fontweight='bold')\n",
    "plt.yticks(fontsize=12, fontweight='bold')\n",
    "plt.title('No. of obervations in each class', fontsize=18, fontweight='bold')\n",
    "for i in ax.patches:\n",
    "    ax.text(i.get_x()+0.1, i.get_height()+3, str(round(i.get_height(), 2)), fontsize=15, color='black')\n",
    "\n",
    "# pie chart to visualize the percentage distribution of each class\n",
    "plt.subplot(1,2,2)\n",
    "plt.pie(pd_df['isFraud'].value_counts(), labels=['Non-Fraud','Fraud'], autopct='%.2f')\n",
    "plt.title('Percentage distribution of each class', fontsize=18, fontweight='bold')\n",
    "\n",
    "# display plot\n",
    "plt.show()"
   ]
  },
  {
   "cell_type": "markdown",
   "metadata": {},
   "source": [
    "### Observations:\n",
    "\n",
    "Fraudulent transaction observations are only 8,213 (0.13%). Fraud is rare."
   ]
  },
  {
   "cell_type": "code",
   "execution_count": 17,
   "metadata": {
    "scrolled": false
   },
   "outputs": [
    {
     "data": {
      "image/png": "[encoded data removed]",
      "text/plain": [
       "<Figure size 864x432 with 1 Axes>"
      ]
     },
     "metadata": {
      "needs_background": "light"
     },
     "output_type": "display_data"
    }
   ],
   "source": [
    "plt.subplots(figsize=(12,6))\n",
    "sns.countplot('type', data=pd_df)\n",
    "plt.xlabel('Type of Transaction', fontsize=15, fontweight='bold')\n",
    "plt.xticks(fontsize=12, fontweight='bold')\n",
    "plt.ylabel('No. of transactions', fontsize=15, fontweight='bold')\n",
    "plt.yticks(fontsize=12, fontweight='bold')\n",
    "plt.title('Distribution  of transactions by type', fontsize=15, fontweight='bold')\n",
    "plt.show()"
   ]
  },
  {
   "cell_type": "code",
   "execution_count": 18,
   "metadata": {},
   "outputs": [
    {
     "data": {
      "image/png": "[encoded data removed]",
      "text/plain": [
       "<Figure size 504x432 with 1 Axes>"
      ]
     },
     "metadata": {
      "needs_background": "light"
     },
     "output_type": "display_data"
    }
   ],
   "source": [
    "plt.subplots(figsize=(7,6))\n",
    "fr_df = pd_df[pd_df['isFraud'] == 1]\n",
    "ax =sns.countplot('type', data=fr_df)\n",
    "for i in ax.patches:\n",
    "    ax.text(i.get_x()+0.1, i.get_height()+3, str(round(i.get_height(), 2)), fontsize=15, color='black')\n",
    "plt.xlabel('Type of Transaction', fontsize=15, fontweight='bold')\n",
    "plt.xticks(fontsize=12, fontweight='bold')\n",
    "plt.ylabel('No. of fraudulent transactions', fontsize=15, fontweight='bold')\n",
    "plt.yticks(fontsize=12, fontweight='bold')\n",
    "plt.title('No. of fraudulent transactions by type', fontsize=15, fontweight='bold')\n",
    "plt.show()"
   ]
  },
  {
   "cell_type": "code",
   "execution_count": 19,
   "metadata": {},
   "outputs": [
    {
     "name": "stdout",
     "output_type": "stream",
     "text": [
      "CASH_OUT    0.501222\n",
      "TRANSFER    0.498778\n",
      "Name: type, dtype: float64\n"
     ]
    }
   ],
   "source": [
    "print(fr_df['type'].value_counts()/len(fr_df))"
   ]
  },
  {
   "cell_type": "markdown",
   "metadata": {},
   "source": [
    "Nous pouvons observer que les transactions frauduleuses sont uniquement des retraits (cash_out) et des virements (transfer) avec des taux de fraude de 0.5% pour chacun d'entre eux."
   ]
  },
  {
   "cell_type": "code",
   "execution_count": 20,
   "metadata": {},
   "outputs": [
    {
     "data": {
      "image/png": "[encoded data removed]",
      "text/plain": [
       "<Figure size 576x576 with 36 Axes>"
      ]
     },
     "metadata": {
      "needs_background": "light"
     },
     "output_type": "display_data"
    }
   ],
   "source": [
    "import pandas as pd\n",
    "from pandas.plotting import scatter_matrix\n",
    "\n",
    "numeric_features = ['step', 'amount', 'oldbalanceOrg',\n",
    "                    'newbalanceOrig','oldbalanceDest', \n",
    "                    'newbalanceDest']\n",
    "\n",
    "numeric_data = df.select(numeric_features).toPandas()\n",
    "axs = pd.plotting.scatter_matrix(numeric_data, figsize=(8, 8));\n",
    "n = len(numeric_data.columns)\n",
    "for i in range(n):\n",
    "    v = axs[i, 0]\n",
    "    v.yaxis.label.set_rotation(0)\n",
    "    v.yaxis.label.set_ha('right')\n",
    "    v.set_yticks(())\n",
    "    h = axs[n-1, i]\n",
    "    h.xaxis.label.set_rotation(90)\n",
    "    h.set_xticks(())"
   ]
  },
  {
   "cell_type": "code",
   "execution_count": 21,
   "metadata": {},
   "outputs": [
    {
     "data": {
      "image/png": "[encoded data removed]",
      "text/plain": [
       "<Figure size 1296x576 with 2 Axes>"
      ]
     },
     "metadata": {
      "needs_background": "light"
     },
     "output_type": "display_data"
    }
   ],
   "source": [
    "# we can check the important parameters that could effect our model.\n",
    "f, ax = plt.subplots(figsize=(18,8))\n",
    "\n",
    "sub_sample_corr = pd_df.corr()\n",
    "sns.heatmap(sub_sample_corr, cmap='coolwarm_r', annot_kws={'size':20}, ax=ax)\n",
    "ax.set_title('Correlation Matrix', fontsize=14)\n",
    "plt.show()"
   ]
  },
  {
   "cell_type": "markdown",
   "metadata": {},
   "source": [
    "Il n'y a pas de corrélations visibles entre les variables."
   ]
  },
  {
   "cell_type": "markdown",
   "metadata": {},
   "source": [
    "# Data Pre-processing :"
   ]
  },
  {
   "cell_type": "code",
   "execution_count": 22,
   "metadata": {},
   "outputs": [],
   "source": [
    "data = df"
   ]
  },
  {
   "cell_type": "code",
   "execution_count": 23,
   "metadata": {},
   "outputs": [
    {
     "name": "stdout",
     "output_type": "stream",
     "text": [
      "+----+--------+-------+-----------+-------------+--------------+-----------+--------------+--------------+-------+\n",
      "|step|    type| amount|   nameOrig|oldbalanceOrg|newbalanceOrig|   nameDest|oldbalanceDest|newbalanceDest|isFraud|\n",
      "+----+--------+-------+-----------+-------------+--------------+-----------+--------------+--------------+-------+\n",
      "| 1.0|CASH_OUT|  181.0| C840083671|        181.0|           0.0|  C38997010|       21182.0|           0.0|      1|\n",
      "| 1.0| PAYMENT|7861.64|C1912850431|    176087.23|     168225.59| M633326333|           0.0|           0.0|      0|\n",
      "| 1.0|   DEBIT|9644.94|C1900366749|       4465.0|           0.0| C997608398|       10845.0|     157982.12|      0|\n",
      "| 1.0| PAYMENT|2560.74|C1648232591|       5070.0|       2509.26| M972865270|           0.0|           0.0|      0|\n",
      "| 1.0| PAYMENT|1563.82| C761750706|        450.0|           0.0|M1731217984|           0.0|           0.0|      0|\n",
      "+----+--------+-------+-----------+-------------+--------------+-----------+--------------+--------------+-------+\n",
      "only showing top 5 rows\n",
      "\n"
     ]
    }
   ],
   "source": [
    "data.show(5)"
   ]
  },
  {
   "cell_type": "code",
   "execution_count": 24,
   "metadata": {},
   "outputs": [
    {
     "name": "stdout",
     "output_type": "stream",
     "text": [
      "+--------+-----------+-----------+\n",
      "|    type|   nameOrig|   nameDest|\n",
      "+--------+-----------+-----------+\n",
      "|CASH_OUT| C840083671|  C38997010|\n",
      "| PAYMENT|C1912850431| M633326333|\n",
      "|   DEBIT|C1900366749| C997608398|\n",
      "| PAYMENT|C1648232591| M972865270|\n",
      "| PAYMENT| C761750706|M1731217984|\n",
      "+--------+-----------+-----------+\n",
      "only showing top 5 rows\n",
      "\n"
     ]
    }
   ],
   "source": [
    "data['type', 'nameOrig', 'nameDest'].show(5)"
   ]
  },
  {
   "cell_type": "markdown",
   "metadata": {},
   "source": [
    "## separate nameOrig and nameDest :"
   ]
  },
  {
   "cell_type": "code",
   "execution_count": 25,
   "metadata": {},
   "outputs": [
    {
     "name": "stdout",
     "output_type": "stream",
     "text": [
      "+----+--------+-------+-------------+--------------+-----------+--------------+--------------+-------+--------+----------+\n",
      "|step|    type| amount|oldbalanceOrg|newbalanceOrig|   nameDest|oldbalanceDest|newbalanceDest|isFraud|str_orig|  num_orig|\n",
      "+----+--------+-------+-------------+--------------+-----------+--------------+--------------+-------+--------+----------+\n",
      "| 1.0|CASH_OUT|  181.0|        181.0|           0.0|  C38997010|       21182.0|           0.0|      1|       C| 840083671|\n",
      "| 1.0| PAYMENT|7861.64|    176087.23|     168225.59| M633326333|           0.0|           0.0|      0|       C|1912850431|\n",
      "| 1.0|   DEBIT|9644.94|       4465.0|           0.0| C997608398|       10845.0|     157982.12|      0|       C|1900366749|\n",
      "| 1.0| PAYMENT|2560.74|       5070.0|       2509.26| M972865270|           0.0|           0.0|      0|       C|1648232591|\n",
      "| 1.0| PAYMENT|1563.82|        450.0|           0.0|M1731217984|           0.0|           0.0|      0|       C| 761750706|\n",
      "+----+--------+-------+-------------+--------------+-----------+--------------+--------------+-------+--------+----------+\n",
      "only showing top 5 rows\n",
      "\n"
     ]
    }
   ],
   "source": [
    "import pyspark.sql.functions as F\n",
    "\n",
    "data = (\n",
    "    data.withColumn('str_orig', F.substring('nameOrig', 1,1))\n",
    "    .withColumn('num_orig', F.col('nameOrig').substr(F.lit(2), F.length('nameOrig') - F.lit(1)))\n",
    ")\n",
    "data = data.drop('nameOrig')\n",
    "# show df\n",
    "data.show(5)"
   ]
  },
  {
   "cell_type": "code",
   "execution_count": 26,
   "metadata": {},
   "outputs": [],
   "source": [
    "data = data.withColumn(\"num_orig\", data.num_orig.cast(DoubleType()))"
   ]
  },
  {
   "cell_type": "code",
   "execution_count": 27,
   "metadata": {},
   "outputs": [
    {
     "name": "stdout",
     "output_type": "stream",
     "text": [
      "+----+--------+-------+-------------+--------------+--------------+--------------+-------+--------+-------------+--------+----------+\n",
      "|step|    type| amount|oldbalanceOrg|newbalanceOrig|oldbalanceDest|newbalanceDest|isFraud|str_orig|     num_orig|str_dest|  num_dest|\n",
      "+----+--------+-------+-------------+--------------+--------------+--------------+-------+--------+-------------+--------+----------+\n",
      "| 1.0|CASH_OUT|  181.0|        181.0|           0.0|       21182.0|           0.0|      1|       C| 8.40083671E8|       C|  38997010|\n",
      "| 1.0| PAYMENT|7861.64|    176087.23|     168225.59|           0.0|           0.0|      0|       C|1.912850431E9|       M| 633326333|\n",
      "| 1.0|   DEBIT|9644.94|       4465.0|           0.0|       10845.0|     157982.12|      0|       C|1.900366749E9|       C| 997608398|\n",
      "| 1.0| PAYMENT|2560.74|       5070.0|       2509.26|           0.0|           0.0|      0|       C|1.648232591E9|       M| 972865270|\n",
      "| 1.0| PAYMENT|1563.82|        450.0|           0.0|           0.0|           0.0|      0|       C| 7.61750706E8|       M|1731217984|\n",
      "+----+--------+-------+-------------+--------------+--------------+--------------+-------+--------+-------------+--------+----------+\n",
      "only showing top 5 rows\n",
      "\n"
     ]
    }
   ],
   "source": [
    "import pyspark.sql.functions as F\n",
    "\n",
    "data = (\n",
    "    data.withColumn('str_dest', F.substring('nameDest', 1,1))\n",
    "    .withColumn('num_dest', F.col('nameDest').substr(F.lit(2), F.length('nameDest') - F.lit(1)))\n",
    ")\n",
    "data = data.drop('nameDest')\n",
    "# show df\n",
    "data.show(5)"
   ]
  },
  {
   "cell_type": "code",
   "execution_count": 28,
   "metadata": {},
   "outputs": [],
   "source": [
    "data = data.withColumn(\"num_dest\", data.num_orig.cast(DoubleType()))"
   ]
  },
  {
   "cell_type": "code",
   "execution_count": 29,
   "metadata": {},
   "outputs": [
    {
     "data": {
      "text/plain": [
       "[('step', 'double'),\n",
       " ('type', 'string'),\n",
       " ('amount', 'double'),\n",
       " ('oldbalanceOrg', 'double'),\n",
       " ('newbalanceOrig', 'double'),\n",
       " ('oldbalanceDest', 'double'),\n",
       " ('newbalanceDest', 'double'),\n",
       " ('isFraud', 'int'),\n",
       " ('str_orig', 'string'),\n",
       " ('num_orig', 'double'),\n",
       " ('str_dest', 'string'),\n",
       " ('num_dest', 'double')]"
      ]
     },
     "execution_count": 29,
     "metadata": {},
     "output_type": "execute_result"
    }
   ],
   "source": [
    "data.dtypes"
   ]
  },
  {
   "cell_type": "markdown",
   "metadata": {},
   "source": [
    "## Apply OneHotEncoder to type, str_orig and str_dest columns"
   ]
  },
  {
   "cell_type": "markdown",
   "metadata": {},
   "source": [
    "### type column :"
   ]
  },
  {
   "cell_type": "code",
   "execution_count": 30,
   "metadata": {},
   "outputs": [
    {
     "name": "stdout",
     "output_type": "stream",
     "text": [
      "+----+-------+-------------+--------------+--------------+--------------+-------+--------+-------------+--------+-------------+---------+\n",
      "|step| amount|oldbalanceOrg|newbalanceOrig|oldbalanceDest|newbalanceDest|isFraud|str_orig|     num_orig|str_dest|     num_dest|typeIndex|\n",
      "+----+-------+-------------+--------------+--------------+--------------+-------+--------+-------------+--------+-------------+---------+\n",
      "| 1.0|  181.0|        181.0|           0.0|       21182.0|           0.0|      1|       C| 8.40083671E8|       C| 8.40083671E8|      0.0|\n",
      "| 1.0|7861.64|    176087.23|     168225.59|           0.0|           0.0|      0|       C|1.912850431E9|       M|1.912850431E9|      1.0|\n",
      "| 1.0|9644.94|       4465.0|           0.0|       10845.0|     157982.12|      0|       C|1.900366749E9|       C|1.900366749E9|      4.0|\n",
      "| 1.0|2560.74|       5070.0|       2509.26|           0.0|           0.0|      0|       C|1.648232591E9|       M|1.648232591E9|      1.0|\n",
      "| 1.0|1563.82|        450.0|           0.0|           0.0|           0.0|      0|       C| 7.61750706E8|       M| 7.61750706E8|      1.0|\n",
      "+----+-------+-------------+--------------+--------------+--------------+-------+--------+-------------+--------+-------------+---------+\n",
      "only showing top 5 rows\n",
      "\n"
     ]
    }
   ],
   "source": [
    "from pyspark.ml.feature import StringIndexer\n",
    "type_indexer = StringIndexer(inputCol=\"type\", outputCol=\"typeIndex\")\n",
    "#Fits a model to the input dataset with optional parameters.\n",
    "data = type_indexer.fit(data).transform(data)\n",
    "data = data.drop('type')\n",
    "data.show(5)"
   ]
  },
  {
   "cell_type": "code",
   "execution_count": 31,
   "metadata": {},
   "outputs": [
    {
     "name": "stdout",
     "output_type": "stream",
     "text": [
      "+---------+-------+\n",
      "|typeIndex|  count|\n",
      "+---------+-------+\n",
      "|      0.0|1119800|\n",
      "|      1.0|1075637|\n",
      "|      4.0|  20621|\n",
      "|      3.0| 266850|\n",
      "|      2.0| 699597|\n",
      "+---------+-------+\n",
      "\n"
     ]
    }
   ],
   "source": [
    "data.groupBy(\"typeIndex\").count().show()"
   ]
  },
  {
   "cell_type": "markdown",
   "metadata": {},
   "source": [
    "### str_orig column :"
   ]
  },
  {
   "cell_type": "code",
   "execution_count": 32,
   "metadata": {},
   "outputs": [
    {
     "name": "stdout",
     "output_type": "stream",
     "text": [
      "+----+-------+-------------+--------------+--------------+--------------+-------+-------------+--------+-------------+---------+-------------+\n",
      "|step| amount|oldbalanceOrg|newbalanceOrig|oldbalanceDest|newbalanceDest|isFraud|     num_orig|str_dest|     num_dest|typeIndex|nameOrigIndex|\n",
      "+----+-------+-------------+--------------+--------------+--------------+-------+-------------+--------+-------------+---------+-------------+\n",
      "| 1.0|  181.0|        181.0|           0.0|       21182.0|           0.0|      1| 8.40083671E8|       C| 8.40083671E8|      0.0|          0.0|\n",
      "| 1.0|7861.64|    176087.23|     168225.59|           0.0|           0.0|      0|1.912850431E9|       M|1.912850431E9|      1.0|          0.0|\n",
      "| 1.0|9644.94|       4465.0|           0.0|       10845.0|     157982.12|      0|1.900366749E9|       C|1.900366749E9|      4.0|          0.0|\n",
      "| 1.0|2560.74|       5070.0|       2509.26|           0.0|           0.0|      0|1.648232591E9|       M|1.648232591E9|      1.0|          0.0|\n",
      "| 1.0|1563.82|        450.0|           0.0|           0.0|           0.0|      0| 7.61750706E8|       M| 7.61750706E8|      1.0|          0.0|\n",
      "+----+-------+-------------+--------------+--------------+--------------+-------+-------------+--------+-------------+---------+-------------+\n",
      "only showing top 5 rows\n",
      "\n"
     ]
    }
   ],
   "source": [
    "nameOrig_indexer = StringIndexer(inputCol=\"str_orig\", outputCol=\"nameOrigIndex\")\n",
    "#Fits a model to the input dataset with optional parameters.\n",
    "data = nameOrig_indexer.fit(data).transform(data).drop('str_orig')\n",
    "data.show(5)"
   ]
  },
  {
   "cell_type": "markdown",
   "metadata": {},
   "source": [
    "### str_dest column :"
   ]
  },
  {
   "cell_type": "code",
   "execution_count": 33,
   "metadata": {},
   "outputs": [
    {
     "name": "stdout",
     "output_type": "stream",
     "text": [
      "+----+-------+-------------+--------------+--------------+--------------+-------+-------------+-------------+---------+-------------+-------------+\n",
      "|step| amount|oldbalanceOrg|newbalanceOrig|oldbalanceDest|newbalanceDest|isFraud|     num_orig|     num_dest|typeIndex|nameOrigIndex|nameDestIndex|\n",
      "+----+-------+-------------+--------------+--------------+--------------+-------+-------------+-------------+---------+-------------+-------------+\n",
      "| 1.0|  181.0|        181.0|           0.0|       21182.0|           0.0|      1| 8.40083671E8| 8.40083671E8|      0.0|          0.0|          0.0|\n",
      "| 1.0|7861.64|    176087.23|     168225.59|           0.0|           0.0|      0|1.912850431E9|1.912850431E9|      1.0|          0.0|          1.0|\n",
      "| 1.0|9644.94|       4465.0|           0.0|       10845.0|     157982.12|      0|1.900366749E9|1.900366749E9|      4.0|          0.0|          0.0|\n",
      "| 1.0|2560.74|       5070.0|       2509.26|           0.0|           0.0|      0|1.648232591E9|1.648232591E9|      1.0|          0.0|          1.0|\n",
      "| 1.0|1563.82|        450.0|           0.0|           0.0|           0.0|      0| 7.61750706E8| 7.61750706E8|      1.0|          0.0|          1.0|\n",
      "+----+-------+-------------+--------------+--------------+--------------+-------+-------------+-------------+---------+-------------+-------------+\n",
      "only showing top 5 rows\n",
      "\n"
     ]
    }
   ],
   "source": [
    "nameDest_indexer = StringIndexer(inputCol=\"str_dest\", outputCol=\"nameDestIndex\")\n",
    "#Fits a model to the input dataset with optional parameters.\n",
    "data = nameDest_indexer.fit(data).transform(data).drop('str_dest')\n",
    "data.show(5)"
   ]
  },
  {
   "cell_type": "code",
   "execution_count": 34,
   "metadata": {},
   "outputs": [
    {
     "data": {
      "text/plain": [
       "[('step', 'double'),\n",
       " ('amount', 'double'),\n",
       " ('oldbalanceOrg', 'double'),\n",
       " ('newbalanceOrig', 'double'),\n",
       " ('oldbalanceDest', 'double'),\n",
       " ('newbalanceDest', 'double'),\n",
       " ('isFraud', 'int'),\n",
       " ('num_orig', 'double'),\n",
       " ('num_dest', 'double'),\n",
       " ('typeIndex', 'double'),\n",
       " ('nameOrigIndex', 'double'),\n",
       " ('nameDestIndex', 'double')]"
      ]
     },
     "execution_count": 34,
     "metadata": {},
     "output_type": "execute_result"
    }
   ],
   "source": [
    "data.dtypes"
   ]
  },
  {
   "cell_type": "code",
   "execution_count": 35,
   "metadata": {},
   "outputs": [
    {
     "name": "stdout",
     "output_type": "stream",
     "text": [
      "+----+-------+-------------+--------------+--------------+--------------+-------+-------------+-------------+---------+-------------+-------------+\n",
      "|step| amount|oldbalanceOrg|newbalanceOrig|oldbalanceDest|newbalanceDest|isFraud|     num_orig|     num_dest|typeIndex|nameOrigIndex|nameDestIndex|\n",
      "+----+-------+-------------+--------------+--------------+--------------+-------+-------------+-------------+---------+-------------+-------------+\n",
      "| 1.0|  181.0|        181.0|           0.0|       21182.0|           0.0|      1| 8.40083671E8| 8.40083671E8|      0.0|          0.0|          0.0|\n",
      "| 1.0|7861.64|    176087.23|     168225.59|           0.0|           0.0|      0|1.912850431E9|1.912850431E9|      1.0|          0.0|          1.0|\n",
      "| 1.0|9644.94|       4465.0|           0.0|       10845.0|     157982.12|      0|1.900366749E9|1.900366749E9|      4.0|          0.0|          0.0|\n",
      "| 1.0|2560.74|       5070.0|       2509.26|           0.0|           0.0|      0|1.648232591E9|1.648232591E9|      1.0|          0.0|          1.0|\n",
      "| 1.0|1563.82|        450.0|           0.0|           0.0|           0.0|      0| 7.61750706E8| 7.61750706E8|      1.0|          0.0|          1.0|\n",
      "+----+-------+-------------+--------------+--------------+--------------+-------+-------------+-------------+---------+-------------+-------------+\n",
      "only showing top 5 rows\n",
      "\n"
     ]
    }
   ],
   "source": [
    "data.show(5)"
   ]
  },
  {
   "cell_type": "code",
   "execution_count": null,
   "metadata": {},
   "outputs": [],
   "source": []
  },
  {
   "cell_type": "code",
   "execution_count": 36,
   "metadata": {},
   "outputs": [],
   "source": [
    "from pyspark.ml.feature import VectorAssembler\n",
    "\n",
    "assembler = VectorAssembler(inputCols=['amount', 'oldbalanceOrg', 'newbalanceOrig', 'oldbalanceDest', \n",
    "                                       'newbalanceDest', 'num_orig', 'num_dest', 'typeIndex','nameOrigIndex',\n",
    "                                       'nameDestIndex'], outputCol='features')\n",
    "data = assembler.transform(data)"
   ]
  },
  {
   "cell_type": "code",
   "execution_count": 37,
   "metadata": {
    "scrolled": true
   },
   "outputs": [
    {
     "name": "stdout",
     "output_type": "stream",
     "text": [
      "+--------------------+-------+\n",
      "|            features|isFraud|\n",
      "+--------------------+-------+\n",
      "|(10,[0,1,3,5,6],[...|      1|\n",
      "|[7861.64,176087.2...|      0|\n",
      "|[9644.94,4465.0,0...|      0|\n",
      "|[2560.74,5070.0,2...|      0|\n",
      "|[1563.82,450.0,0....|      0|\n",
      "+--------------------+-------+\n",
      "only showing top 5 rows\n",
      "\n"
     ]
    }
   ],
   "source": [
    "data['features','isFraud'].show(5)"
   ]
  },
  {
   "cell_type": "markdown",
   "metadata": {},
   "source": [
    "### Split the data to training sets and test sets :"
   ]
  },
  {
   "cell_type": "code",
   "execution_count": 38,
   "metadata": {},
   "outputs": [],
   "source": [
    "(train, test )= data.randomSplit([0.8, 0.2], seed=23)"
   ]
  },
  {
   "cell_type": "code",
   "execution_count": 39,
   "metadata": {},
   "outputs": [
    {
     "data": {
      "text/plain": [
       "[2544735, 637770]"
      ]
     },
     "execution_count": 39,
     "metadata": {},
     "output_type": "execute_result"
    }
   ],
   "source": [
    "[train.count(), test.count()]"
   ]
  },
  {
   "cell_type": "markdown",
   "metadata": {},
   "source": [
    "# Logistic Regression :"
   ]
  },
  {
   "cell_type": "code",
   "execution_count": 88,
   "metadata": {},
   "outputs": [],
   "source": [
    "from pyspark.ml.classification import LogisticRegression\n",
    "#Create a Logistic Regression classifier.\n",
    "logistic = LogisticRegression(labelCol = \"isFraud\", featuresCol = \"features\")\n",
    "# Learn from the training data.\n",
    "lrModel = logistic.fit(train)"
   ]
  },
  {
   "cell_type": "code",
   "execution_count": 89,
   "metadata": {},
   "outputs": [],
   "source": [
    "prediction_LR = lrModel.transform(test)"
   ]
  },
  {
   "cell_type": "code",
   "execution_count": 90,
   "metadata": {},
   "outputs": [
    {
     "name": "stdout",
     "output_type": "stream",
     "text": [
      "+-------+----------+------+\n",
      "|isFraud|prediction| count|\n",
      "+-------+----------+------+\n",
      "|      1|       0.0|   459|\n",
      "|      0|       0.0|636923|\n",
      "|      1|       1.0|   346|\n",
      "|      0|       1.0|    42|\n",
      "+-------+----------+------+\n",
      "\n"
     ]
    }
   ],
   "source": [
    "prediction_LR.groupBy(\"isFraud\", \"prediction\").count().show()"
   ]
  },
  {
   "cell_type": "code",
   "execution_count": 91,
   "metadata": {},
   "outputs": [
    {
     "name": "stdout",
     "output_type": "stream",
     "text": [
      "Recall :  0.4298136645962733\n",
      "Precision :  0.8917525773195877\n",
      "F1 Score :  0.5800502933780386\n"
     ]
    }
   ],
   "source": [
    "tp = prediction_LR[(prediction_LR.isFraud == 1) & (prediction_LR.prediction == 1)].count()\n",
    "tn = prediction_LR[(prediction_LR.isFraud == 0) & (prediction_LR.prediction == 0)].count()\n",
    "fp = prediction_LR[(prediction_LR.isFraud == 0) & (prediction_LR.prediction == 1)].count()\n",
    "fn = prediction_LR[(prediction_LR.isFraud == 1) & (prediction_LR.prediction == 0)].count()\n",
    "recall_LR = tp/(tp+fn)\n",
    "precision_LR = tp/(tp+fp)\n",
    "f1_score_LR = 2*(recall_LR*precision_LR)/(recall_LR+precision_LR)\n",
    "print(\"Recall : \",recall_LR)\n",
    "print(\"Precision : \", precision_LR)\n",
    "print(\"F1 Score : \", f1_score_LR)"
   ]
  },
  {
   "cell_type": "code",
   "execution_count": 92,
   "metadata": {},
   "outputs": [
    {
     "name": "stdout",
     "output_type": "stream",
     "text": [
      "Area under ROC = 0.9878424845929653\n"
     ]
    }
   ],
   "source": [
    "# Area under ROC curve\n",
    "from pyspark.ml.evaluation import BinaryClassificationEvaluator\n",
    "evaluator = BinaryClassificationEvaluator(labelCol=\"isFraud\")\n",
    "areaUnderROC_LR = evaluator.evaluate(prediction_LR, {evaluator.metricName: \"areaUnderROC\"})\n",
    "print(\"Area under ROC = %s\" % areaUnderROC_LR)"
   ]
  },
  {
   "cell_type": "code",
   "execution_count": 93,
   "metadata": {},
   "outputs": [
    {
     "name": "stdout",
     "output_type": "stream",
     "text": [
      "Area under PR = 0.47870897117876576\n"
     ]
    }
   ],
   "source": [
    "# Area under precision-recall curve\n",
    "areaUnderPR_LR = evaluator.evaluate(prediction_LR, {evaluator.metricName: \"areaUnderPR\"})\n",
    "print(\"Area under PR = %s\" % areaUnderPR_LR)"
   ]
  },
  {
   "cell_type": "code",
   "execution_count": 94,
   "metadata": {},
   "outputs": [],
   "source": [
    "results = {}"
   ]
  },
  {
   "cell_type": "code",
   "execution_count": 95,
   "metadata": {},
   "outputs": [],
   "source": [
    "results['Logestic Regression'] = [recall_LR, precision_LR, f1_score_LR, areaUnderROC_LR, areaUnderPR_LR]"
   ]
  },
  {
   "cell_type": "code",
   "execution_count": 96,
   "metadata": {},
   "outputs": [
    {
     "data": {
      "text/plain": [
       "{'Logestic Regression': [0.4298136645962733,\n",
       "  0.8917525773195877,\n",
       "  0.5800502933780386,\n",
       "  0.9878424845929653,\n",
       "  0.47870897117876576]}"
      ]
     },
     "execution_count": 96,
     "metadata": {},
     "output_type": "execute_result"
    }
   ],
   "source": [
    "results"
   ]
  },
  {
   "cell_type": "markdown",
   "metadata": {},
   "source": [
    "# Decision Tree Classifier :"
   ]
  },
  {
   "cell_type": "code",
   "execution_count": 97,
   "metadata": {},
   "outputs": [],
   "source": [
    "from pyspark.ml.classification import DecisionTreeClassifier\n",
    "\n",
    "# Using the DecisionTree classifier model\n",
    "dt = DecisionTreeClassifier(labelCol = \"isFraud\", featuresCol = \"features\", seed = 54321, maxDepth = 5)\n",
    "\n",
    "dt_model = dt.fit(train)"
   ]
  },
  {
   "cell_type": "code",
   "execution_count": 98,
   "metadata": {},
   "outputs": [],
   "source": [
    "# Make predictions.\n",
    "prediction_DT = dt_model.transform(test)"
   ]
  },
  {
   "cell_type": "code",
   "execution_count": 99,
   "metadata": {},
   "outputs": [
    {
     "name": "stdout",
     "output_type": "stream",
     "text": [
      "+--------------------+---------------+-----------+----------+\n",
      "|            features|  rawPrediction|probability|prediction|\n",
      "+--------------------+---------------+-----------+----------+\n",
      "|[23.31,45360.0,45...|[1434936.0,0.0]|  [1.0,0.0]|       0.0|\n",
      "|(10,[0,5,6,7,9],[...|[1434936.0,0.0]|  [1.0,0.0]|       0.0|\n",
      "|[112.56,609035.85...|[1434936.0,0.0]|  [1.0,0.0]|       0.0|\n",
      "|[154.87,9339.0,91...|[1434936.0,0.0]|  [1.0,0.0]|       0.0|\n",
      "|[339.82,12076.0,1...|[1434936.0,0.0]|  [1.0,0.0]|       0.0|\n",
      "+--------------------+---------------+-----------+----------+\n",
      "only showing top 5 rows\n",
      "\n"
     ]
    }
   ],
   "source": [
    "# Select example rows to display.\n",
    "prediction_DT.select('features', 'rawPrediction', 'probability', 'prediction').show(5)"
   ]
  },
  {
   "cell_type": "code",
   "execution_count": 100,
   "metadata": {},
   "outputs": [
    {
     "name": "stdout",
     "output_type": "stream",
     "text": [
      "+-------+----------+------+\n",
      "|isFraud|prediction| count|\n",
      "+-------+----------+------+\n",
      "|      1|       0.0|   275|\n",
      "|      0|       0.0|636934|\n",
      "|      1|       1.0|   530|\n",
      "|      0|       1.0|    31|\n",
      "+-------+----------+------+\n",
      "\n"
     ]
    }
   ],
   "source": [
    "prediction_DT.groupBy(\"isFraud\", \"prediction\").count().show()"
   ]
  },
  {
   "cell_type": "code",
   "execution_count": 101,
   "metadata": {},
   "outputs": [
    {
     "name": "stdout",
     "output_type": "stream",
     "text": [
      "Recall :  0.6583850931677019\n",
      "Precision :  0.9447415329768271\n",
      "F1 Score :  0.7759882869692533\n"
     ]
    }
   ],
   "source": [
    "tp = prediction_DT[(prediction_DT.isFraud == 1) & (prediction_DT.prediction == 1)].count()\n",
    "tn = prediction_DT[(prediction_DT.isFraud == 0) & (prediction_DT.prediction == 0)].count()\n",
    "fp = prediction_DT[(prediction_DT.isFraud == 0) & (prediction_DT.prediction == 1)].count()\n",
    "fn = prediction_DT[(prediction_DT.isFraud == 1) & (prediction_DT.prediction == 0)].count()\n",
    "recall_DT = tp/(tp+fn)\n",
    "precision_DT = tp/(tp+fp)\n",
    "f1_score_DT = 2*(recall_DT*precision_DT)/(recall_DT+precision_DT)\n",
    "print(\"Recall : \",recall_DT)\n",
    "print(\"Precision : \", precision_DT)\n",
    "print(\"F1 Score : \", f1_score_DT)"
   ]
  },
  {
   "cell_type": "code",
   "execution_count": 102,
   "metadata": {},
   "outputs": [
    {
     "name": "stdout",
     "output_type": "stream",
     "text": [
      "Area under ROC = 0.7885420111180382\n"
     ]
    }
   ],
   "source": [
    "# Area under ROC curve\n",
    "areaUnderROC_DT = evaluator.evaluate(prediction_DT, {evaluator.metricName: \"areaUnderROC\"})\n",
    "print(\"Area under ROC = %s\" % areaUnderROC_DT)"
   ]
  },
  {
   "cell_type": "code",
   "execution_count": 103,
   "metadata": {},
   "outputs": [
    {
     "name": "stdout",
     "output_type": "stream",
     "text": [
      "Area under PR = 0.43917590355501346\n"
     ]
    }
   ],
   "source": [
    "# Area under precision-recall curve\n",
    "areaUnderPR_DT = evaluator.evaluate(prediction_DT, {evaluator.metricName: \"areaUnderPR\"})\n",
    "print(\"Area under PR = %s\" % areaUnderPR_DT)"
   ]
  },
  {
   "cell_type": "code",
   "execution_count": 104,
   "metadata": {},
   "outputs": [
    {
     "data": {
      "text/plain": [
       "{'Logestic Regression': [0.4298136645962733,\n",
       "  0.8917525773195877,\n",
       "  0.5800502933780386,\n",
       "  0.9878424845929653,\n",
       "  0.47870897117876576],\n",
       " 'Decision Tree Classifier': [0.6583850931677019,\n",
       "  0.9447415329768271,\n",
       "  0.7759882869692533,\n",
       "  0.7885420111180382,\n",
       "  0.43917590355501346]}"
      ]
     },
     "execution_count": 104,
     "metadata": {},
     "output_type": "execute_result"
    }
   ],
   "source": [
    "results['Decision Tree Classifier'] = [recall_DT, precision_DT, f1_score_DT, areaUnderROC_DT, areaUnderPR_DT]\n",
    "results"
   ]
  },
  {
   "cell_type": "markdown",
   "metadata": {},
   "source": [
    "# Random Forest Classifier :"
   ]
  },
  {
   "cell_type": "code",
   "execution_count": 105,
   "metadata": {},
   "outputs": [],
   "source": [
    "from pyspark.ml.classification import RandomForestClassifier\n",
    "\n",
    "# Train a RandomForest model.\n",
    "rf = RandomForestClassifier(labelCol=\"isFraud\", featuresCol=\"features\", numTrees=10)\n",
    "\n",
    "rf_model = rf.fit(train)"
   ]
  },
  {
   "cell_type": "code",
   "execution_count": 106,
   "metadata": {},
   "outputs": [],
   "source": [
    "# Make predictions.\n",
    "prediction_RF = rf_model.transform(test)"
   ]
  },
  {
   "cell_type": "code",
   "execution_count": 107,
   "metadata": {},
   "outputs": [
    {
     "name": "stdout",
     "output_type": "stream",
     "text": [
      "+-------+----------+------+\n",
      "|isFraud|prediction| count|\n",
      "+-------+----------+------+\n",
      "|      1|       0.0|   450|\n",
      "|      0|       0.0|636965|\n",
      "|      1|       1.0|   355|\n",
      "+-------+----------+------+\n",
      "\n"
     ]
    }
   ],
   "source": [
    "prediction_RF.groupBy(\"isFraud\", \"prediction\").count().show()"
   ]
  },
  {
   "cell_type": "code",
   "execution_count": 108,
   "metadata": {},
   "outputs": [
    {
     "name": "stdout",
     "output_type": "stream",
     "text": [
      "Recall :  0.4409937888198758\n",
      "Precision :  1.0\n",
      "F1 Score :  0.6120689655172413\n"
     ]
    }
   ],
   "source": [
    "tp = prediction_RF[(prediction_RF.isFraud == 1) & (prediction_RF.prediction == 1)].count()\n",
    "tn = prediction_RF[(prediction_RF.isFraud == 0) & (prediction_RF.prediction == 0)].count()\n",
    "fp = prediction_RF[(prediction_RF.isFraud == 0) & (prediction_RF.prediction == 1)].count()\n",
    "fn = prediction_RF[(prediction_RF.isFraud == 1) & (prediction_RF.prediction == 0)].count()\n",
    "recall_RF = tp/(tp+fn)\n",
    "precision_RF = tp/(tp+fp)\n",
    "f1_score_RF = 2*(recall_RF*precision_RF)/(recall_RF+precision_RF)\n",
    "print(\"Recall : \",recall_RF)\n",
    "print(\"Precision : \", precision_RF)\n",
    "print(\"F1 Score : \", f1_score_RF)"
   ]
  },
  {
   "cell_type": "code",
   "execution_count": 109,
   "metadata": {},
   "outputs": [
    {
     "name": "stdout",
     "output_type": "stream",
     "text": [
      "Area under ROC = 0.9833062075770519\n"
     ]
    }
   ],
   "source": [
    "# Area under ROC curve\n",
    "areaUnderROC_RF = evaluator.evaluate(prediction_RF, {evaluator.metricName: \"areaUnderROC\"})\n",
    "print(\"Area under ROC = %s\" % areaUnderROC_RF)"
   ]
  },
  {
   "cell_type": "code",
   "execution_count": 110,
   "metadata": {},
   "outputs": [
    {
     "name": "stdout",
     "output_type": "stream",
     "text": [
      "Area under PR = 0.7391443041027936\n"
     ]
    }
   ],
   "source": [
    "# Area under precision-recall curve\n",
    "areaUnderPR_RF = evaluator.evaluate(prediction_RF, {evaluator.metricName: \"areaUnderPR\"})\n",
    "print(\"Area under PR = %s\" % areaUnderPR_RF)"
   ]
  },
  {
   "cell_type": "code",
   "execution_count": 111,
   "metadata": {},
   "outputs": [
    {
     "data": {
      "text/plain": [
       "{'Logestic Regression': [0.4298136645962733,\n",
       "  0.8917525773195877,\n",
       "  0.5800502933780386,\n",
       "  0.9878424845929653,\n",
       "  0.47870897117876576],\n",
       " 'Decision Tree Classifier': [0.6583850931677019,\n",
       "  0.9447415329768271,\n",
       "  0.7759882869692533,\n",
       "  0.7885420111180382,\n",
       "  0.43917590355501346],\n",
       " 'Random Forest Classifier': [0.4409937888198758,\n",
       "  1.0,\n",
       "  0.6120689655172413,\n",
       "  0.9833062075770519,\n",
       "  0.7391443041027936]}"
      ]
     },
     "execution_count": 111,
     "metadata": {},
     "output_type": "execute_result"
    }
   ],
   "source": [
    "results['Random Forest Classifier'] = [recall_RF, precision_RF, f1_score_RF, areaUnderROC_RF, areaUnderPR_RF]\n",
    "results"
   ]
  },
  {
   "cell_type": "markdown",
   "metadata": {},
   "source": [
    "# Gradient-Boosted Tree Classifier"
   ]
  },
  {
   "cell_type": "code",
   "execution_count": 112,
   "metadata": {},
   "outputs": [],
   "source": [
    "from pyspark.ml.classification import GBTClassifier\n",
    "\n",
    "# Train a GBT model.\n",
    "gbt = GBTClassifier(labelCol=\"isFraud\", featuresCol=\"features\", maxIter=10)\n",
    "\n",
    "# Train model. \n",
    "gbt_model = gbt.fit(train)"
   ]
  },
  {
   "cell_type": "code",
   "execution_count": 113,
   "metadata": {},
   "outputs": [],
   "source": [
    "# Make predictions.\n",
    "prediction_GBT = gbt_model.transform(test)"
   ]
  },
  {
   "cell_type": "code",
   "execution_count": 114,
   "metadata": {},
   "outputs": [
    {
     "name": "stdout",
     "output_type": "stream",
     "text": [
      "+-------+----------+------+\n",
      "|isFraud|prediction| count|\n",
      "+-------+----------+------+\n",
      "|      1|       0.0|   269|\n",
      "|      0|       0.0|636955|\n",
      "|      1|       1.0|   536|\n",
      "|      0|       1.0|    10|\n",
      "+-------+----------+------+\n",
      "\n"
     ]
    }
   ],
   "source": [
    "prediction_GBT.groupBy(\"isFraud\", \"prediction\").count().show()"
   ]
  },
  {
   "cell_type": "code",
   "execution_count": 115,
   "metadata": {},
   "outputs": [
    {
     "name": "stdout",
     "output_type": "stream",
     "text": [
      "Recall :  0.6658385093167701\n",
      "Precision :  0.9816849816849816\n",
      "F1 Score :  0.7934863064396743\n"
     ]
    }
   ],
   "source": [
    "tp = prediction_GBT[(prediction_GBT.isFraud == 1) & (prediction_GBT.prediction == 1)].count()\n",
    "tn = prediction_GBT[(prediction_GBT.isFraud == 0) & (prediction_GBT.prediction == 0)].count()\n",
    "fp = prediction_GBT[(prediction_GBT.isFraud == 0) & (prediction_GBT.prediction == 1)].count()\n",
    "fn = prediction_GBT[(prediction_GBT.isFraud == 1) & (prediction_GBT.prediction == 0)].count()\n",
    "recall_GBT = tp/(tp+fn)\n",
    "precision_GBT = tp/(tp+fp)\n",
    "f1_score_GBT = 2*(recall_GBT*precision_GBT)/(recall_GBT+precision_GBT)\n",
    "print(\"Recall : \",recall_GBT)\n",
    "print(\"Precision : \", precision_GBT)\n",
    "print(\"F1 Score : \", f1_score_GBT)"
   ]
  },
  {
   "cell_type": "code",
   "execution_count": 116,
   "metadata": {},
   "outputs": [
    {
     "name": "stdout",
     "output_type": "stream",
     "text": [
      "Area under ROC = 0.9933988825989785\n"
     ]
    }
   ],
   "source": [
    "# Area under ROC curve\n",
    "areaUnderROC_GBT = evaluator.evaluate(prediction_GBT, {evaluator.metricName: \"areaUnderROC\"})\n",
    "print(\"Area under ROC = %s\" % areaUnderROC_GBT)"
   ]
  },
  {
   "cell_type": "code",
   "execution_count": 117,
   "metadata": {},
   "outputs": [
    {
     "name": "stdout",
     "output_type": "stream",
     "text": [
      "Area under PR = 0.7939337799337051\n"
     ]
    }
   ],
   "source": [
    "# Area under precision-recall curve\n",
    "areaUnderPR_GBT = evaluator.evaluate(prediction_GBT, {evaluator.metricName: \"areaUnderPR\"})\n",
    "print(\"Area under PR = %s\" % areaUnderPR_GBT)"
   ]
  },
  {
   "cell_type": "code",
   "execution_count": 118,
   "metadata": {},
   "outputs": [
    {
     "data": {
      "text/plain": [
       "{'Logestic Regression': [0.4298136645962733,\n",
       "  0.8917525773195877,\n",
       "  0.5800502933780386,\n",
       "  0.9878424845929653,\n",
       "  0.47870897117876576],\n",
       " 'Decision Tree Classifier': [0.6583850931677019,\n",
       "  0.9447415329768271,\n",
       "  0.7759882869692533,\n",
       "  0.7885420111180382,\n",
       "  0.43917590355501346],\n",
       " 'Random Forest Classifier': [0.4409937888198758,\n",
       "  1.0,\n",
       "  0.6120689655172413,\n",
       "  0.9833062075770519,\n",
       "  0.7391443041027936],\n",
       " 'Gradient-Boosted Tree Classifier': [0.6658385093167701,\n",
       "  0.9816849816849816,\n",
       "  0.7934863064396743,\n",
       "  0.9933988825989785,\n",
       "  0.7939337799337051]}"
      ]
     },
     "execution_count": 118,
     "metadata": {},
     "output_type": "execute_result"
    }
   ],
   "source": [
    "results['Gradient-Boosted Tree Classifier'] = [recall_GBT, precision_GBT, f1_score_GBT, areaUnderROC_GBT, areaUnderPR_GBT]\n",
    "results"
   ]
  },
  {
   "cell_type": "markdown",
   "metadata": {},
   "source": [
    "# Naive Bayes"
   ]
  },
  {
   "cell_type": "code",
   "execution_count": 119,
   "metadata": {},
   "outputs": [],
   "source": [
    "from pyspark.ml.classification import NaiveBayes\n",
    "\n",
    "# create the trainer and set its parameters\n",
    "nb = NaiveBayes(labelCol=\"isFraud\", featuresCol=\"features\", smoothing=1.0, modelType=\"multinomial\")\n",
    "\n",
    "# train the model\n",
    "nb_model = nb.fit(train)"
   ]
  },
  {
   "cell_type": "code",
   "execution_count": 120,
   "metadata": {},
   "outputs": [],
   "source": [
    "# Make predictions.\n",
    "prediction_NB = nb_model.transform(test)"
   ]
  },
  {
   "cell_type": "code",
   "execution_count": 121,
   "metadata": {},
   "outputs": [
    {
     "name": "stdout",
     "output_type": "stream",
     "text": [
      "+-------+----------+------+\n",
      "|isFraud|prediction| count|\n",
      "+-------+----------+------+\n",
      "|      1|       0.0|   358|\n",
      "|      0|       0.0|597681|\n",
      "|      1|       1.0|   447|\n",
      "|      0|       1.0| 39284|\n",
      "+-------+----------+------+\n",
      "\n"
     ]
    }
   ],
   "source": [
    "prediction_NB.groupBy(\"isFraud\", \"prediction\").count().show()"
   ]
  },
  {
   "cell_type": "code",
   "execution_count": 122,
   "metadata": {},
   "outputs": [
    {
     "name": "stdout",
     "output_type": "stream",
     "text": [
      "Recall :  0.55527950310559\n",
      "Precision :  0.011250660693161512\n",
      "F1 Score :  0.022054470100651275\n"
     ]
    }
   ],
   "source": [
    "tp = prediction_NB[(prediction_NB.isFraud == 1) & (prediction_NB.prediction == 1)].count()\n",
    "tn = prediction_NB[(prediction_NB.isFraud == 0) & (prediction_NB.prediction == 0)].count()\n",
    "fp = prediction_NB[(prediction_NB.isFraud == 0) & (prediction_NB.prediction == 1)].count()\n",
    "fn = prediction_NB[(prediction_NB.isFraud == 1) & (prediction_NB.prediction == 0)].count()\n",
    "recall_NB = tp/(tp+fn)\n",
    "precision_NB = tp/(tp+fp)\n",
    "f1_score_NB = 2*(recall_NB*precision_NB)/(recall_NB+precision_NB)\n",
    "print(\"Recall : \",recall_NB)\n",
    "print(\"Precision : \", precision_NB)\n",
    "print(\"F1 Score : \", f1_score_NB)"
   ]
  },
  {
   "cell_type": "code",
   "execution_count": 123,
   "metadata": {},
   "outputs": [
    {
     "name": "stdout",
     "output_type": "stream",
     "text": [
      "Area under ROC = 0.5065029071041619\n"
     ]
    }
   ],
   "source": [
    "# Area under ROC curve\n",
    "areaUnderROC_NB = evaluator.evaluate(prediction_NB, {evaluator.metricName: \"areaUnderROC\"})\n",
    "print(\"Area under ROC = %s\" % areaUnderROC_NB)"
   ]
  },
  {
   "cell_type": "code",
   "execution_count": 124,
   "metadata": {},
   "outputs": [
    {
     "name": "stdout",
     "output_type": "stream",
     "text": [
      "Area under PR = 0.0012761425887956698\n"
     ]
    }
   ],
   "source": [
    "# Area under precision-recall curve\n",
    "areaUnderPR_NB = evaluator.evaluate(prediction_NB, {evaluator.metricName: \"areaUnderPR\"})\n",
    "print(\"Area under PR = %s\" % areaUnderPR_NB)"
   ]
  },
  {
   "cell_type": "code",
   "execution_count": 125,
   "metadata": {},
   "outputs": [
    {
     "data": {
      "text/plain": [
       "{'Logestic Regression': [0.4298136645962733,\n",
       "  0.8917525773195877,\n",
       "  0.5800502933780386,\n",
       "  0.9878424845929653,\n",
       "  0.47870897117876576],\n",
       " 'Decision Tree Classifier': [0.6583850931677019,\n",
       "  0.9447415329768271,\n",
       "  0.7759882869692533,\n",
       "  0.7885420111180382,\n",
       "  0.43917590355501346],\n",
       " 'Random Forest Classifier': [0.4409937888198758,\n",
       "  1.0,\n",
       "  0.6120689655172413,\n",
       "  0.9833062075770519,\n",
       "  0.7391443041027936],\n",
       " 'Gradient-Boosted Tree Classifier': [0.6658385093167701,\n",
       "  0.9816849816849816,\n",
       "  0.7934863064396743,\n",
       "  0.9933988825989785,\n",
       "  0.7939337799337051],\n",
       " 'Naive Bayes': [0.55527950310559,\n",
       "  0.011250660693161512,\n",
       "  0.022054470100651275,\n",
       "  0.5065029071041619,\n",
       "  0.0012761425887956698]}"
      ]
     },
     "execution_count": 125,
     "metadata": {},
     "output_type": "execute_result"
    }
   ],
   "source": [
    "results['Naive Bayes'] = [recall_NB, precision_NB, f1_score_NB, areaUnderROC_NB, areaUnderPR_NB]\n",
    "results"
   ]
  },
  {
   "cell_type": "code",
   "execution_count": 126,
   "metadata": {},
   "outputs": [],
   "source": [
    "results = pd.DataFrame.from_dict(results, orient='index',\n",
    "                       columns=['Recall', 'Precision', 'F1 Score', 'Area Under ROC', 'Area Under PR'])"
   ]
  },
  {
   "cell_type": "code",
   "execution_count": 127,
   "metadata": {},
   "outputs": [
    {
     "data": {
      "text/html": [
       "<div>\n",
       "<style scoped>\n",
       "    .dataframe tbody tr th:only-of-type {\n",
       "        vertical-align: middle;\n",
       "    }\n",
       "\n",
       "    .dataframe tbody tr th {\n",
       "        vertical-align: top;\n",
       "    }\n",
       "\n",
       "    .dataframe thead th {\n",
       "        text-align: right;\n",
       "    }\n",
       "</style>\n",
       "<table border=\"1\" class=\"dataframe\">\n",
       "  <thead>\n",
       "    <tr style=\"text-align: right;\">\n",
       "      <th></th>\n",
       "      <th>Recall</th>\n",
       "      <th>Precision</th>\n",
       "      <th>F1 Score</th>\n",
       "      <th>Area Under ROC</th>\n",
       "      <th>Area Under PR</th>\n",
       "    </tr>\n",
       "  </thead>\n",
       "  <tbody>\n",
       "    <tr>\n",
       "      <th>Logestic Regression</th>\n",
       "      <td>0.429814</td>\n",
       "      <td>0.891753</td>\n",
       "      <td>0.580050</td>\n",
       "      <td>0.987842</td>\n",
       "      <td>0.478709</td>\n",
       "    </tr>\n",
       "    <tr>\n",
       "      <th>Decision Tree Classifier</th>\n",
       "      <td>0.658385</td>\n",
       "      <td>0.944742</td>\n",
       "      <td>0.775988</td>\n",
       "      <td>0.788542</td>\n",
       "      <td>0.439176</td>\n",
       "    </tr>\n",
       "    <tr>\n",
       "      <th>Random Forest Classifier</th>\n",
       "      <td>0.440994</td>\n",
       "      <td>1.000000</td>\n",
       "      <td>0.612069</td>\n",
       "      <td>0.983306</td>\n",
       "      <td>0.739144</td>\n",
       "    </tr>\n",
       "    <tr>\n",
       "      <th>Gradient-Boosted Tree Classifier</th>\n",
       "      <td>0.665839</td>\n",
       "      <td>0.981685</td>\n",
       "      <td>0.793486</td>\n",
       "      <td>0.993399</td>\n",
       "      <td>0.793934</td>\n",
       "    </tr>\n",
       "    <tr>\n",
       "      <th>Naive Bayes</th>\n",
       "      <td>0.555280</td>\n",
       "      <td>0.011251</td>\n",
       "      <td>0.022054</td>\n",
       "      <td>0.506503</td>\n",
       "      <td>0.001276</td>\n",
       "    </tr>\n",
       "  </tbody>\n",
       "</table>\n",
       "</div>"
      ],
      "text/plain": [
       "                                    Recall  Precision  F1 Score  \\\n",
       "Logestic Regression               0.429814   0.891753  0.580050   \n",
       "Decision Tree Classifier          0.658385   0.944742  0.775988   \n",
       "Random Forest Classifier          0.440994   1.000000  0.612069   \n",
       "Gradient-Boosted Tree Classifier  0.665839   0.981685  0.793486   \n",
       "Naive Bayes                       0.555280   0.011251  0.022054   \n",
       "\n",
       "                                  Area Under ROC  Area Under PR  \n",
       "Logestic Regression                     0.987842       0.478709  \n",
       "Decision Tree Classifier                0.788542       0.439176  \n",
       "Random Forest Classifier                0.983306       0.739144  \n",
       "Gradient-Boosted Tree Classifier        0.993399       0.793934  \n",
       "Naive Bayes                             0.506503       0.001276  "
      ]
     },
     "execution_count": 127,
     "metadata": {},
     "output_type": "execute_result"
    }
   ],
   "source": [
    "results"
   ]
  },
  {
   "cell_type": "code",
   "execution_count": 37,
   "metadata": {},
   "outputs": [
    {
     "data": {
      "text/html": [
       "<div>\n",
       "<style scoped>\n",
       "    .dataframe tbody tr th:only-of-type {\n",
       "        vertical-align: middle;\n",
       "    }\n",
       "\n",
       "    .dataframe tbody tr th {\n",
       "        vertical-align: top;\n",
       "    }\n",
       "\n",
       "    .dataframe thead th {\n",
       "        text-align: right;\n",
       "    }\n",
       "</style>\n",
       "<table border=\"1\" class=\"dataframe\">\n",
       "  <thead>\n",
       "    <tr style=\"text-align: right;\">\n",
       "      <th></th>\n",
       "      <th>Unnamed: 0</th>\n",
       "      <th>Recall</th>\n",
       "      <th>Precision</th>\n",
       "      <th>F1 Score</th>\n",
       "      <th>Area Under ROC</th>\n",
       "      <th>Area Under PR</th>\n",
       "    </tr>\n",
       "  </thead>\n",
       "  <tbody>\n",
       "    <tr>\n",
       "      <th>0</th>\n",
       "      <td>Logestic Regression</td>\n",
       "      <td>0.429814</td>\n",
       "      <td>0.891753</td>\n",
       "      <td>0.580050</td>\n",
       "      <td>0.987842</td>\n",
       "      <td>0.478709</td>\n",
       "    </tr>\n",
       "    <tr>\n",
       "      <th>1</th>\n",
       "      <td>Decision Tree Classifier</td>\n",
       "      <td>0.658385</td>\n",
       "      <td>0.944742</td>\n",
       "      <td>0.775988</td>\n",
       "      <td>0.788542</td>\n",
       "      <td>0.439176</td>\n",
       "    </tr>\n",
       "    <tr>\n",
       "      <th>2</th>\n",
       "      <td>Random Forest Classifier</td>\n",
       "      <td>0.440994</td>\n",
       "      <td>1.000000</td>\n",
       "      <td>0.612069</td>\n",
       "      <td>0.983306</td>\n",
       "      <td>0.739144</td>\n",
       "    </tr>\n",
       "    <tr>\n",
       "      <th>3</th>\n",
       "      <td>Gradient-Boosted Tree Classifier</td>\n",
       "      <td>0.665839</td>\n",
       "      <td>0.981685</td>\n",
       "      <td>0.793486</td>\n",
       "      <td>0.993399</td>\n",
       "      <td>0.793934</td>\n",
       "    </tr>\n",
       "    <tr>\n",
       "      <th>4</th>\n",
       "      <td>Naive Bayes</td>\n",
       "      <td>0.555280</td>\n",
       "      <td>0.011251</td>\n",
       "      <td>0.022054</td>\n",
       "      <td>0.506503</td>\n",
       "      <td>0.001276</td>\n",
       "    </tr>\n",
       "  </tbody>\n",
       "</table>\n",
       "</div>"
      ],
      "text/plain": [
       "                         Unnamed: 0    Recall  Precision  F1 Score  \\\n",
       "0               Logestic Regression  0.429814   0.891753  0.580050   \n",
       "1          Decision Tree Classifier  0.658385   0.944742  0.775988   \n",
       "2          Random Forest Classifier  0.440994   1.000000  0.612069   \n",
       "3  Gradient-Boosted Tree Classifier  0.665839   0.981685  0.793486   \n",
       "4                       Naive Bayes  0.555280   0.011251  0.022054   \n",
       "\n",
       "   Area Under ROC  Area Under PR  \n",
       "0        0.987842       0.478709  \n",
       "1        0.788542       0.439176  \n",
       "2        0.983306       0.739144  \n",
       "3        0.993399       0.793934  \n",
       "4        0.506503       0.001276  "
      ]
     },
     "execution_count": 37,
     "metadata": {},
     "output_type": "execute_result"
    }
   ],
   "source": [
    "results.to_csv ('results.csv')\n",
    "df = pd.read_csv('results.csv')\n",
    "df"
   ]
  },
  {
   "cell_type": "code",
   "execution_count": 38,
   "metadata": {},
   "outputs": [
    {
     "data": {
      "text/html": [
       "<div>\n",
       "<style scoped>\n",
       "    .dataframe tbody tr th:only-of-type {\n",
       "        vertical-align: middle;\n",
       "    }\n",
       "\n",
       "    .dataframe tbody tr th {\n",
       "        vertical-align: top;\n",
       "    }\n",
       "\n",
       "    .dataframe thead th {\n",
       "        text-align: right;\n",
       "    }\n",
       "</style>\n",
       "<table border=\"1\" class=\"dataframe\">\n",
       "  <thead>\n",
       "    <tr style=\"text-align: right;\">\n",
       "      <th></th>\n",
       "      <th>Unnamed: 0</th>\n",
       "      <th>Recall</th>\n",
       "      <th>Precision</th>\n",
       "      <th>F1 Score</th>\n",
       "      <th>Area Under ROC</th>\n",
       "      <th>Area Under PR</th>\n",
       "    </tr>\n",
       "  </thead>\n",
       "  <tbody>\n",
       "    <tr>\n",
       "      <th>3</th>\n",
       "      <td>Gradient-Boosted Tree Classifier</td>\n",
       "      <td>0.665839</td>\n",
       "      <td>0.981685</td>\n",
       "      <td>0.793486</td>\n",
       "      <td>0.993399</td>\n",
       "      <td>0.793934</td>\n",
       "    </tr>\n",
       "    <tr>\n",
       "      <th>1</th>\n",
       "      <td>Decision Tree Classifier</td>\n",
       "      <td>0.658385</td>\n",
       "      <td>0.944742</td>\n",
       "      <td>0.775988</td>\n",
       "      <td>0.788542</td>\n",
       "      <td>0.439176</td>\n",
       "    </tr>\n",
       "    <tr>\n",
       "      <th>4</th>\n",
       "      <td>Naive Bayes</td>\n",
       "      <td>0.555280</td>\n",
       "      <td>0.011251</td>\n",
       "      <td>0.022054</td>\n",
       "      <td>0.506503</td>\n",
       "      <td>0.001276</td>\n",
       "    </tr>\n",
       "    <tr>\n",
       "      <th>2</th>\n",
       "      <td>Random Forest Classifier</td>\n",
       "      <td>0.440994</td>\n",
       "      <td>1.000000</td>\n",
       "      <td>0.612069</td>\n",
       "      <td>0.983306</td>\n",
       "      <td>0.739144</td>\n",
       "    </tr>\n",
       "    <tr>\n",
       "      <th>0</th>\n",
       "      <td>Logestic Regression</td>\n",
       "      <td>0.429814</td>\n",
       "      <td>0.891753</td>\n",
       "      <td>0.580050</td>\n",
       "      <td>0.987842</td>\n",
       "      <td>0.478709</td>\n",
       "    </tr>\n",
       "  </tbody>\n",
       "</table>\n",
       "</div>"
      ],
      "text/plain": [
       "                         Unnamed: 0    Recall  Precision  F1 Score  \\\n",
       "3  Gradient-Boosted Tree Classifier  0.665839   0.981685  0.793486   \n",
       "1          Decision Tree Classifier  0.658385   0.944742  0.775988   \n",
       "4                       Naive Bayes  0.555280   0.011251  0.022054   \n",
       "2          Random Forest Classifier  0.440994   1.000000  0.612069   \n",
       "0               Logestic Regression  0.429814   0.891753  0.580050   \n",
       "\n",
       "   Area Under ROC  Area Under PR  \n",
       "3        0.993399       0.793934  \n",
       "1        0.788542       0.439176  \n",
       "4        0.506503       0.001276  \n",
       "2        0.983306       0.739144  \n",
       "0        0.987842       0.478709  "
      ]
     },
     "execution_count": 38,
     "metadata": {},
     "output_type": "execute_result"
    }
   ],
   "source": [
    "df.sort_values([\"Recall\"], ascending=False)"
   ]
  },
  {
   "cell_type": "code",
   "execution_count": 39,
   "metadata": {},
   "outputs": [
    {
     "data": {
      "text/html": [
       "<div>\n",
       "<style scoped>\n",
       "    .dataframe tbody tr th:only-of-type {\n",
       "        vertical-align: middle;\n",
       "    }\n",
       "\n",
       "    .dataframe tbody tr th {\n",
       "        vertical-align: top;\n",
       "    }\n",
       "\n",
       "    .dataframe thead th {\n",
       "        text-align: right;\n",
       "    }\n",
       "</style>\n",
       "<table border=\"1\" class=\"dataframe\">\n",
       "  <thead>\n",
       "    <tr style=\"text-align: right;\">\n",
       "      <th></th>\n",
       "      <th>Unnamed: 0</th>\n",
       "      <th>Recall</th>\n",
       "      <th>Precision</th>\n",
       "      <th>F1 Score</th>\n",
       "      <th>Area Under ROC</th>\n",
       "      <th>Area Under PR</th>\n",
       "    </tr>\n",
       "  </thead>\n",
       "  <tbody>\n",
       "    <tr>\n",
       "      <th>2</th>\n",
       "      <td>Random Forest Classifier</td>\n",
       "      <td>0.440994</td>\n",
       "      <td>1.000000</td>\n",
       "      <td>0.612069</td>\n",
       "      <td>0.983306</td>\n",
       "      <td>0.739144</td>\n",
       "    </tr>\n",
       "    <tr>\n",
       "      <th>3</th>\n",
       "      <td>Gradient-Boosted Tree Classifier</td>\n",
       "      <td>0.665839</td>\n",
       "      <td>0.981685</td>\n",
       "      <td>0.793486</td>\n",
       "      <td>0.993399</td>\n",
       "      <td>0.793934</td>\n",
       "    </tr>\n",
       "    <tr>\n",
       "      <th>1</th>\n",
       "      <td>Decision Tree Classifier</td>\n",
       "      <td>0.658385</td>\n",
       "      <td>0.944742</td>\n",
       "      <td>0.775988</td>\n",
       "      <td>0.788542</td>\n",
       "      <td>0.439176</td>\n",
       "    </tr>\n",
       "    <tr>\n",
       "      <th>0</th>\n",
       "      <td>Logestic Regression</td>\n",
       "      <td>0.429814</td>\n",
       "      <td>0.891753</td>\n",
       "      <td>0.580050</td>\n",
       "      <td>0.987842</td>\n",
       "      <td>0.478709</td>\n",
       "    </tr>\n",
       "    <tr>\n",
       "      <th>4</th>\n",
       "      <td>Naive Bayes</td>\n",
       "      <td>0.555280</td>\n",
       "      <td>0.011251</td>\n",
       "      <td>0.022054</td>\n",
       "      <td>0.506503</td>\n",
       "      <td>0.001276</td>\n",
       "    </tr>\n",
       "  </tbody>\n",
       "</table>\n",
       "</div>"
      ],
      "text/plain": [
       "                         Unnamed: 0    Recall  Precision  F1 Score  \\\n",
       "2          Random Forest Classifier  0.440994   1.000000  0.612069   \n",
       "3  Gradient-Boosted Tree Classifier  0.665839   0.981685  0.793486   \n",
       "1          Decision Tree Classifier  0.658385   0.944742  0.775988   \n",
       "0               Logestic Regression  0.429814   0.891753  0.580050   \n",
       "4                       Naive Bayes  0.555280   0.011251  0.022054   \n",
       "\n",
       "   Area Under ROC  Area Under PR  \n",
       "2        0.983306       0.739144  \n",
       "3        0.993399       0.793934  \n",
       "1        0.788542       0.439176  \n",
       "0        0.987842       0.478709  \n",
       "4        0.506503       0.001276  "
      ]
     },
     "execution_count": 39,
     "metadata": {},
     "output_type": "execute_result"
    }
   ],
   "source": [
    "df.sort_values([\"Precision\"], ascending=False)"
   ]
  },
  {
   "cell_type": "code",
   "execution_count": 40,
   "metadata": {},
   "outputs": [
    {
     "data": {
      "text/html": [
       "<div>\n",
       "<style scoped>\n",
       "    .dataframe tbody tr th:only-of-type {\n",
       "        vertical-align: middle;\n",
       "    }\n",
       "\n",
       "    .dataframe tbody tr th {\n",
       "        vertical-align: top;\n",
       "    }\n",
       "\n",
       "    .dataframe thead th {\n",
       "        text-align: right;\n",
       "    }\n",
       "</style>\n",
       "<table border=\"1\" class=\"dataframe\">\n",
       "  <thead>\n",
       "    <tr style=\"text-align: right;\">\n",
       "      <th></th>\n",
       "      <th>Unnamed: 0</th>\n",
       "      <th>Recall</th>\n",
       "      <th>Precision</th>\n",
       "      <th>F1 Score</th>\n",
       "      <th>Area Under ROC</th>\n",
       "      <th>Area Under PR</th>\n",
       "    </tr>\n",
       "  </thead>\n",
       "  <tbody>\n",
       "    <tr>\n",
       "      <th>3</th>\n",
       "      <td>Gradient-Boosted Tree Classifier</td>\n",
       "      <td>0.665839</td>\n",
       "      <td>0.981685</td>\n",
       "      <td>0.793486</td>\n",
       "      <td>0.993399</td>\n",
       "      <td>0.793934</td>\n",
       "    </tr>\n",
       "    <tr>\n",
       "      <th>1</th>\n",
       "      <td>Decision Tree Classifier</td>\n",
       "      <td>0.658385</td>\n",
       "      <td>0.944742</td>\n",
       "      <td>0.775988</td>\n",
       "      <td>0.788542</td>\n",
       "      <td>0.439176</td>\n",
       "    </tr>\n",
       "    <tr>\n",
       "      <th>2</th>\n",
       "      <td>Random Forest Classifier</td>\n",
       "      <td>0.440994</td>\n",
       "      <td>1.000000</td>\n",
       "      <td>0.612069</td>\n",
       "      <td>0.983306</td>\n",
       "      <td>0.739144</td>\n",
       "    </tr>\n",
       "    <tr>\n",
       "      <th>0</th>\n",
       "      <td>Logestic Regression</td>\n",
       "      <td>0.429814</td>\n",
       "      <td>0.891753</td>\n",
       "      <td>0.580050</td>\n",
       "      <td>0.987842</td>\n",
       "      <td>0.478709</td>\n",
       "    </tr>\n",
       "    <tr>\n",
       "      <th>4</th>\n",
       "      <td>Naive Bayes</td>\n",
       "      <td>0.555280</td>\n",
       "      <td>0.011251</td>\n",
       "      <td>0.022054</td>\n",
       "      <td>0.506503</td>\n",
       "      <td>0.001276</td>\n",
       "    </tr>\n",
       "  </tbody>\n",
       "</table>\n",
       "</div>"
      ],
      "text/plain": [
       "                         Unnamed: 0    Recall  Precision  F1 Score  \\\n",
       "3  Gradient-Boosted Tree Classifier  0.665839   0.981685  0.793486   \n",
       "1          Decision Tree Classifier  0.658385   0.944742  0.775988   \n",
       "2          Random Forest Classifier  0.440994   1.000000  0.612069   \n",
       "0               Logestic Regression  0.429814   0.891753  0.580050   \n",
       "4                       Naive Bayes  0.555280   0.011251  0.022054   \n",
       "\n",
       "   Area Under ROC  Area Under PR  \n",
       "3        0.993399       0.793934  \n",
       "1        0.788542       0.439176  \n",
       "2        0.983306       0.739144  \n",
       "0        0.987842       0.478709  \n",
       "4        0.506503       0.001276  "
      ]
     },
     "execution_count": 40,
     "metadata": {},
     "output_type": "execute_result"
    }
   ],
   "source": [
    "df.sort_values([\"F1 Score\"], ascending=False)"
   ]
  },
  {
   "cell_type": "code",
   "execution_count": 41,
   "metadata": {},
   "outputs": [
    {
     "data": {
      "text/html": [
       "<div>\n",
       "<style scoped>\n",
       "    .dataframe tbody tr th:only-of-type {\n",
       "        vertical-align: middle;\n",
       "    }\n",
       "\n",
       "    .dataframe tbody tr th {\n",
       "        vertical-align: top;\n",
       "    }\n",
       "\n",
       "    .dataframe thead th {\n",
       "        text-align: right;\n",
       "    }\n",
       "</style>\n",
       "<table border=\"1\" class=\"dataframe\">\n",
       "  <thead>\n",
       "    <tr style=\"text-align: right;\">\n",
       "      <th></th>\n",
       "      <th>Unnamed: 0</th>\n",
       "      <th>Recall</th>\n",
       "      <th>Precision</th>\n",
       "      <th>F1 Score</th>\n",
       "      <th>Area Under ROC</th>\n",
       "      <th>Area Under PR</th>\n",
       "    </tr>\n",
       "  </thead>\n",
       "  <tbody>\n",
       "    <tr>\n",
       "      <th>3</th>\n",
       "      <td>Gradient-Boosted Tree Classifier</td>\n",
       "      <td>0.665839</td>\n",
       "      <td>0.981685</td>\n",
       "      <td>0.793486</td>\n",
       "      <td>0.993399</td>\n",
       "      <td>0.793934</td>\n",
       "    </tr>\n",
       "    <tr>\n",
       "      <th>0</th>\n",
       "      <td>Logestic Regression</td>\n",
       "      <td>0.429814</td>\n",
       "      <td>0.891753</td>\n",
       "      <td>0.580050</td>\n",
       "      <td>0.987842</td>\n",
       "      <td>0.478709</td>\n",
       "    </tr>\n",
       "    <tr>\n",
       "      <th>2</th>\n",
       "      <td>Random Forest Classifier</td>\n",
       "      <td>0.440994</td>\n",
       "      <td>1.000000</td>\n",
       "      <td>0.612069</td>\n",
       "      <td>0.983306</td>\n",
       "      <td>0.739144</td>\n",
       "    </tr>\n",
       "    <tr>\n",
       "      <th>1</th>\n",
       "      <td>Decision Tree Classifier</td>\n",
       "      <td>0.658385</td>\n",
       "      <td>0.944742</td>\n",
       "      <td>0.775988</td>\n",
       "      <td>0.788542</td>\n",
       "      <td>0.439176</td>\n",
       "    </tr>\n",
       "    <tr>\n",
       "      <th>4</th>\n",
       "      <td>Naive Bayes</td>\n",
       "      <td>0.555280</td>\n",
       "      <td>0.011251</td>\n",
       "      <td>0.022054</td>\n",
       "      <td>0.506503</td>\n",
       "      <td>0.001276</td>\n",
       "    </tr>\n",
       "  </tbody>\n",
       "</table>\n",
       "</div>"
      ],
      "text/plain": [
       "                         Unnamed: 0    Recall  Precision  F1 Score  \\\n",
       "3  Gradient-Boosted Tree Classifier  0.665839   0.981685  0.793486   \n",
       "0               Logestic Regression  0.429814   0.891753  0.580050   \n",
       "2          Random Forest Classifier  0.440994   1.000000  0.612069   \n",
       "1          Decision Tree Classifier  0.658385   0.944742  0.775988   \n",
       "4                       Naive Bayes  0.555280   0.011251  0.022054   \n",
       "\n",
       "   Area Under ROC  Area Under PR  \n",
       "3        0.993399       0.793934  \n",
       "0        0.987842       0.478709  \n",
       "2        0.983306       0.739144  \n",
       "1        0.788542       0.439176  \n",
       "4        0.506503       0.001276  "
      ]
     },
     "execution_count": 41,
     "metadata": {},
     "output_type": "execute_result"
    }
   ],
   "source": [
    "df.sort_values([\"Area Under ROC\"], ascending=False)"
   ]
  },
  {
   "cell_type": "code",
   "execution_count": 42,
   "metadata": {},
   "outputs": [
    {
     "data": {
      "text/html": [
       "<div>\n",
       "<style scoped>\n",
       "    .dataframe tbody tr th:only-of-type {\n",
       "        vertical-align: middle;\n",
       "    }\n",
       "\n",
       "    .dataframe tbody tr th {\n",
       "        vertical-align: top;\n",
       "    }\n",
       "\n",
       "    .dataframe thead th {\n",
       "        text-align: right;\n",
       "    }\n",
       "</style>\n",
       "<table border=\"1\" class=\"dataframe\">\n",
       "  <thead>\n",
       "    <tr style=\"text-align: right;\">\n",
       "      <th></th>\n",
       "      <th>Unnamed: 0</th>\n",
       "      <th>Recall</th>\n",
       "      <th>Precision</th>\n",
       "      <th>F1 Score</th>\n",
       "      <th>Area Under ROC</th>\n",
       "      <th>Area Under PR</th>\n",
       "    </tr>\n",
       "  </thead>\n",
       "  <tbody>\n",
       "    <tr>\n",
       "      <th>3</th>\n",
       "      <td>Gradient-Boosted Tree Classifier</td>\n",
       "      <td>0.665839</td>\n",
       "      <td>0.981685</td>\n",
       "      <td>0.793486</td>\n",
       "      <td>0.993399</td>\n",
       "      <td>0.793934</td>\n",
       "    </tr>\n",
       "    <tr>\n",
       "      <th>2</th>\n",
       "      <td>Random Forest Classifier</td>\n",
       "      <td>0.440994</td>\n",
       "      <td>1.000000</td>\n",
       "      <td>0.612069</td>\n",
       "      <td>0.983306</td>\n",
       "      <td>0.739144</td>\n",
       "    </tr>\n",
       "    <tr>\n",
       "      <th>0</th>\n",
       "      <td>Logestic Regression</td>\n",
       "      <td>0.429814</td>\n",
       "      <td>0.891753</td>\n",
       "      <td>0.580050</td>\n",
       "      <td>0.987842</td>\n",
       "      <td>0.478709</td>\n",
       "    </tr>\n",
       "    <tr>\n",
       "      <th>1</th>\n",
       "      <td>Decision Tree Classifier</td>\n",
       "      <td>0.658385</td>\n",
       "      <td>0.944742</td>\n",
       "      <td>0.775988</td>\n",
       "      <td>0.788542</td>\n",
       "      <td>0.439176</td>\n",
       "    </tr>\n",
       "    <tr>\n",
       "      <th>4</th>\n",
       "      <td>Naive Bayes</td>\n",
       "      <td>0.555280</td>\n",
       "      <td>0.011251</td>\n",
       "      <td>0.022054</td>\n",
       "      <td>0.506503</td>\n",
       "      <td>0.001276</td>\n",
       "    </tr>\n",
       "  </tbody>\n",
       "</table>\n",
       "</div>"
      ],
      "text/plain": [
       "                         Unnamed: 0    Recall  Precision  F1 Score  \\\n",
       "3  Gradient-Boosted Tree Classifier  0.665839   0.981685  0.793486   \n",
       "2          Random Forest Classifier  0.440994   1.000000  0.612069   \n",
       "0               Logestic Regression  0.429814   0.891753  0.580050   \n",
       "1          Decision Tree Classifier  0.658385   0.944742  0.775988   \n",
       "4                       Naive Bayes  0.555280   0.011251  0.022054   \n",
       "\n",
       "   Area Under ROC  Area Under PR  \n",
       "3        0.993399       0.793934  \n",
       "2        0.983306       0.739144  \n",
       "0        0.987842       0.478709  \n",
       "1        0.788542       0.439176  \n",
       "4        0.506503       0.001276  "
      ]
     },
     "execution_count": 42,
     "metadata": {},
     "output_type": "execute_result"
    }
   ],
   "source": [
    "df.sort_values([\"Area Under PR\"], ascending=False)"
   ]
  }
 ],
 "metadata": {
  "interpreter": {
   "hash": "b3ba2566441a7c06988d0923437866b63cedc61552a5af99d1f4fb67d367b25f"
  },
  "kernelspec": {
   "display_name": "Python 3",
   "language": "python",
   "name": "python3"
  },
  "language_info": {
   "codemirror_mode": {
    "name": "ipython",
    "version": 3
   },
   "file_extension": ".py",
   "mimetype": "text/x-python",
   "name": "python",
   "nbconvert_exporter": "python",
   "pygments_lexer": "ipython3",
   "version": "3.8.3"
  },
  "metadata": {
   "interpreter": {
    "hash": "31f2aee4e71d21fbe5cf8b01ff0e069b9275f58929596ceb00d14d90e3e16cd6"
   }
  }
 },
 "nbformat": 4,
 "nbformat_minor": 2
}
